{
 "cells": [
  {
   "cell_type": "markdown",
   "metadata": {},
   "source": [
    "# Single Session"
   ]
  },
  {
   "cell_type": "code",
   "execution_count": 1,
   "metadata": {},
   "outputs": [],
   "source": [
    "import pandas as pd\n",
    "import numpy as np\n",
    "import altair as alt\n",
    "from IPython.display import HTML"
   ]
  },
  {
   "cell_type": "code",
   "execution_count": 2,
   "metadata": {},
   "outputs": [],
   "source": [
    "df = pd.read_csv('Data/no_attr/test_results/all_results_topk_3.csv')\n",
    "df.method = df.method.apply(lambda x: '  '+x.upper() if (x != 'Knn') & (x != 'Mmr') else ' '+x.upper() if x == 'Mmr'\n",
    "                            else x.upper())\n",
    "\n",
    "df2 = df[df.method == 'KNN']\n",
    "df = df[df.method != 'KNN']\n",
    "\n",
    "df2.diversity = df2.diversity.apply(lambda x: str([float(x),0,0]))\n",
    "df = pd.concat([df,df2])"
   ]
  },
  {
   "cell_type": "code",
   "execution_count": 3,
   "metadata": {},
   "outputs": [],
   "source": [
    "df_3 = pd.DataFrame()\n",
    "\n",
    "for i in range(3): #3 number of sessions\n",
    "    \n",
    "    df_2 = df.copy()\n",
    "    df_2['sess'] = i\n",
    "        \n",
    "    for idx, col in enumerate(['precision','recall','diversity','alpha_ndcg']):\n",
    "        aa = list(df[col].apply(lambda x: x.split('[')[1].split(']')[0].split(',')))\n",
    "        aa = np.array(aa)\n",
    "    \n",
    "        df_2[col] = aa[:,i]\n",
    "        df_2[col] = df_2[col].astype(float)\n",
    "            \n",
    "    if i == 0 and idx == 0:\n",
    "        df_3 = df_2\n",
    "    else:\n",
    "        df_3 = pd.concat([df_3,df_2])\n",
    "        \n",
    "df = df.drop(columns=['precision','recall','diversity','alpha_ndcg'])"
   ]
  },
  {
   "cell_type": "code",
   "execution_count": 4,
   "metadata": {},
   "outputs": [],
   "source": [
    "df = df.merge(df_3,on=['method','nb_attributes','time','attr_precision'])\n",
    "df = df.drop_duplicates()\n",
    "\n",
    "for i in range(aa.shape[1]):\n",
    "    df[f'harmo'] = df[f'precision']+df[f'diversity']\n",
    "    df[f'harmo'] = (2*df[f'precision']*df[f'diversity'])/df[f'harmo']\n",
    "    \n",
    "df = df.groupby(['method','nb_attributes','sess']).mean().reset_index()\n",
    "df = df[df.method.isin(['  SMORL_0.003_100_64',' MMR','  SWAP','KNN'])]\n",
    "\n",
    "df = df.replace({'  SMORL_0.003_100_64':'  SMORL'})"
   ]
  },
  {
   "cell_type": "markdown",
   "metadata": {},
   "source": [
    "Time"
   ]
  },
  {
   "cell_type": "code",
   "execution_count": 5,
   "metadata": {},
   "outputs": [],
   "source": [
    "wdth = 550\n",
    "heit = 250\n",
    "\n",
    "graph_time = alt.Chart(df[(df.method != 'KNN') & (df.sess == 0)]).\\\n",
    "                mark_line(interpolate='basis',strokeWidth=3).encode(\n",
    "    \n",
    "    alt.X('nb_attributes:N', axis=alt.Axis(title=\"#Attributes\",\n",
    "                                             labelFontSize=19,\n",
    "                                             labelAngle=0,\n",
    "                                             titleFontSize=19)),\n",
    "\n",
    "        alt.Y('time', axis=alt.Axis(title=\"Response Time (sec - Logsclae)\",tickCount=3,\n",
    "                                         labelFontSize=19,\n",
    "                                         titleFontSize=19,),\n",
    "              scale=alt.Scale(type=\"log\")),\n",
    "    \n",
    "    color=alt.Color('method',title='', legend=None),\n",
    "    strokeDash=alt.StrokeDash('method',title='')\n",
    ").properties(\n",
    "    width = wdth,\n",
    "    height = heit\n",
    ")"
   ]
  },
  {
   "cell_type": "code",
   "execution_count": 6,
   "metadata": {},
   "outputs": [
    {
     "data": {
      "text/html": [
       "\n",
       "<div id=\"altair-viz-734ebb9a05d14ea1b6cb7aaa03116117\"></div>\n",
       "<script type=\"text/javascript\">\n",
       "  (function(spec, embedOpt){\n",
       "    let outputDiv = document.currentScript.previousElementSibling;\n",
       "    if (outputDiv.id !== \"altair-viz-734ebb9a05d14ea1b6cb7aaa03116117\") {\n",
       "      outputDiv = document.getElementById(\"altair-viz-734ebb9a05d14ea1b6cb7aaa03116117\");\n",
       "    }\n",
       "    const paths = {\n",
       "      \"vega\": \"https://cdn.jsdelivr.net/npm//vega@5?noext\",\n",
       "      \"vega-lib\": \"https://cdn.jsdelivr.net/npm//vega-lib?noext\",\n",
       "      \"vega-lite\": \"https://cdn.jsdelivr.net/npm//vega-lite@4.8.1?noext\",\n",
       "      \"vega-embed\": \"https://cdn.jsdelivr.net/npm//vega-embed@6?noext\",\n",
       "    };\n",
       "\n",
       "    function loadScript(lib) {\n",
       "      return new Promise(function(resolve, reject) {\n",
       "        var s = document.createElement('script');\n",
       "        s.src = paths[lib];\n",
       "        s.async = true;\n",
       "        s.onload = () => resolve(paths[lib]);\n",
       "        s.onerror = () => reject(`Error loading script: ${paths[lib]}`);\n",
       "        document.getElementsByTagName(\"head\")[0].appendChild(s);\n",
       "      });\n",
       "    }\n",
       "\n",
       "    function showError(err) {\n",
       "      outputDiv.innerHTML = `<div class=\"error\" style=\"color:red;\">${err}</div>`;\n",
       "      throw err;\n",
       "    }\n",
       "\n",
       "    function displayChart(vegaEmbed) {\n",
       "      vegaEmbed(outputDiv, spec, embedOpt)\n",
       "        .catch(err => showError(`Javascript Error: ${err.message}<br>This usually means there's a typo in your chart specification. See the javascript console for the full traceback.`));\n",
       "    }\n",
       "\n",
       "    if(typeof define === \"function\" && define.amd) {\n",
       "      requirejs.config({paths});\n",
       "      require([\"vega-embed\"], displayChart, err => showError(`Error loading script: ${err.message}`));\n",
       "    } else if (typeof vegaEmbed === \"function\") {\n",
       "      displayChart(vegaEmbed);\n",
       "    } else {\n",
       "      loadScript(\"vega\")\n",
       "        .then(() => loadScript(\"vega-lite\"))\n",
       "        .then(() => loadScript(\"vega-embed\"))\n",
       "        .catch(showError)\n",
       "        .then(() => displayChart(vegaEmbed));\n",
       "    }\n",
       "  })({\"config\": {\"view\": {\"continuousWidth\": 400, \"continuousHeight\": 300}}, \"data\": {\"name\": \"data-951131a9b0b9f2f1582ca1c13040e31a\"}, \"mark\": {\"type\": \"line\", \"interpolate\": \"basis\", \"strokeWidth\": 3}, \"encoding\": {\"color\": {\"type\": \"nominal\", \"field\": \"method\", \"legend\": null, \"title\": \"\"}, \"strokeDash\": {\"type\": \"nominal\", \"field\": \"method\", \"title\": \"\"}, \"x\": {\"type\": \"nominal\", \"axis\": {\"labelAngle\": 0, \"labelFontSize\": 19, \"title\": \"#Attributes\", \"titleFontSize\": 19}, \"field\": \"nb_attributes\"}, \"y\": {\"type\": \"quantitative\", \"axis\": {\"labelFontSize\": 19, \"tickCount\": 3, \"title\": \"Response Time (sec - Logsclae)\", \"titleFontSize\": 19}, \"field\": \"time\", \"scale\": {\"type\": \"log\"}}}, \"height\": 250, \"width\": 550, \"$schema\": \"https://vega.github.io/schema/vega-lite/v4.8.1.json\", \"datasets\": {\"data-951131a9b0b9f2f1582ca1c13040e31a\": [{\"method\": \"  SMORL\", \"nb_attributes\": 5, \"sess\": 0, \"time\": 0.0256008823712666, \"attr_precision\": 0.0, \"precision\": 0.5333333333333333, \"recall\": 0.17857142857142858, \"diversity\": 0.5025825456927223, \"alpha_ndcg\": 1.1520009528722488, \"harmo\": 0.5175015265167299}, {\"method\": \"  SMORL\", \"nb_attributes\": 15, \"sess\": 0, \"time\": 0.0254356221357981, \"attr_precision\": 0.0, \"precision\": 0.7666666666666668, \"recall\": 0.25555555555555554, \"diversity\": 0.499382013519605, \"alpha_ndcg\": 2.3409384253560406, \"harmo\": 0.6048101462291866}, {\"method\": \"  SMORL\", \"nb_attributes\": 25, \"sess\": 0, \"time\": 0.0263728749752044, \"attr_precision\": 0.0, \"precision\": 0.7333333333333335, \"recall\": 0.24444444444444444, \"diversity\": 0.5047751984298218, \"alpha_ndcg\": 1.8687561484251007, \"harmo\": 0.5979580454411207}, {\"method\": \"  SMORL\", \"nb_attributes\": 35, \"sess\": 0, \"time\": 0.0270932976404825, \"attr_precision\": 0.0, \"precision\": 0.5333333333333335, \"recall\": 0.17777777777777778, \"diversity\": 0.4992298876146438, \"alpha_ndcg\": 1.2927376098744252, \"harmo\": 0.5157184270357776}, {\"method\": \"  SMORL\", \"nb_attributes\": 100, \"sess\": 0, \"time\": 0.0268633600076039, \"attr_precision\": 0.0, \"precision\": 0.5333333333333334, \"recall\": 0.17777777777777778, \"diversity\": 0.5139647466391333, \"alpha_ndcg\": 1.4972805855720162, \"harmo\": 0.5234699399966006}, {\"method\": \"  SWAP\", \"nb_attributes\": 5, \"sess\": 0, \"time\": 0.0758011889457702, \"attr_precision\": 0.0, \"precision\": 0.9333333333333333, \"recall\": 0.31269841269841264, \"diversity\": 0.5238109586040194, \"alpha_ndcg\": 2.6618862189286596, \"harmo\": 0.6710251424454498}, {\"method\": \"  SWAP\", \"nb_attributes\": 15, \"sess\": 0, \"time\": 0.2151291267077128, \"attr_precision\": 0.0, \"precision\": 0.8, \"recall\": 0.26666666666666666, \"diversity\": 0.533379882633689, \"alpha_ndcg\": 2.3657238110856165, \"harmo\": 0.6400335143262047}, {\"method\": \"  SWAP\", \"nb_attributes\": 25, \"sess\": 0, \"time\": 0.3530483396848042, \"attr_precision\": 0.0, \"precision\": 0.5333333333333333, \"recall\": 0.17777777777777778, \"diversity\": 0.5355954945087433, \"alpha_ndcg\": 1.2428592226387696, \"harmo\": 0.5344620202288437}, {\"method\": \"  SWAP\", \"nb_attributes\": 35, \"sess\": 0, \"time\": 0.4915308292706807, \"attr_precision\": 0.0, \"precision\": 0.4, \"recall\": 0.13333333333333333, \"diversity\": 0.5335382047792265, \"alpha_ndcg\": 1.0469983946985666, \"harmo\": 0.4572180995252603}, {\"method\": \"  SWAP\", \"nb_attributes\": 100, \"sess\": 0, \"time\": 1.3910868779818215, \"attr_precision\": 0.0, \"precision\": 0.4, \"recall\": 0.13333333333333333, \"diversity\": 0.5393042692144723, \"alpha_ndcg\": 1.0191139439586887, \"harmo\": 0.4593223192016238}, {\"method\": \" MMR\", \"nb_attributes\": 5, \"sess\": 0, \"time\": 3.3308542052904766, \"attr_precision\": 0.0, \"precision\": 0.06666666666666667, \"recall\": 0.022222222222222223, \"diversity\": 0.5609260832468663, \"alpha_ndcg\": 0.3333333333333333, \"harmo\": 0.11916986683357922}, {\"method\": \" MMR\", \"nb_attributes\": 15, \"sess\": 0, \"time\": 10.09200492223104, \"attr_precision\": 0.0, \"precision\": 0.13333333333333333, \"recall\": 0.044444444444444446, \"diversity\": 0.5677815952897085, \"alpha_ndcg\": 0.6666666666666666, \"harmo\": 0.21595378907128432}, {\"method\": \" MMR\", \"nb_attributes\": 25, \"sess\": 0, \"time\": 16.72723437229792, \"attr_precision\": 0.0, \"precision\": 0.2, \"recall\": 0.06666666666666667, \"diversity\": 0.5696005107959118, \"alpha_ndcg\": 0.6872021038816168, \"harmo\": 0.29604996504320796}, {\"method\": \" MMR\", \"nb_attributes\": 35, \"sess\": 0, \"time\": 23.39348966439565, \"attr_precision\": 0.0, \"precision\": 0.0, \"recall\": 0.0, \"diversity\": 0.5657353329459802, \"alpha_ndcg\": 0.0, \"harmo\": 0.0}, {\"method\": \" MMR\", \"nb_attributes\": 100, \"sess\": 0, \"time\": 66.21527127027511, \"attr_precision\": 0.0, \"precision\": 0.06666666666666667, \"recall\": 0.022222222222222223, \"diversity\": 0.5695526611606299, \"alpha_ndcg\": 0.3333333333333333, \"harmo\": 0.1193619110578664}]}}, {\"mode\": \"vega-lite\"});\n",
       "</script>"
      ],
      "text/plain": [
       "alt.Chart(...)"
      ]
     },
     "execution_count": 6,
     "metadata": {},
     "output_type": "execute_result"
    }
   ],
   "source": [
    "graph_time"
   ]
  },
  {
   "cell_type": "markdown",
   "metadata": {},
   "source": [
    "Diversity"
   ]
  },
  {
   "cell_type": "code",
   "execution_count": 7,
   "metadata": {},
   "outputs": [],
   "source": [
    "wdth = 550\n",
    "heit = 250\n",
    "\n",
    "graph_div = alt.Chart(df[(df.method != 'KNN') & (df.sess == 0)]).\\\n",
    "                mark_line(interpolate='basis',strokeWidth=3).encode(\n",
    "    \n",
    "    alt.X('nb_attributes:N', axis=alt.Axis(title=\"#Attributes\",\n",
    "                                             labelFontSize=19,\n",
    "                                             labelAngle=0,\n",
    "                                             titleFontSize=19)),\n",
    "\n",
    "        alt.Y('diversity', axis=alt.Axis(title=\"Intra Diversity\",\n",
    "                                         labelFontSize=19,\n",
    "                                         titleFontSize=19),\n",
    "              scale=alt.Scale(zero=False)),\n",
    "    \n",
    "    \n",
    "    color=alt.Color('method',title='', legend=None),\n",
    "    strokeDash=alt.StrokeDash('method',title='')\n",
    ").properties(\n",
    "    width = wdth,\n",
    "    height = heit\n",
    ")"
   ]
  },
  {
   "cell_type": "code",
   "execution_count": 8,
   "metadata": {},
   "outputs": [
    {
     "data": {
      "text/html": [
       "\n",
       "<div id=\"altair-viz-0bd2fdc1eb5c4a1f9ea8237833468c61\"></div>\n",
       "<script type=\"text/javascript\">\n",
       "  (function(spec, embedOpt){\n",
       "    let outputDiv = document.currentScript.previousElementSibling;\n",
       "    if (outputDiv.id !== \"altair-viz-0bd2fdc1eb5c4a1f9ea8237833468c61\") {\n",
       "      outputDiv = document.getElementById(\"altair-viz-0bd2fdc1eb5c4a1f9ea8237833468c61\");\n",
       "    }\n",
       "    const paths = {\n",
       "      \"vega\": \"https://cdn.jsdelivr.net/npm//vega@5?noext\",\n",
       "      \"vega-lib\": \"https://cdn.jsdelivr.net/npm//vega-lib?noext\",\n",
       "      \"vega-lite\": \"https://cdn.jsdelivr.net/npm//vega-lite@4.8.1?noext\",\n",
       "      \"vega-embed\": \"https://cdn.jsdelivr.net/npm//vega-embed@6?noext\",\n",
       "    };\n",
       "\n",
       "    function loadScript(lib) {\n",
       "      return new Promise(function(resolve, reject) {\n",
       "        var s = document.createElement('script');\n",
       "        s.src = paths[lib];\n",
       "        s.async = true;\n",
       "        s.onload = () => resolve(paths[lib]);\n",
       "        s.onerror = () => reject(`Error loading script: ${paths[lib]}`);\n",
       "        document.getElementsByTagName(\"head\")[0].appendChild(s);\n",
       "      });\n",
       "    }\n",
       "\n",
       "    function showError(err) {\n",
       "      outputDiv.innerHTML = `<div class=\"error\" style=\"color:red;\">${err}</div>`;\n",
       "      throw err;\n",
       "    }\n",
       "\n",
       "    function displayChart(vegaEmbed) {\n",
       "      vegaEmbed(outputDiv, spec, embedOpt)\n",
       "        .catch(err => showError(`Javascript Error: ${err.message}<br>This usually means there's a typo in your chart specification. See the javascript console for the full traceback.`));\n",
       "    }\n",
       "\n",
       "    if(typeof define === \"function\" && define.amd) {\n",
       "      requirejs.config({paths});\n",
       "      require([\"vega-embed\"], displayChart, err => showError(`Error loading script: ${err.message}`));\n",
       "    } else if (typeof vegaEmbed === \"function\") {\n",
       "      displayChart(vegaEmbed);\n",
       "    } else {\n",
       "      loadScript(\"vega\")\n",
       "        .then(() => loadScript(\"vega-lite\"))\n",
       "        .then(() => loadScript(\"vega-embed\"))\n",
       "        .catch(showError)\n",
       "        .then(() => displayChart(vegaEmbed));\n",
       "    }\n",
       "  })({\"config\": {\"view\": {\"continuousWidth\": 400, \"continuousHeight\": 300}}, \"data\": {\"name\": \"data-951131a9b0b9f2f1582ca1c13040e31a\"}, \"mark\": {\"type\": \"line\", \"interpolate\": \"basis\", \"strokeWidth\": 3}, \"encoding\": {\"color\": {\"type\": \"nominal\", \"field\": \"method\", \"legend\": null, \"title\": \"\"}, \"strokeDash\": {\"type\": \"nominal\", \"field\": \"method\", \"title\": \"\"}, \"x\": {\"type\": \"nominal\", \"axis\": {\"labelAngle\": 0, \"labelFontSize\": 19, \"title\": \"#Attributes\", \"titleFontSize\": 19}, \"field\": \"nb_attributes\"}, \"y\": {\"type\": \"quantitative\", \"axis\": {\"labelFontSize\": 19, \"title\": \"Intra Diversity\", \"titleFontSize\": 19}, \"field\": \"diversity\", \"scale\": {\"zero\": false}}}, \"height\": 250, \"width\": 550, \"$schema\": \"https://vega.github.io/schema/vega-lite/v4.8.1.json\", \"datasets\": {\"data-951131a9b0b9f2f1582ca1c13040e31a\": [{\"method\": \"  SMORL\", \"nb_attributes\": 5, \"sess\": 0, \"time\": 0.0256008823712666, \"attr_precision\": 0.0, \"precision\": 0.5333333333333333, \"recall\": 0.17857142857142858, \"diversity\": 0.5025825456927223, \"alpha_ndcg\": 1.1520009528722488, \"harmo\": 0.5175015265167299}, {\"method\": \"  SMORL\", \"nb_attributes\": 15, \"sess\": 0, \"time\": 0.0254356221357981, \"attr_precision\": 0.0, \"precision\": 0.7666666666666668, \"recall\": 0.25555555555555554, \"diversity\": 0.499382013519605, \"alpha_ndcg\": 2.3409384253560406, \"harmo\": 0.6048101462291866}, {\"method\": \"  SMORL\", \"nb_attributes\": 25, \"sess\": 0, \"time\": 0.0263728749752044, \"attr_precision\": 0.0, \"precision\": 0.7333333333333335, \"recall\": 0.24444444444444444, \"diversity\": 0.5047751984298218, \"alpha_ndcg\": 1.8687561484251007, \"harmo\": 0.5979580454411207}, {\"method\": \"  SMORL\", \"nb_attributes\": 35, \"sess\": 0, \"time\": 0.0270932976404825, \"attr_precision\": 0.0, \"precision\": 0.5333333333333335, \"recall\": 0.17777777777777778, \"diversity\": 0.4992298876146438, \"alpha_ndcg\": 1.2927376098744252, \"harmo\": 0.5157184270357776}, {\"method\": \"  SMORL\", \"nb_attributes\": 100, \"sess\": 0, \"time\": 0.0268633600076039, \"attr_precision\": 0.0, \"precision\": 0.5333333333333334, \"recall\": 0.17777777777777778, \"diversity\": 0.5139647466391333, \"alpha_ndcg\": 1.4972805855720162, \"harmo\": 0.5234699399966006}, {\"method\": \"  SWAP\", \"nb_attributes\": 5, \"sess\": 0, \"time\": 0.0758011889457702, \"attr_precision\": 0.0, \"precision\": 0.9333333333333333, \"recall\": 0.31269841269841264, \"diversity\": 0.5238109586040194, \"alpha_ndcg\": 2.6618862189286596, \"harmo\": 0.6710251424454498}, {\"method\": \"  SWAP\", \"nb_attributes\": 15, \"sess\": 0, \"time\": 0.2151291267077128, \"attr_precision\": 0.0, \"precision\": 0.8, \"recall\": 0.26666666666666666, \"diversity\": 0.533379882633689, \"alpha_ndcg\": 2.3657238110856165, \"harmo\": 0.6400335143262047}, {\"method\": \"  SWAP\", \"nb_attributes\": 25, \"sess\": 0, \"time\": 0.3530483396848042, \"attr_precision\": 0.0, \"precision\": 0.5333333333333333, \"recall\": 0.17777777777777778, \"diversity\": 0.5355954945087433, \"alpha_ndcg\": 1.2428592226387696, \"harmo\": 0.5344620202288437}, {\"method\": \"  SWAP\", \"nb_attributes\": 35, \"sess\": 0, \"time\": 0.4915308292706807, \"attr_precision\": 0.0, \"precision\": 0.4, \"recall\": 0.13333333333333333, \"diversity\": 0.5335382047792265, \"alpha_ndcg\": 1.0469983946985666, \"harmo\": 0.4572180995252603}, {\"method\": \"  SWAP\", \"nb_attributes\": 100, \"sess\": 0, \"time\": 1.3910868779818215, \"attr_precision\": 0.0, \"precision\": 0.4, \"recall\": 0.13333333333333333, \"diversity\": 0.5393042692144723, \"alpha_ndcg\": 1.0191139439586887, \"harmo\": 0.4593223192016238}, {\"method\": \" MMR\", \"nb_attributes\": 5, \"sess\": 0, \"time\": 3.3308542052904766, \"attr_precision\": 0.0, \"precision\": 0.06666666666666667, \"recall\": 0.022222222222222223, \"diversity\": 0.5609260832468663, \"alpha_ndcg\": 0.3333333333333333, \"harmo\": 0.11916986683357922}, {\"method\": \" MMR\", \"nb_attributes\": 15, \"sess\": 0, \"time\": 10.09200492223104, \"attr_precision\": 0.0, \"precision\": 0.13333333333333333, \"recall\": 0.044444444444444446, \"diversity\": 0.5677815952897085, \"alpha_ndcg\": 0.6666666666666666, \"harmo\": 0.21595378907128432}, {\"method\": \" MMR\", \"nb_attributes\": 25, \"sess\": 0, \"time\": 16.72723437229792, \"attr_precision\": 0.0, \"precision\": 0.2, \"recall\": 0.06666666666666667, \"diversity\": 0.5696005107959118, \"alpha_ndcg\": 0.6872021038816168, \"harmo\": 0.29604996504320796}, {\"method\": \" MMR\", \"nb_attributes\": 35, \"sess\": 0, \"time\": 23.39348966439565, \"attr_precision\": 0.0, \"precision\": 0.0, \"recall\": 0.0, \"diversity\": 0.5657353329459802, \"alpha_ndcg\": 0.0, \"harmo\": 0.0}, {\"method\": \" MMR\", \"nb_attributes\": 100, \"sess\": 0, \"time\": 66.21527127027511, \"attr_precision\": 0.0, \"precision\": 0.06666666666666667, \"recall\": 0.022222222222222223, \"diversity\": 0.5695526611606299, \"alpha_ndcg\": 0.3333333333333333, \"harmo\": 0.1193619110578664}]}}, {\"mode\": \"vega-lite\"});\n",
       "</script>"
      ],
      "text/plain": [
       "alt.Chart(...)"
      ]
     },
     "execution_count": 8,
     "metadata": {},
     "output_type": "execute_result"
    }
   ],
   "source": [
    "graph_div"
   ]
  },
  {
   "cell_type": "markdown",
   "metadata": {},
   "source": [
    "Precision"
   ]
  },
  {
   "cell_type": "code",
   "execution_count": 9,
   "metadata": {},
   "outputs": [],
   "source": [
    "wdth = 550\n",
    "heit = 250\n",
    "\n",
    "graph_prec = alt.Chart(df[(df.method != 'KNN') & (df.sess == 0)]).\\\n",
    "            mark_line(interpolate='basis',strokeWidth=3).encode(\n",
    "    \n",
    "    alt.X('nb_attributes:N', axis=alt.Axis(title=\"#Attributes\",\n",
    "                                             labelFontSize=19,\n",
    "                                             labelAngle=0,\n",
    "                                             titleFontSize=19)),\n",
    "\n",
    "        alt.Y('precision', axis=alt.Axis(title=\"Precision\",\n",
    "                                         labelFontSize=19,\n",
    "                                         titleFontSize=19),\n",
    "              scale=alt.Scale(zero=False)),\n",
    "    \n",
    "    color=alt.Color('method',title='', legend=None),\n",
    "    strokeDash=alt.StrokeDash('method',title='')\n",
    ").properties(\n",
    "    width = wdth,\n",
    "    height = heit\n",
    ")"
   ]
  },
  {
   "cell_type": "code",
   "execution_count": 10,
   "metadata": {},
   "outputs": [
    {
     "data": {
      "text/html": [
       "\n",
       "<div id=\"altair-viz-c3d34b13fe924a68afa296f5651284d7\"></div>\n",
       "<script type=\"text/javascript\">\n",
       "  (function(spec, embedOpt){\n",
       "    let outputDiv = document.currentScript.previousElementSibling;\n",
       "    if (outputDiv.id !== \"altair-viz-c3d34b13fe924a68afa296f5651284d7\") {\n",
       "      outputDiv = document.getElementById(\"altair-viz-c3d34b13fe924a68afa296f5651284d7\");\n",
       "    }\n",
       "    const paths = {\n",
       "      \"vega\": \"https://cdn.jsdelivr.net/npm//vega@5?noext\",\n",
       "      \"vega-lib\": \"https://cdn.jsdelivr.net/npm//vega-lib?noext\",\n",
       "      \"vega-lite\": \"https://cdn.jsdelivr.net/npm//vega-lite@4.8.1?noext\",\n",
       "      \"vega-embed\": \"https://cdn.jsdelivr.net/npm//vega-embed@6?noext\",\n",
       "    };\n",
       "\n",
       "    function loadScript(lib) {\n",
       "      return new Promise(function(resolve, reject) {\n",
       "        var s = document.createElement('script');\n",
       "        s.src = paths[lib];\n",
       "        s.async = true;\n",
       "        s.onload = () => resolve(paths[lib]);\n",
       "        s.onerror = () => reject(`Error loading script: ${paths[lib]}`);\n",
       "        document.getElementsByTagName(\"head\")[0].appendChild(s);\n",
       "      });\n",
       "    }\n",
       "\n",
       "    function showError(err) {\n",
       "      outputDiv.innerHTML = `<div class=\"error\" style=\"color:red;\">${err}</div>`;\n",
       "      throw err;\n",
       "    }\n",
       "\n",
       "    function displayChart(vegaEmbed) {\n",
       "      vegaEmbed(outputDiv, spec, embedOpt)\n",
       "        .catch(err => showError(`Javascript Error: ${err.message}<br>This usually means there's a typo in your chart specification. See the javascript console for the full traceback.`));\n",
       "    }\n",
       "\n",
       "    if(typeof define === \"function\" && define.amd) {\n",
       "      requirejs.config({paths});\n",
       "      require([\"vega-embed\"], displayChart, err => showError(`Error loading script: ${err.message}`));\n",
       "    } else if (typeof vegaEmbed === \"function\") {\n",
       "      displayChart(vegaEmbed);\n",
       "    } else {\n",
       "      loadScript(\"vega\")\n",
       "        .then(() => loadScript(\"vega-lite\"))\n",
       "        .then(() => loadScript(\"vega-embed\"))\n",
       "        .catch(showError)\n",
       "        .then(() => displayChart(vegaEmbed));\n",
       "    }\n",
       "  })({\"config\": {\"view\": {\"continuousWidth\": 400, \"continuousHeight\": 300}}, \"data\": {\"name\": \"data-951131a9b0b9f2f1582ca1c13040e31a\"}, \"mark\": {\"type\": \"line\", \"interpolate\": \"basis\", \"strokeWidth\": 3}, \"encoding\": {\"color\": {\"type\": \"nominal\", \"field\": \"method\", \"legend\": null, \"title\": \"\"}, \"strokeDash\": {\"type\": \"nominal\", \"field\": \"method\", \"title\": \"\"}, \"x\": {\"type\": \"nominal\", \"axis\": {\"labelAngle\": 0, \"labelFontSize\": 19, \"title\": \"#Attributes\", \"titleFontSize\": 19}, \"field\": \"nb_attributes\"}, \"y\": {\"type\": \"quantitative\", \"axis\": {\"labelFontSize\": 19, \"title\": \"Precision\", \"titleFontSize\": 19}, \"field\": \"precision\", \"scale\": {\"zero\": false}}}, \"height\": 250, \"width\": 550, \"$schema\": \"https://vega.github.io/schema/vega-lite/v4.8.1.json\", \"datasets\": {\"data-951131a9b0b9f2f1582ca1c13040e31a\": [{\"method\": \"  SMORL\", \"nb_attributes\": 5, \"sess\": 0, \"time\": 0.0256008823712666, \"attr_precision\": 0.0, \"precision\": 0.5333333333333333, \"recall\": 0.17857142857142858, \"diversity\": 0.5025825456927223, \"alpha_ndcg\": 1.1520009528722488, \"harmo\": 0.5175015265167299}, {\"method\": \"  SMORL\", \"nb_attributes\": 15, \"sess\": 0, \"time\": 0.0254356221357981, \"attr_precision\": 0.0, \"precision\": 0.7666666666666668, \"recall\": 0.25555555555555554, \"diversity\": 0.499382013519605, \"alpha_ndcg\": 2.3409384253560406, \"harmo\": 0.6048101462291866}, {\"method\": \"  SMORL\", \"nb_attributes\": 25, \"sess\": 0, \"time\": 0.0263728749752044, \"attr_precision\": 0.0, \"precision\": 0.7333333333333335, \"recall\": 0.24444444444444444, \"diversity\": 0.5047751984298218, \"alpha_ndcg\": 1.8687561484251007, \"harmo\": 0.5979580454411207}, {\"method\": \"  SMORL\", \"nb_attributes\": 35, \"sess\": 0, \"time\": 0.0270932976404825, \"attr_precision\": 0.0, \"precision\": 0.5333333333333335, \"recall\": 0.17777777777777778, \"diversity\": 0.4992298876146438, \"alpha_ndcg\": 1.2927376098744252, \"harmo\": 0.5157184270357776}, {\"method\": \"  SMORL\", \"nb_attributes\": 100, \"sess\": 0, \"time\": 0.0268633600076039, \"attr_precision\": 0.0, \"precision\": 0.5333333333333334, \"recall\": 0.17777777777777778, \"diversity\": 0.5139647466391333, \"alpha_ndcg\": 1.4972805855720162, \"harmo\": 0.5234699399966006}, {\"method\": \"  SWAP\", \"nb_attributes\": 5, \"sess\": 0, \"time\": 0.0758011889457702, \"attr_precision\": 0.0, \"precision\": 0.9333333333333333, \"recall\": 0.31269841269841264, \"diversity\": 0.5238109586040194, \"alpha_ndcg\": 2.6618862189286596, \"harmo\": 0.6710251424454498}, {\"method\": \"  SWAP\", \"nb_attributes\": 15, \"sess\": 0, \"time\": 0.2151291267077128, \"attr_precision\": 0.0, \"precision\": 0.8, \"recall\": 0.26666666666666666, \"diversity\": 0.533379882633689, \"alpha_ndcg\": 2.3657238110856165, \"harmo\": 0.6400335143262047}, {\"method\": \"  SWAP\", \"nb_attributes\": 25, \"sess\": 0, \"time\": 0.3530483396848042, \"attr_precision\": 0.0, \"precision\": 0.5333333333333333, \"recall\": 0.17777777777777778, \"diversity\": 0.5355954945087433, \"alpha_ndcg\": 1.2428592226387696, \"harmo\": 0.5344620202288437}, {\"method\": \"  SWAP\", \"nb_attributes\": 35, \"sess\": 0, \"time\": 0.4915308292706807, \"attr_precision\": 0.0, \"precision\": 0.4, \"recall\": 0.13333333333333333, \"diversity\": 0.5335382047792265, \"alpha_ndcg\": 1.0469983946985666, \"harmo\": 0.4572180995252603}, {\"method\": \"  SWAP\", \"nb_attributes\": 100, \"sess\": 0, \"time\": 1.3910868779818215, \"attr_precision\": 0.0, \"precision\": 0.4, \"recall\": 0.13333333333333333, \"diversity\": 0.5393042692144723, \"alpha_ndcg\": 1.0191139439586887, \"harmo\": 0.4593223192016238}, {\"method\": \" MMR\", \"nb_attributes\": 5, \"sess\": 0, \"time\": 3.3308542052904766, \"attr_precision\": 0.0, \"precision\": 0.06666666666666667, \"recall\": 0.022222222222222223, \"diversity\": 0.5609260832468663, \"alpha_ndcg\": 0.3333333333333333, \"harmo\": 0.11916986683357922}, {\"method\": \" MMR\", \"nb_attributes\": 15, \"sess\": 0, \"time\": 10.09200492223104, \"attr_precision\": 0.0, \"precision\": 0.13333333333333333, \"recall\": 0.044444444444444446, \"diversity\": 0.5677815952897085, \"alpha_ndcg\": 0.6666666666666666, \"harmo\": 0.21595378907128432}, {\"method\": \" MMR\", \"nb_attributes\": 25, \"sess\": 0, \"time\": 16.72723437229792, \"attr_precision\": 0.0, \"precision\": 0.2, \"recall\": 0.06666666666666667, \"diversity\": 0.5696005107959118, \"alpha_ndcg\": 0.6872021038816168, \"harmo\": 0.29604996504320796}, {\"method\": \" MMR\", \"nb_attributes\": 35, \"sess\": 0, \"time\": 23.39348966439565, \"attr_precision\": 0.0, \"precision\": 0.0, \"recall\": 0.0, \"diversity\": 0.5657353329459802, \"alpha_ndcg\": 0.0, \"harmo\": 0.0}, {\"method\": \" MMR\", \"nb_attributes\": 100, \"sess\": 0, \"time\": 66.21527127027511, \"attr_precision\": 0.0, \"precision\": 0.06666666666666667, \"recall\": 0.022222222222222223, \"diversity\": 0.5695526611606299, \"alpha_ndcg\": 0.3333333333333333, \"harmo\": 0.1193619110578664}]}}, {\"mode\": \"vega-lite\"});\n",
       "</script>"
      ],
      "text/plain": [
       "alt.Chart(...)"
      ]
     },
     "execution_count": 10,
     "metadata": {},
     "output_type": "execute_result"
    }
   ],
   "source": [
    "graph_prec"
   ]
  },
  {
   "cell_type": "markdown",
   "metadata": {},
   "source": [
    "Recall"
   ]
  },
  {
   "cell_type": "code",
   "execution_count": 11,
   "metadata": {},
   "outputs": [],
   "source": [
    "wdth = 550\n",
    "heit = 250\n",
    "\n",
    "graph_rec = alt.Chart(df[(df.method != 'KNN') & (df.sess == 0)]).\\\n",
    "            mark_line(interpolate='basis',strokeWidth=3).encode(\n",
    "    alt.X('nb_attributes:N', axis=alt.Axis(title=\"#Attributes\",\n",
    "                                             labelFontSize=19,\n",
    "                                             labelAngle=0,\n",
    "                                             titleFontSize=19)),\n",
    "\n",
    "        alt.Y('recall', axis=alt.Axis(title=\"Recall\",\n",
    "                                         labelFontSize=19,\n",
    "                                         titleFontSize=19),\n",
    "              scale=alt.Scale(zero=False)),\n",
    "    \n",
    "    color=alt.Color('method',title='', legend=None),\n",
    "    strokeDash=alt.StrokeDash('method',title='')\n",
    ").properties(\n",
    "    width = wdth,\n",
    "    height = heit\n",
    ")"
   ]
  },
  {
   "cell_type": "code",
   "execution_count": 12,
   "metadata": {},
   "outputs": [
    {
     "data": {
      "text/html": [
       "\n",
       "<div id=\"altair-viz-a93e09cd769b4b43ab9260bb67ac131f\"></div>\n",
       "<script type=\"text/javascript\">\n",
       "  (function(spec, embedOpt){\n",
       "    let outputDiv = document.currentScript.previousElementSibling;\n",
       "    if (outputDiv.id !== \"altair-viz-a93e09cd769b4b43ab9260bb67ac131f\") {\n",
       "      outputDiv = document.getElementById(\"altair-viz-a93e09cd769b4b43ab9260bb67ac131f\");\n",
       "    }\n",
       "    const paths = {\n",
       "      \"vega\": \"https://cdn.jsdelivr.net/npm//vega@5?noext\",\n",
       "      \"vega-lib\": \"https://cdn.jsdelivr.net/npm//vega-lib?noext\",\n",
       "      \"vega-lite\": \"https://cdn.jsdelivr.net/npm//vega-lite@4.8.1?noext\",\n",
       "      \"vega-embed\": \"https://cdn.jsdelivr.net/npm//vega-embed@6?noext\",\n",
       "    };\n",
       "\n",
       "    function loadScript(lib) {\n",
       "      return new Promise(function(resolve, reject) {\n",
       "        var s = document.createElement('script');\n",
       "        s.src = paths[lib];\n",
       "        s.async = true;\n",
       "        s.onload = () => resolve(paths[lib]);\n",
       "        s.onerror = () => reject(`Error loading script: ${paths[lib]}`);\n",
       "        document.getElementsByTagName(\"head\")[0].appendChild(s);\n",
       "      });\n",
       "    }\n",
       "\n",
       "    function showError(err) {\n",
       "      outputDiv.innerHTML = `<div class=\"error\" style=\"color:red;\">${err}</div>`;\n",
       "      throw err;\n",
       "    }\n",
       "\n",
       "    function displayChart(vegaEmbed) {\n",
       "      vegaEmbed(outputDiv, spec, embedOpt)\n",
       "        .catch(err => showError(`Javascript Error: ${err.message}<br>This usually means there's a typo in your chart specification. See the javascript console for the full traceback.`));\n",
       "    }\n",
       "\n",
       "    if(typeof define === \"function\" && define.amd) {\n",
       "      requirejs.config({paths});\n",
       "      require([\"vega-embed\"], displayChart, err => showError(`Error loading script: ${err.message}`));\n",
       "    } else if (typeof vegaEmbed === \"function\") {\n",
       "      displayChart(vegaEmbed);\n",
       "    } else {\n",
       "      loadScript(\"vega\")\n",
       "        .then(() => loadScript(\"vega-lite\"))\n",
       "        .then(() => loadScript(\"vega-embed\"))\n",
       "        .catch(showError)\n",
       "        .then(() => displayChart(vegaEmbed));\n",
       "    }\n",
       "  })({\"config\": {\"view\": {\"continuousWidth\": 400, \"continuousHeight\": 300}}, \"data\": {\"name\": \"data-951131a9b0b9f2f1582ca1c13040e31a\"}, \"mark\": {\"type\": \"line\", \"interpolate\": \"basis\", \"strokeWidth\": 3}, \"encoding\": {\"color\": {\"type\": \"nominal\", \"field\": \"method\", \"legend\": null, \"title\": \"\"}, \"strokeDash\": {\"type\": \"nominal\", \"field\": \"method\", \"title\": \"\"}, \"x\": {\"type\": \"nominal\", \"axis\": {\"labelAngle\": 0, \"labelFontSize\": 19, \"title\": \"#Attributes\", \"titleFontSize\": 19}, \"field\": \"nb_attributes\"}, \"y\": {\"type\": \"quantitative\", \"axis\": {\"labelFontSize\": 19, \"title\": \"Recall\", \"titleFontSize\": 19}, \"field\": \"recall\", \"scale\": {\"zero\": false}}}, \"height\": 250, \"width\": 550, \"$schema\": \"https://vega.github.io/schema/vega-lite/v4.8.1.json\", \"datasets\": {\"data-951131a9b0b9f2f1582ca1c13040e31a\": [{\"method\": \"  SMORL\", \"nb_attributes\": 5, \"sess\": 0, \"time\": 0.0256008823712666, \"attr_precision\": 0.0, \"precision\": 0.5333333333333333, \"recall\": 0.17857142857142858, \"diversity\": 0.5025825456927223, \"alpha_ndcg\": 1.1520009528722488, \"harmo\": 0.5175015265167299}, {\"method\": \"  SMORL\", \"nb_attributes\": 15, \"sess\": 0, \"time\": 0.0254356221357981, \"attr_precision\": 0.0, \"precision\": 0.7666666666666668, \"recall\": 0.25555555555555554, \"diversity\": 0.499382013519605, \"alpha_ndcg\": 2.3409384253560406, \"harmo\": 0.6048101462291866}, {\"method\": \"  SMORL\", \"nb_attributes\": 25, \"sess\": 0, \"time\": 0.0263728749752044, \"attr_precision\": 0.0, \"precision\": 0.7333333333333335, \"recall\": 0.24444444444444444, \"diversity\": 0.5047751984298218, \"alpha_ndcg\": 1.8687561484251007, \"harmo\": 0.5979580454411207}, {\"method\": \"  SMORL\", \"nb_attributes\": 35, \"sess\": 0, \"time\": 0.0270932976404825, \"attr_precision\": 0.0, \"precision\": 0.5333333333333335, \"recall\": 0.17777777777777778, \"diversity\": 0.4992298876146438, \"alpha_ndcg\": 1.2927376098744252, \"harmo\": 0.5157184270357776}, {\"method\": \"  SMORL\", \"nb_attributes\": 100, \"sess\": 0, \"time\": 0.0268633600076039, \"attr_precision\": 0.0, \"precision\": 0.5333333333333334, \"recall\": 0.17777777777777778, \"diversity\": 0.5139647466391333, \"alpha_ndcg\": 1.4972805855720162, \"harmo\": 0.5234699399966006}, {\"method\": \"  SWAP\", \"nb_attributes\": 5, \"sess\": 0, \"time\": 0.0758011889457702, \"attr_precision\": 0.0, \"precision\": 0.9333333333333333, \"recall\": 0.31269841269841264, \"diversity\": 0.5238109586040194, \"alpha_ndcg\": 2.6618862189286596, \"harmo\": 0.6710251424454498}, {\"method\": \"  SWAP\", \"nb_attributes\": 15, \"sess\": 0, \"time\": 0.2151291267077128, \"attr_precision\": 0.0, \"precision\": 0.8, \"recall\": 0.26666666666666666, \"diversity\": 0.533379882633689, \"alpha_ndcg\": 2.3657238110856165, \"harmo\": 0.6400335143262047}, {\"method\": \"  SWAP\", \"nb_attributes\": 25, \"sess\": 0, \"time\": 0.3530483396848042, \"attr_precision\": 0.0, \"precision\": 0.5333333333333333, \"recall\": 0.17777777777777778, \"diversity\": 0.5355954945087433, \"alpha_ndcg\": 1.2428592226387696, \"harmo\": 0.5344620202288437}, {\"method\": \"  SWAP\", \"nb_attributes\": 35, \"sess\": 0, \"time\": 0.4915308292706807, \"attr_precision\": 0.0, \"precision\": 0.4, \"recall\": 0.13333333333333333, \"diversity\": 0.5335382047792265, \"alpha_ndcg\": 1.0469983946985666, \"harmo\": 0.4572180995252603}, {\"method\": \"  SWAP\", \"nb_attributes\": 100, \"sess\": 0, \"time\": 1.3910868779818215, \"attr_precision\": 0.0, \"precision\": 0.4, \"recall\": 0.13333333333333333, \"diversity\": 0.5393042692144723, \"alpha_ndcg\": 1.0191139439586887, \"harmo\": 0.4593223192016238}, {\"method\": \" MMR\", \"nb_attributes\": 5, \"sess\": 0, \"time\": 3.3308542052904766, \"attr_precision\": 0.0, \"precision\": 0.06666666666666667, \"recall\": 0.022222222222222223, \"diversity\": 0.5609260832468663, \"alpha_ndcg\": 0.3333333333333333, \"harmo\": 0.11916986683357922}, {\"method\": \" MMR\", \"nb_attributes\": 15, \"sess\": 0, \"time\": 10.09200492223104, \"attr_precision\": 0.0, \"precision\": 0.13333333333333333, \"recall\": 0.044444444444444446, \"diversity\": 0.5677815952897085, \"alpha_ndcg\": 0.6666666666666666, \"harmo\": 0.21595378907128432}, {\"method\": \" MMR\", \"nb_attributes\": 25, \"sess\": 0, \"time\": 16.72723437229792, \"attr_precision\": 0.0, \"precision\": 0.2, \"recall\": 0.06666666666666667, \"diversity\": 0.5696005107959118, \"alpha_ndcg\": 0.6872021038816168, \"harmo\": 0.29604996504320796}, {\"method\": \" MMR\", \"nb_attributes\": 35, \"sess\": 0, \"time\": 23.39348966439565, \"attr_precision\": 0.0, \"precision\": 0.0, \"recall\": 0.0, \"diversity\": 0.5657353329459802, \"alpha_ndcg\": 0.0, \"harmo\": 0.0}, {\"method\": \" MMR\", \"nb_attributes\": 100, \"sess\": 0, \"time\": 66.21527127027511, \"attr_precision\": 0.0, \"precision\": 0.06666666666666667, \"recall\": 0.022222222222222223, \"diversity\": 0.5695526611606299, \"alpha_ndcg\": 0.3333333333333333, \"harmo\": 0.1193619110578664}]}}, {\"mode\": \"vega-lite\"});\n",
       "</script>"
      ],
      "text/plain": [
       "alt.Chart(...)"
      ]
     },
     "execution_count": 12,
     "metadata": {},
     "output_type": "execute_result"
    }
   ],
   "source": [
    "graph_rec"
   ]
  },
  {
   "cell_type": "markdown",
   "metadata": {},
   "source": [
    "αnDCG"
   ]
  },
  {
   "cell_type": "code",
   "execution_count": 13,
   "metadata": {},
   "outputs": [],
   "source": [
    "wdth = 550\n",
    "heit = 250\n",
    "\n",
    "graph_ndcg = alt.Chart(df[(df.method != 'KNN') & (df.sess == 0)]).\\\n",
    "        mark_line(interpolate='basis',strokeWidth=3).encode(\n",
    "    \n",
    "    alt.X('nb_attributes:N', axis=alt.Axis(title=\"#Attributes\",\n",
    "                                             labelFontSize=19,\n",
    "                                             labelAngle=0,\n",
    "                                             titleFontSize=19)),\n",
    "\n",
    "        alt.Y('alpha_ndcg', axis=alt.Axis(title=\"αnDCG\",\n",
    "                                         labelFontSize=19,\n",
    "                                         titleFontSize=19),\n",
    "              scale=alt.Scale(zero=False)),\n",
    "    \n",
    "    color=alt.Color('method',title='',legend=None),\n",
    "    strokeDash=alt.StrokeDash('method',title='')\n",
    ").properties(\n",
    "    width = wdth,\n",
    "    height = heit\n",
    ")"
   ]
  },
  {
   "cell_type": "code",
   "execution_count": 14,
   "metadata": {},
   "outputs": [
    {
     "data": {
      "text/html": [
       "\n",
       "<div id=\"altair-viz-c32a5f2f60e447e691f83c7b168a0412\"></div>\n",
       "<script type=\"text/javascript\">\n",
       "  (function(spec, embedOpt){\n",
       "    let outputDiv = document.currentScript.previousElementSibling;\n",
       "    if (outputDiv.id !== \"altair-viz-c32a5f2f60e447e691f83c7b168a0412\") {\n",
       "      outputDiv = document.getElementById(\"altair-viz-c32a5f2f60e447e691f83c7b168a0412\");\n",
       "    }\n",
       "    const paths = {\n",
       "      \"vega\": \"https://cdn.jsdelivr.net/npm//vega@5?noext\",\n",
       "      \"vega-lib\": \"https://cdn.jsdelivr.net/npm//vega-lib?noext\",\n",
       "      \"vega-lite\": \"https://cdn.jsdelivr.net/npm//vega-lite@4.8.1?noext\",\n",
       "      \"vega-embed\": \"https://cdn.jsdelivr.net/npm//vega-embed@6?noext\",\n",
       "    };\n",
       "\n",
       "    function loadScript(lib) {\n",
       "      return new Promise(function(resolve, reject) {\n",
       "        var s = document.createElement('script');\n",
       "        s.src = paths[lib];\n",
       "        s.async = true;\n",
       "        s.onload = () => resolve(paths[lib]);\n",
       "        s.onerror = () => reject(`Error loading script: ${paths[lib]}`);\n",
       "        document.getElementsByTagName(\"head\")[0].appendChild(s);\n",
       "      });\n",
       "    }\n",
       "\n",
       "    function showError(err) {\n",
       "      outputDiv.innerHTML = `<div class=\"error\" style=\"color:red;\">${err}</div>`;\n",
       "      throw err;\n",
       "    }\n",
       "\n",
       "    function displayChart(vegaEmbed) {\n",
       "      vegaEmbed(outputDiv, spec, embedOpt)\n",
       "        .catch(err => showError(`Javascript Error: ${err.message}<br>This usually means there's a typo in your chart specification. See the javascript console for the full traceback.`));\n",
       "    }\n",
       "\n",
       "    if(typeof define === \"function\" && define.amd) {\n",
       "      requirejs.config({paths});\n",
       "      require([\"vega-embed\"], displayChart, err => showError(`Error loading script: ${err.message}`));\n",
       "    } else if (typeof vegaEmbed === \"function\") {\n",
       "      displayChart(vegaEmbed);\n",
       "    } else {\n",
       "      loadScript(\"vega\")\n",
       "        .then(() => loadScript(\"vega-lite\"))\n",
       "        .then(() => loadScript(\"vega-embed\"))\n",
       "        .catch(showError)\n",
       "        .then(() => displayChart(vegaEmbed));\n",
       "    }\n",
       "  })({\"config\": {\"view\": {\"continuousWidth\": 400, \"continuousHeight\": 300}}, \"data\": {\"name\": \"data-951131a9b0b9f2f1582ca1c13040e31a\"}, \"mark\": {\"type\": \"line\", \"interpolate\": \"basis\", \"strokeWidth\": 3}, \"encoding\": {\"color\": {\"type\": \"nominal\", \"field\": \"method\", \"legend\": null, \"title\": \"\"}, \"strokeDash\": {\"type\": \"nominal\", \"field\": \"method\", \"title\": \"\"}, \"x\": {\"type\": \"nominal\", \"axis\": {\"labelAngle\": 0, \"labelFontSize\": 19, \"title\": \"#Attributes\", \"titleFontSize\": 19}, \"field\": \"nb_attributes\"}, \"y\": {\"type\": \"quantitative\", \"axis\": {\"labelFontSize\": 19, \"title\": \"\\u03b1nDCG\", \"titleFontSize\": 19}, \"field\": \"alpha_ndcg\", \"scale\": {\"zero\": false}}}, \"height\": 250, \"width\": 550, \"$schema\": \"https://vega.github.io/schema/vega-lite/v4.8.1.json\", \"datasets\": {\"data-951131a9b0b9f2f1582ca1c13040e31a\": [{\"method\": \"  SMORL\", \"nb_attributes\": 5, \"sess\": 0, \"time\": 0.0256008823712666, \"attr_precision\": 0.0, \"precision\": 0.5333333333333333, \"recall\": 0.17857142857142858, \"diversity\": 0.5025825456927223, \"alpha_ndcg\": 1.1520009528722488, \"harmo\": 0.5175015265167299}, {\"method\": \"  SMORL\", \"nb_attributes\": 15, \"sess\": 0, \"time\": 0.0254356221357981, \"attr_precision\": 0.0, \"precision\": 0.7666666666666668, \"recall\": 0.25555555555555554, \"diversity\": 0.499382013519605, \"alpha_ndcg\": 2.3409384253560406, \"harmo\": 0.6048101462291866}, {\"method\": \"  SMORL\", \"nb_attributes\": 25, \"sess\": 0, \"time\": 0.0263728749752044, \"attr_precision\": 0.0, \"precision\": 0.7333333333333335, \"recall\": 0.24444444444444444, \"diversity\": 0.5047751984298218, \"alpha_ndcg\": 1.8687561484251007, \"harmo\": 0.5979580454411207}, {\"method\": \"  SMORL\", \"nb_attributes\": 35, \"sess\": 0, \"time\": 0.0270932976404825, \"attr_precision\": 0.0, \"precision\": 0.5333333333333335, \"recall\": 0.17777777777777778, \"diversity\": 0.4992298876146438, \"alpha_ndcg\": 1.2927376098744252, \"harmo\": 0.5157184270357776}, {\"method\": \"  SMORL\", \"nb_attributes\": 100, \"sess\": 0, \"time\": 0.0268633600076039, \"attr_precision\": 0.0, \"precision\": 0.5333333333333334, \"recall\": 0.17777777777777778, \"diversity\": 0.5139647466391333, \"alpha_ndcg\": 1.4972805855720162, \"harmo\": 0.5234699399966006}, {\"method\": \"  SWAP\", \"nb_attributes\": 5, \"sess\": 0, \"time\": 0.0758011889457702, \"attr_precision\": 0.0, \"precision\": 0.9333333333333333, \"recall\": 0.31269841269841264, \"diversity\": 0.5238109586040194, \"alpha_ndcg\": 2.6618862189286596, \"harmo\": 0.6710251424454498}, {\"method\": \"  SWAP\", \"nb_attributes\": 15, \"sess\": 0, \"time\": 0.2151291267077128, \"attr_precision\": 0.0, \"precision\": 0.8, \"recall\": 0.26666666666666666, \"diversity\": 0.533379882633689, \"alpha_ndcg\": 2.3657238110856165, \"harmo\": 0.6400335143262047}, {\"method\": \"  SWAP\", \"nb_attributes\": 25, \"sess\": 0, \"time\": 0.3530483396848042, \"attr_precision\": 0.0, \"precision\": 0.5333333333333333, \"recall\": 0.17777777777777778, \"diversity\": 0.5355954945087433, \"alpha_ndcg\": 1.2428592226387696, \"harmo\": 0.5344620202288437}, {\"method\": \"  SWAP\", \"nb_attributes\": 35, \"sess\": 0, \"time\": 0.4915308292706807, \"attr_precision\": 0.0, \"precision\": 0.4, \"recall\": 0.13333333333333333, \"diversity\": 0.5335382047792265, \"alpha_ndcg\": 1.0469983946985666, \"harmo\": 0.4572180995252603}, {\"method\": \"  SWAP\", \"nb_attributes\": 100, \"sess\": 0, \"time\": 1.3910868779818215, \"attr_precision\": 0.0, \"precision\": 0.4, \"recall\": 0.13333333333333333, \"diversity\": 0.5393042692144723, \"alpha_ndcg\": 1.0191139439586887, \"harmo\": 0.4593223192016238}, {\"method\": \" MMR\", \"nb_attributes\": 5, \"sess\": 0, \"time\": 3.3308542052904766, \"attr_precision\": 0.0, \"precision\": 0.06666666666666667, \"recall\": 0.022222222222222223, \"diversity\": 0.5609260832468663, \"alpha_ndcg\": 0.3333333333333333, \"harmo\": 0.11916986683357922}, {\"method\": \" MMR\", \"nb_attributes\": 15, \"sess\": 0, \"time\": 10.09200492223104, \"attr_precision\": 0.0, \"precision\": 0.13333333333333333, \"recall\": 0.044444444444444446, \"diversity\": 0.5677815952897085, \"alpha_ndcg\": 0.6666666666666666, \"harmo\": 0.21595378907128432}, {\"method\": \" MMR\", \"nb_attributes\": 25, \"sess\": 0, \"time\": 16.72723437229792, \"attr_precision\": 0.0, \"precision\": 0.2, \"recall\": 0.06666666666666667, \"diversity\": 0.5696005107959118, \"alpha_ndcg\": 0.6872021038816168, \"harmo\": 0.29604996504320796}, {\"method\": \" MMR\", \"nb_attributes\": 35, \"sess\": 0, \"time\": 23.39348966439565, \"attr_precision\": 0.0, \"precision\": 0.0, \"recall\": 0.0, \"diversity\": 0.5657353329459802, \"alpha_ndcg\": 0.0, \"harmo\": 0.0}, {\"method\": \" MMR\", \"nb_attributes\": 100, \"sess\": 0, \"time\": 66.21527127027511, \"attr_precision\": 0.0, \"precision\": 0.06666666666666667, \"recall\": 0.022222222222222223, \"diversity\": 0.5695526611606299, \"alpha_ndcg\": 0.3333333333333333, \"harmo\": 0.1193619110578664}]}}, {\"mode\": \"vega-lite\"});\n",
       "</script>"
      ],
      "text/plain": [
       "alt.Chart(...)"
      ]
     },
     "execution_count": 14,
     "metadata": {},
     "output_type": "execute_result"
    }
   ],
   "source": [
    "graph_ndcg"
   ]
  },
  {
   "cell_type": "markdown",
   "metadata": {},
   "source": [
    "F-Score"
   ]
  },
  {
   "cell_type": "code",
   "execution_count": 15,
   "metadata": {},
   "outputs": [],
   "source": [
    "wdth = 550\n",
    "heit = 250\n",
    "\n",
    "graph_f1 = alt.Chart(df[(df.method != 'KNN') & (df.sess == 0)]).\\\n",
    "            mark_line(interpolate='basis',strokeWidth=3).encode(\n",
    "    \n",
    "    alt.X('nb_attributes:N', axis=alt.Axis(title=\"#Attributes\",\n",
    "                                             labelFontSize=19,\n",
    "                                             labelAngle=0,\n",
    "                                             titleFontSize=19)),\n",
    "\n",
    "        alt.Y('harmo', axis=alt.Axis(title=\"FScore\",\n",
    "                                         labelFontSize=19,\n",
    "                                         titleFontSize=19),\n",
    "              scale=alt.Scale(zero=False)),\n",
    "    \n",
    "    color=alt.Color('method',title='', legend=None\n",
    "                   #legend=alt.Legend(orient='bottom',columns=3, titleFontSize=25, \n",
    "                   #                                     labelFontSize=20,labelFontStyle='bold', \n",
    "                   #                                     titleFontStyle='italic',titleFont = 'Time New Roman',\n",
    "                   #                                     labelFont='Time New Roman',symbolSize=4000, \n",
    "                   #                                     symbolStrokeWidth=3.5,symbolFillColor='black',\n",
    "                   #                                    symbolStrokeColor='black')\n",
    "                   ),\n",
    "    strokeDash=alt.StrokeDash('method',title='')\n",
    ").properties(\n",
    "    width = wdth,\n",
    "    height = heit\n",
    ")"
   ]
  },
  {
   "cell_type": "code",
   "execution_count": 16,
   "metadata": {},
   "outputs": [
    {
     "data": {
      "text/html": [
       "\n",
       "<div id=\"altair-viz-593508c82c4c446cb10681f07f9dc20b\"></div>\n",
       "<script type=\"text/javascript\">\n",
       "  (function(spec, embedOpt){\n",
       "    let outputDiv = document.currentScript.previousElementSibling;\n",
       "    if (outputDiv.id !== \"altair-viz-593508c82c4c446cb10681f07f9dc20b\") {\n",
       "      outputDiv = document.getElementById(\"altair-viz-593508c82c4c446cb10681f07f9dc20b\");\n",
       "    }\n",
       "    const paths = {\n",
       "      \"vega\": \"https://cdn.jsdelivr.net/npm//vega@5?noext\",\n",
       "      \"vega-lib\": \"https://cdn.jsdelivr.net/npm//vega-lib?noext\",\n",
       "      \"vega-lite\": \"https://cdn.jsdelivr.net/npm//vega-lite@4.8.1?noext\",\n",
       "      \"vega-embed\": \"https://cdn.jsdelivr.net/npm//vega-embed@6?noext\",\n",
       "    };\n",
       "\n",
       "    function loadScript(lib) {\n",
       "      return new Promise(function(resolve, reject) {\n",
       "        var s = document.createElement('script');\n",
       "        s.src = paths[lib];\n",
       "        s.async = true;\n",
       "        s.onload = () => resolve(paths[lib]);\n",
       "        s.onerror = () => reject(`Error loading script: ${paths[lib]}`);\n",
       "        document.getElementsByTagName(\"head\")[0].appendChild(s);\n",
       "      });\n",
       "    }\n",
       "\n",
       "    function showError(err) {\n",
       "      outputDiv.innerHTML = `<div class=\"error\" style=\"color:red;\">${err}</div>`;\n",
       "      throw err;\n",
       "    }\n",
       "\n",
       "    function displayChart(vegaEmbed) {\n",
       "      vegaEmbed(outputDiv, spec, embedOpt)\n",
       "        .catch(err => showError(`Javascript Error: ${err.message}<br>This usually means there's a typo in your chart specification. See the javascript console for the full traceback.`));\n",
       "    }\n",
       "\n",
       "    if(typeof define === \"function\" && define.amd) {\n",
       "      requirejs.config({paths});\n",
       "      require([\"vega-embed\"], displayChart, err => showError(`Error loading script: ${err.message}`));\n",
       "    } else if (typeof vegaEmbed === \"function\") {\n",
       "      displayChart(vegaEmbed);\n",
       "    } else {\n",
       "      loadScript(\"vega\")\n",
       "        .then(() => loadScript(\"vega-lite\"))\n",
       "        .then(() => loadScript(\"vega-embed\"))\n",
       "        .catch(showError)\n",
       "        .then(() => displayChart(vegaEmbed));\n",
       "    }\n",
       "  })({\"config\": {\"view\": {\"continuousWidth\": 400, \"continuousHeight\": 300}}, \"data\": {\"name\": \"data-951131a9b0b9f2f1582ca1c13040e31a\"}, \"mark\": {\"type\": \"line\", \"interpolate\": \"basis\", \"strokeWidth\": 3}, \"encoding\": {\"color\": {\"type\": \"nominal\", \"field\": \"method\", \"legend\": null, \"title\": \"\"}, \"strokeDash\": {\"type\": \"nominal\", \"field\": \"method\", \"title\": \"\"}, \"x\": {\"type\": \"nominal\", \"axis\": {\"labelAngle\": 0, \"labelFontSize\": 19, \"title\": \"#Attributes\", \"titleFontSize\": 19}, \"field\": \"nb_attributes\"}, \"y\": {\"type\": \"quantitative\", \"axis\": {\"labelFontSize\": 19, \"title\": \"FScore\", \"titleFontSize\": 19}, \"field\": \"harmo\", \"scale\": {\"zero\": false}}}, \"height\": 250, \"width\": 550, \"$schema\": \"https://vega.github.io/schema/vega-lite/v4.8.1.json\", \"datasets\": {\"data-951131a9b0b9f2f1582ca1c13040e31a\": [{\"method\": \"  SMORL\", \"nb_attributes\": 5, \"sess\": 0, \"time\": 0.0256008823712666, \"attr_precision\": 0.0, \"precision\": 0.5333333333333333, \"recall\": 0.17857142857142858, \"diversity\": 0.5025825456927223, \"alpha_ndcg\": 1.1520009528722488, \"harmo\": 0.5175015265167299}, {\"method\": \"  SMORL\", \"nb_attributes\": 15, \"sess\": 0, \"time\": 0.0254356221357981, \"attr_precision\": 0.0, \"precision\": 0.7666666666666668, \"recall\": 0.25555555555555554, \"diversity\": 0.499382013519605, \"alpha_ndcg\": 2.3409384253560406, \"harmo\": 0.6048101462291866}, {\"method\": \"  SMORL\", \"nb_attributes\": 25, \"sess\": 0, \"time\": 0.0263728749752044, \"attr_precision\": 0.0, \"precision\": 0.7333333333333335, \"recall\": 0.24444444444444444, \"diversity\": 0.5047751984298218, \"alpha_ndcg\": 1.8687561484251007, \"harmo\": 0.5979580454411207}, {\"method\": \"  SMORL\", \"nb_attributes\": 35, \"sess\": 0, \"time\": 0.0270932976404825, \"attr_precision\": 0.0, \"precision\": 0.5333333333333335, \"recall\": 0.17777777777777778, \"diversity\": 0.4992298876146438, \"alpha_ndcg\": 1.2927376098744252, \"harmo\": 0.5157184270357776}, {\"method\": \"  SMORL\", \"nb_attributes\": 100, \"sess\": 0, \"time\": 0.0268633600076039, \"attr_precision\": 0.0, \"precision\": 0.5333333333333334, \"recall\": 0.17777777777777778, \"diversity\": 0.5139647466391333, \"alpha_ndcg\": 1.4972805855720162, \"harmo\": 0.5234699399966006}, {\"method\": \"  SWAP\", \"nb_attributes\": 5, \"sess\": 0, \"time\": 0.0758011889457702, \"attr_precision\": 0.0, \"precision\": 0.9333333333333333, \"recall\": 0.31269841269841264, \"diversity\": 0.5238109586040194, \"alpha_ndcg\": 2.6618862189286596, \"harmo\": 0.6710251424454498}, {\"method\": \"  SWAP\", \"nb_attributes\": 15, \"sess\": 0, \"time\": 0.2151291267077128, \"attr_precision\": 0.0, \"precision\": 0.8, \"recall\": 0.26666666666666666, \"diversity\": 0.533379882633689, \"alpha_ndcg\": 2.3657238110856165, \"harmo\": 0.6400335143262047}, {\"method\": \"  SWAP\", \"nb_attributes\": 25, \"sess\": 0, \"time\": 0.3530483396848042, \"attr_precision\": 0.0, \"precision\": 0.5333333333333333, \"recall\": 0.17777777777777778, \"diversity\": 0.5355954945087433, \"alpha_ndcg\": 1.2428592226387696, \"harmo\": 0.5344620202288437}, {\"method\": \"  SWAP\", \"nb_attributes\": 35, \"sess\": 0, \"time\": 0.4915308292706807, \"attr_precision\": 0.0, \"precision\": 0.4, \"recall\": 0.13333333333333333, \"diversity\": 0.5335382047792265, \"alpha_ndcg\": 1.0469983946985666, \"harmo\": 0.4572180995252603}, {\"method\": \"  SWAP\", \"nb_attributes\": 100, \"sess\": 0, \"time\": 1.3910868779818215, \"attr_precision\": 0.0, \"precision\": 0.4, \"recall\": 0.13333333333333333, \"diversity\": 0.5393042692144723, \"alpha_ndcg\": 1.0191139439586887, \"harmo\": 0.4593223192016238}, {\"method\": \" MMR\", \"nb_attributes\": 5, \"sess\": 0, \"time\": 3.3308542052904766, \"attr_precision\": 0.0, \"precision\": 0.06666666666666667, \"recall\": 0.022222222222222223, \"diversity\": 0.5609260832468663, \"alpha_ndcg\": 0.3333333333333333, \"harmo\": 0.11916986683357922}, {\"method\": \" MMR\", \"nb_attributes\": 15, \"sess\": 0, \"time\": 10.09200492223104, \"attr_precision\": 0.0, \"precision\": 0.13333333333333333, \"recall\": 0.044444444444444446, \"diversity\": 0.5677815952897085, \"alpha_ndcg\": 0.6666666666666666, \"harmo\": 0.21595378907128432}, {\"method\": \" MMR\", \"nb_attributes\": 25, \"sess\": 0, \"time\": 16.72723437229792, \"attr_precision\": 0.0, \"precision\": 0.2, \"recall\": 0.06666666666666667, \"diversity\": 0.5696005107959118, \"alpha_ndcg\": 0.6872021038816168, \"harmo\": 0.29604996504320796}, {\"method\": \" MMR\", \"nb_attributes\": 35, \"sess\": 0, \"time\": 23.39348966439565, \"attr_precision\": 0.0, \"precision\": 0.0, \"recall\": 0.0, \"diversity\": 0.5657353329459802, \"alpha_ndcg\": 0.0, \"harmo\": 0.0}, {\"method\": \" MMR\", \"nb_attributes\": 100, \"sess\": 0, \"time\": 66.21527127027511, \"attr_precision\": 0.0, \"precision\": 0.06666666666666667, \"recall\": 0.022222222222222223, \"diversity\": 0.5695526611606299, \"alpha_ndcg\": 0.3333333333333333, \"harmo\": 0.1193619110578664}]}}, {\"mode\": \"vega-lite\"});\n",
       "</script>"
      ],
      "text/plain": [
       "alt.Chart(...)"
      ]
     },
     "execution_count": 16,
     "metadata": {},
     "output_type": "execute_result"
    }
   ],
   "source": [
    "graph_f1"
   ]
  },
  {
   "cell_type": "markdown",
   "metadata": {},
   "source": [
    "# Multiple Sessions"
   ]
  },
  {
   "cell_type": "code",
   "execution_count": 17,
   "metadata": {},
   "outputs": [],
   "source": [
    "df.sess = df.sess+1"
   ]
  },
  {
   "cell_type": "markdown",
   "metadata": {},
   "source": [
    "Diversity"
   ]
  },
  {
   "cell_type": "code",
   "execution_count": 18,
   "metadata": {},
   "outputs": [],
   "source": [
    "wdth = 550\n",
    "heit = 250\n",
    "\n",
    "graph_div_mult = alt.Chart(df[(df.method != 'KNN') & (df.nb_attributes == 5)]).\\\n",
    "                    mark_line(interpolate='basis',strokeWidth=3).encode(\n",
    "    alt.X('sess:N', axis=alt.Axis(title=\"Sessions\",\n",
    "                                             labelFontSize=19,\n",
    "                                             labelAngle=0,\n",
    "                                             titleFontSize=19)),\n",
    "\n",
    "        alt.Y('diversity', axis=alt.Axis(title=\"Intra Diversity\",\n",
    "                                         labelFontSize=19,\n",
    "                                         titleFontSize=19),\n",
    "              scale=alt.Scale(zero=False)),\n",
    "    \n",
    "    color=alt.Color('method',title='', legend=None),\n",
    "    strokeDash=alt.StrokeDash('method',title='')\n",
    ").properties(\n",
    "    width = wdth,\n",
    "    height = heit\n",
    ")"
   ]
  },
  {
   "cell_type": "code",
   "execution_count": 19,
   "metadata": {},
   "outputs": [
    {
     "data": {
      "text/html": [
       "\n",
       "<div id=\"altair-viz-8c5476e4f6174ea8923c534945246a63\"></div>\n",
       "<script type=\"text/javascript\">\n",
       "  (function(spec, embedOpt){\n",
       "    let outputDiv = document.currentScript.previousElementSibling;\n",
       "    if (outputDiv.id !== \"altair-viz-8c5476e4f6174ea8923c534945246a63\") {\n",
       "      outputDiv = document.getElementById(\"altair-viz-8c5476e4f6174ea8923c534945246a63\");\n",
       "    }\n",
       "    const paths = {\n",
       "      \"vega\": \"https://cdn.jsdelivr.net/npm//vega@5?noext\",\n",
       "      \"vega-lib\": \"https://cdn.jsdelivr.net/npm//vega-lib?noext\",\n",
       "      \"vega-lite\": \"https://cdn.jsdelivr.net/npm//vega-lite@4.8.1?noext\",\n",
       "      \"vega-embed\": \"https://cdn.jsdelivr.net/npm//vega-embed@6?noext\",\n",
       "    };\n",
       "\n",
       "    function loadScript(lib) {\n",
       "      return new Promise(function(resolve, reject) {\n",
       "        var s = document.createElement('script');\n",
       "        s.src = paths[lib];\n",
       "        s.async = true;\n",
       "        s.onload = () => resolve(paths[lib]);\n",
       "        s.onerror = () => reject(`Error loading script: ${paths[lib]}`);\n",
       "        document.getElementsByTagName(\"head\")[0].appendChild(s);\n",
       "      });\n",
       "    }\n",
       "\n",
       "    function showError(err) {\n",
       "      outputDiv.innerHTML = `<div class=\"error\" style=\"color:red;\">${err}</div>`;\n",
       "      throw err;\n",
       "    }\n",
       "\n",
       "    function displayChart(vegaEmbed) {\n",
       "      vegaEmbed(outputDiv, spec, embedOpt)\n",
       "        .catch(err => showError(`Javascript Error: ${err.message}<br>This usually means there's a typo in your chart specification. See the javascript console for the full traceback.`));\n",
       "    }\n",
       "\n",
       "    if(typeof define === \"function\" && define.amd) {\n",
       "      requirejs.config({paths});\n",
       "      require([\"vega-embed\"], displayChart, err => showError(`Error loading script: ${err.message}`));\n",
       "    } else if (typeof vegaEmbed === \"function\") {\n",
       "      displayChart(vegaEmbed);\n",
       "    } else {\n",
       "      loadScript(\"vega\")\n",
       "        .then(() => loadScript(\"vega-lite\"))\n",
       "        .then(() => loadScript(\"vega-embed\"))\n",
       "        .catch(showError)\n",
       "        .then(() => displayChart(vegaEmbed));\n",
       "    }\n",
       "  })({\"config\": {\"view\": {\"continuousWidth\": 400, \"continuousHeight\": 300}}, \"data\": {\"name\": \"data-4355e9d1285dc9c1c4aea6fd55e078ce\"}, \"mark\": {\"type\": \"line\", \"interpolate\": \"basis\", \"strokeWidth\": 3}, \"encoding\": {\"color\": {\"type\": \"nominal\", \"field\": \"method\", \"legend\": null, \"title\": \"\"}, \"strokeDash\": {\"type\": \"nominal\", \"field\": \"method\", \"title\": \"\"}, \"x\": {\"type\": \"nominal\", \"axis\": {\"labelAngle\": 0, \"labelFontSize\": 19, \"title\": \"Sessions\", \"titleFontSize\": 19}, \"field\": \"sess\"}, \"y\": {\"type\": \"quantitative\", \"axis\": {\"labelFontSize\": 19, \"title\": \"Intra Diversity\", \"titleFontSize\": 19}, \"field\": \"diversity\", \"scale\": {\"zero\": false}}}, \"height\": 250, \"width\": 550, \"$schema\": \"https://vega.github.io/schema/vega-lite/v4.8.1.json\", \"datasets\": {\"data-4355e9d1285dc9c1c4aea6fd55e078ce\": [{\"method\": \"  SMORL\", \"nb_attributes\": 5, \"sess\": 1, \"time\": 0.0256008823712666, \"attr_precision\": 0.0, \"precision\": 0.5333333333333333, \"recall\": 0.17857142857142858, \"diversity\": 0.5025825456927223, \"alpha_ndcg\": 1.1520009528722488, \"harmo\": 0.5175015265167299}, {\"method\": \"  SMORL\", \"nb_attributes\": 5, \"sess\": 2, \"time\": 0.0256008823712666, \"attr_precision\": 0.0, \"precision\": 0.5666666666666668, \"recall\": 0.18888888888888888, \"diversity\": 0.5106885912915076, \"alpha_ndcg\": 1.7445160742081907, \"harmo\": 0.537223352453512}, {\"method\": \"  SMORL\", \"nb_attributes\": 5, \"sess\": 3, \"time\": 0.0256008823712666, \"attr_precision\": 0.0, \"precision\": 0.43333333333333335, \"recall\": 0.14444444444444443, \"diversity\": 0.5007441538770953, \"alpha_ndcg\": 1.1408962261063629, \"harmo\": 0.4646062801379947}, {\"method\": \"  SWAP\", \"nb_attributes\": 5, \"sess\": 1, \"time\": 0.0758011889457702, \"attr_precision\": 0.0, \"precision\": 0.9333333333333333, \"recall\": 0.31269841269841264, \"diversity\": 0.5238109586040194, \"alpha_ndcg\": 2.6618862189286596, \"harmo\": 0.6710251424454498}, {\"method\": \"  SWAP\", \"nb_attributes\": 5, \"sess\": 2, \"time\": 0.0758011889457702, \"attr_precision\": 0.0, \"precision\": 0.2, \"recall\": 0.06666666666666667, \"diversity\": 0.5234275771081439, \"alpha_ndcg\": 0.46228426907818054, \"harmo\": 0.2894153298388279}, {\"method\": \"  SWAP\", \"nb_attributes\": 5, \"sess\": 3, \"time\": 0.0758011889457702, \"attr_precision\": 0.0, \"precision\": 0.4, \"recall\": 0.13333333333333333, \"diversity\": 0.5294186426997185, \"alpha_ndcg\": 0.8531883748199643, \"harmo\": 0.4556987504893559}, {\"method\": \" MMR\", \"nb_attributes\": 5, \"sess\": 1, \"time\": 3.3308542052904766, \"attr_precision\": 0.0, \"precision\": 0.06666666666666667, \"recall\": 0.022222222222222223, \"diversity\": 0.5609260832468663, \"alpha_ndcg\": 0.3333333333333333, \"harmo\": 0.11916986683357922}, {\"method\": \" MMR\", \"nb_attributes\": 5, \"sess\": 2, \"time\": 3.3308542052904766, \"attr_precision\": 0.0, \"precision\": 0.06666666666666667, \"recall\": 0.022222222222222223, \"diversity\": 0.5630053193767853, \"alpha_ndcg\": 0.3333333333333333, \"harmo\": 0.1192166359322908}, {\"method\": \" MMR\", \"nb_attributes\": 5, \"sess\": 3, \"time\": 3.3308542052904766, \"attr_precision\": 0.0, \"precision\": 0.06666666666666667, \"recall\": 0.022222222222222223, \"diversity\": 0.5594450908700603, \"alpha_ndcg\": 0.3333333333333333, \"harmo\": 0.11913636484984742}]}}, {\"mode\": \"vega-lite\"});\n",
       "</script>"
      ],
      "text/plain": [
       "alt.Chart(...)"
      ]
     },
     "execution_count": 19,
     "metadata": {},
     "output_type": "execute_result"
    }
   ],
   "source": [
    "graph_div_mult"
   ]
  },
  {
   "cell_type": "markdown",
   "metadata": {},
   "source": [
    "Precision"
   ]
  },
  {
   "cell_type": "code",
   "execution_count": 20,
   "metadata": {},
   "outputs": [],
   "source": [
    "wdth = 550\n",
    "heit = 250\n",
    "\n",
    "graph_prec_mult = alt.Chart(df[(df.method != 'KNN') & (df.nb_attributes == 5)]).\\\n",
    "                    mark_line(interpolate='basis',strokeWidth=3).encode(\n",
    "    alt.X('sess:N', axis=alt.Axis(title=\"Sessions\",\n",
    "                                             labelFontSize=19,\n",
    "                                             labelAngle=0,\n",
    "                                             titleFontSize=19)),\n",
    "\n",
    "        alt.Y('precision', axis=alt.Axis(title=\"Precision\",\n",
    "                                         labelFontSize=19,\n",
    "                                         titleFontSize=19),\n",
    "              scale=alt.Scale(zero=False)),\n",
    "\n",
    "    color=alt.Color('method',title='', legend=None),\n",
    "    strokeDash=alt.StrokeDash('method',title='')\n",
    ").properties(\n",
    "    width = wdth,\n",
    "    height = heit\n",
    ")"
   ]
  },
  {
   "cell_type": "code",
   "execution_count": 21,
   "metadata": {},
   "outputs": [
    {
     "data": {
      "text/html": [
       "\n",
       "<div id=\"altair-viz-77981b7bdb764ec1b30917c63ca09714\"></div>\n",
       "<script type=\"text/javascript\">\n",
       "  (function(spec, embedOpt){\n",
       "    let outputDiv = document.currentScript.previousElementSibling;\n",
       "    if (outputDiv.id !== \"altair-viz-77981b7bdb764ec1b30917c63ca09714\") {\n",
       "      outputDiv = document.getElementById(\"altair-viz-77981b7bdb764ec1b30917c63ca09714\");\n",
       "    }\n",
       "    const paths = {\n",
       "      \"vega\": \"https://cdn.jsdelivr.net/npm//vega@5?noext\",\n",
       "      \"vega-lib\": \"https://cdn.jsdelivr.net/npm//vega-lib?noext\",\n",
       "      \"vega-lite\": \"https://cdn.jsdelivr.net/npm//vega-lite@4.8.1?noext\",\n",
       "      \"vega-embed\": \"https://cdn.jsdelivr.net/npm//vega-embed@6?noext\",\n",
       "    };\n",
       "\n",
       "    function loadScript(lib) {\n",
       "      return new Promise(function(resolve, reject) {\n",
       "        var s = document.createElement('script');\n",
       "        s.src = paths[lib];\n",
       "        s.async = true;\n",
       "        s.onload = () => resolve(paths[lib]);\n",
       "        s.onerror = () => reject(`Error loading script: ${paths[lib]}`);\n",
       "        document.getElementsByTagName(\"head\")[0].appendChild(s);\n",
       "      });\n",
       "    }\n",
       "\n",
       "    function showError(err) {\n",
       "      outputDiv.innerHTML = `<div class=\"error\" style=\"color:red;\">${err}</div>`;\n",
       "      throw err;\n",
       "    }\n",
       "\n",
       "    function displayChart(vegaEmbed) {\n",
       "      vegaEmbed(outputDiv, spec, embedOpt)\n",
       "        .catch(err => showError(`Javascript Error: ${err.message}<br>This usually means there's a typo in your chart specification. See the javascript console for the full traceback.`));\n",
       "    }\n",
       "\n",
       "    if(typeof define === \"function\" && define.amd) {\n",
       "      requirejs.config({paths});\n",
       "      require([\"vega-embed\"], displayChart, err => showError(`Error loading script: ${err.message}`));\n",
       "    } else if (typeof vegaEmbed === \"function\") {\n",
       "      displayChart(vegaEmbed);\n",
       "    } else {\n",
       "      loadScript(\"vega\")\n",
       "        .then(() => loadScript(\"vega-lite\"))\n",
       "        .then(() => loadScript(\"vega-embed\"))\n",
       "        .catch(showError)\n",
       "        .then(() => displayChart(vegaEmbed));\n",
       "    }\n",
       "  })({\"config\": {\"view\": {\"continuousWidth\": 400, \"continuousHeight\": 300}}, \"data\": {\"name\": \"data-4355e9d1285dc9c1c4aea6fd55e078ce\"}, \"mark\": {\"type\": \"line\", \"interpolate\": \"basis\", \"strokeWidth\": 3}, \"encoding\": {\"color\": {\"type\": \"nominal\", \"field\": \"method\", \"legend\": null, \"title\": \"\"}, \"strokeDash\": {\"type\": \"nominal\", \"field\": \"method\", \"title\": \"\"}, \"x\": {\"type\": \"nominal\", \"axis\": {\"labelAngle\": 0, \"labelFontSize\": 19, \"title\": \"Sessions\", \"titleFontSize\": 19}, \"field\": \"sess\"}, \"y\": {\"type\": \"quantitative\", \"axis\": {\"labelFontSize\": 19, \"title\": \"Precision\", \"titleFontSize\": 19}, \"field\": \"precision\", \"scale\": {\"zero\": false}}}, \"height\": 250, \"width\": 550, \"$schema\": \"https://vega.github.io/schema/vega-lite/v4.8.1.json\", \"datasets\": {\"data-4355e9d1285dc9c1c4aea6fd55e078ce\": [{\"method\": \"  SMORL\", \"nb_attributes\": 5, \"sess\": 1, \"time\": 0.0256008823712666, \"attr_precision\": 0.0, \"precision\": 0.5333333333333333, \"recall\": 0.17857142857142858, \"diversity\": 0.5025825456927223, \"alpha_ndcg\": 1.1520009528722488, \"harmo\": 0.5175015265167299}, {\"method\": \"  SMORL\", \"nb_attributes\": 5, \"sess\": 2, \"time\": 0.0256008823712666, \"attr_precision\": 0.0, \"precision\": 0.5666666666666668, \"recall\": 0.18888888888888888, \"diversity\": 0.5106885912915076, \"alpha_ndcg\": 1.7445160742081907, \"harmo\": 0.537223352453512}, {\"method\": \"  SMORL\", \"nb_attributes\": 5, \"sess\": 3, \"time\": 0.0256008823712666, \"attr_precision\": 0.0, \"precision\": 0.43333333333333335, \"recall\": 0.14444444444444443, \"diversity\": 0.5007441538770953, \"alpha_ndcg\": 1.1408962261063629, \"harmo\": 0.4646062801379947}, {\"method\": \"  SWAP\", \"nb_attributes\": 5, \"sess\": 1, \"time\": 0.0758011889457702, \"attr_precision\": 0.0, \"precision\": 0.9333333333333333, \"recall\": 0.31269841269841264, \"diversity\": 0.5238109586040194, \"alpha_ndcg\": 2.6618862189286596, \"harmo\": 0.6710251424454498}, {\"method\": \"  SWAP\", \"nb_attributes\": 5, \"sess\": 2, \"time\": 0.0758011889457702, \"attr_precision\": 0.0, \"precision\": 0.2, \"recall\": 0.06666666666666667, \"diversity\": 0.5234275771081439, \"alpha_ndcg\": 0.46228426907818054, \"harmo\": 0.2894153298388279}, {\"method\": \"  SWAP\", \"nb_attributes\": 5, \"sess\": 3, \"time\": 0.0758011889457702, \"attr_precision\": 0.0, \"precision\": 0.4, \"recall\": 0.13333333333333333, \"diversity\": 0.5294186426997185, \"alpha_ndcg\": 0.8531883748199643, \"harmo\": 0.4556987504893559}, {\"method\": \" MMR\", \"nb_attributes\": 5, \"sess\": 1, \"time\": 3.3308542052904766, \"attr_precision\": 0.0, \"precision\": 0.06666666666666667, \"recall\": 0.022222222222222223, \"diversity\": 0.5609260832468663, \"alpha_ndcg\": 0.3333333333333333, \"harmo\": 0.11916986683357922}, {\"method\": \" MMR\", \"nb_attributes\": 5, \"sess\": 2, \"time\": 3.3308542052904766, \"attr_precision\": 0.0, \"precision\": 0.06666666666666667, \"recall\": 0.022222222222222223, \"diversity\": 0.5630053193767853, \"alpha_ndcg\": 0.3333333333333333, \"harmo\": 0.1192166359322908}, {\"method\": \" MMR\", \"nb_attributes\": 5, \"sess\": 3, \"time\": 3.3308542052904766, \"attr_precision\": 0.0, \"precision\": 0.06666666666666667, \"recall\": 0.022222222222222223, \"diversity\": 0.5594450908700603, \"alpha_ndcg\": 0.3333333333333333, \"harmo\": 0.11913636484984742}]}}, {\"mode\": \"vega-lite\"});\n",
       "</script>"
      ],
      "text/plain": [
       "alt.Chart(...)"
      ]
     },
     "execution_count": 21,
     "metadata": {},
     "output_type": "execute_result"
    }
   ],
   "source": [
    "graph_prec_mult"
   ]
  },
  {
   "cell_type": "markdown",
   "metadata": {},
   "source": [
    "αnDCG"
   ]
  },
  {
   "cell_type": "code",
   "execution_count": 22,
   "metadata": {},
   "outputs": [],
   "source": [
    "wdth = 550\n",
    "heit = 250\n",
    "\n",
    "graph_harmo_mult = alt.Chart(df[(df.method != 'KNN') & (df.nb_attributes == 5)]).\\\n",
    "                    mark_line(interpolate='basis',strokeWidth=3).encode(\n",
    "\n",
    "    alt.X('sess:N', axis=alt.Axis(title=\"Sessions\",\n",
    "                                             labelFontSize=19,\n",
    "                                             labelAngle=0,\n",
    "                                             titleFontSize=19)),\n",
    "\n",
    "        alt.Y('alpha_ndcg', axis=alt.Axis(title=\"αnDCG\",\n",
    "                                         labelFontSize=19,\n",
    "                                         titleFontSize=19),\n",
    "              scale=alt.Scale(zero=False)),\n",
    "    \n",
    "    color=alt.Color('method',title='', legend=None),\n",
    "    strokeDash=alt.StrokeDash('method',title='')\n",
    ").properties(\n",
    "    width = wdth,\n",
    "    height = heit\n",
    ")"
   ]
  },
  {
   "cell_type": "code",
   "execution_count": 23,
   "metadata": {},
   "outputs": [
    {
     "data": {
      "text/html": [
       "\n",
       "<div id=\"altair-viz-7332edc8ce00472898c476294a0824b4\"></div>\n",
       "<script type=\"text/javascript\">\n",
       "  (function(spec, embedOpt){\n",
       "    let outputDiv = document.currentScript.previousElementSibling;\n",
       "    if (outputDiv.id !== \"altair-viz-7332edc8ce00472898c476294a0824b4\") {\n",
       "      outputDiv = document.getElementById(\"altair-viz-7332edc8ce00472898c476294a0824b4\");\n",
       "    }\n",
       "    const paths = {\n",
       "      \"vega\": \"https://cdn.jsdelivr.net/npm//vega@5?noext\",\n",
       "      \"vega-lib\": \"https://cdn.jsdelivr.net/npm//vega-lib?noext\",\n",
       "      \"vega-lite\": \"https://cdn.jsdelivr.net/npm//vega-lite@4.8.1?noext\",\n",
       "      \"vega-embed\": \"https://cdn.jsdelivr.net/npm//vega-embed@6?noext\",\n",
       "    };\n",
       "\n",
       "    function loadScript(lib) {\n",
       "      return new Promise(function(resolve, reject) {\n",
       "        var s = document.createElement('script');\n",
       "        s.src = paths[lib];\n",
       "        s.async = true;\n",
       "        s.onload = () => resolve(paths[lib]);\n",
       "        s.onerror = () => reject(`Error loading script: ${paths[lib]}`);\n",
       "        document.getElementsByTagName(\"head\")[0].appendChild(s);\n",
       "      });\n",
       "    }\n",
       "\n",
       "    function showError(err) {\n",
       "      outputDiv.innerHTML = `<div class=\"error\" style=\"color:red;\">${err}</div>`;\n",
       "      throw err;\n",
       "    }\n",
       "\n",
       "    function displayChart(vegaEmbed) {\n",
       "      vegaEmbed(outputDiv, spec, embedOpt)\n",
       "        .catch(err => showError(`Javascript Error: ${err.message}<br>This usually means there's a typo in your chart specification. See the javascript console for the full traceback.`));\n",
       "    }\n",
       "\n",
       "    if(typeof define === \"function\" && define.amd) {\n",
       "      requirejs.config({paths});\n",
       "      require([\"vega-embed\"], displayChart, err => showError(`Error loading script: ${err.message}`));\n",
       "    } else if (typeof vegaEmbed === \"function\") {\n",
       "      displayChart(vegaEmbed);\n",
       "    } else {\n",
       "      loadScript(\"vega\")\n",
       "        .then(() => loadScript(\"vega-lite\"))\n",
       "        .then(() => loadScript(\"vega-embed\"))\n",
       "        .catch(showError)\n",
       "        .then(() => displayChart(vegaEmbed));\n",
       "    }\n",
       "  })({\"config\": {\"view\": {\"continuousWidth\": 400, \"continuousHeight\": 300}}, \"data\": {\"name\": \"data-4355e9d1285dc9c1c4aea6fd55e078ce\"}, \"mark\": {\"type\": \"line\", \"interpolate\": \"basis\", \"strokeWidth\": 3}, \"encoding\": {\"color\": {\"type\": \"nominal\", \"field\": \"method\", \"legend\": null, \"title\": \"\"}, \"strokeDash\": {\"type\": \"nominal\", \"field\": \"method\", \"title\": \"\"}, \"x\": {\"type\": \"nominal\", \"axis\": {\"labelAngle\": 0, \"labelFontSize\": 19, \"title\": \"Sessions\", \"titleFontSize\": 19}, \"field\": \"sess\"}, \"y\": {\"type\": \"quantitative\", \"axis\": {\"labelFontSize\": 19, \"title\": \"\\u03b1nDCG\", \"titleFontSize\": 19}, \"field\": \"alpha_ndcg\", \"scale\": {\"zero\": false}}}, \"height\": 250, \"width\": 550, \"$schema\": \"https://vega.github.io/schema/vega-lite/v4.8.1.json\", \"datasets\": {\"data-4355e9d1285dc9c1c4aea6fd55e078ce\": [{\"method\": \"  SMORL\", \"nb_attributes\": 5, \"sess\": 1, \"time\": 0.0256008823712666, \"attr_precision\": 0.0, \"precision\": 0.5333333333333333, \"recall\": 0.17857142857142858, \"diversity\": 0.5025825456927223, \"alpha_ndcg\": 1.1520009528722488, \"harmo\": 0.5175015265167299}, {\"method\": \"  SMORL\", \"nb_attributes\": 5, \"sess\": 2, \"time\": 0.0256008823712666, \"attr_precision\": 0.0, \"precision\": 0.5666666666666668, \"recall\": 0.18888888888888888, \"diversity\": 0.5106885912915076, \"alpha_ndcg\": 1.7445160742081907, \"harmo\": 0.537223352453512}, {\"method\": \"  SMORL\", \"nb_attributes\": 5, \"sess\": 3, \"time\": 0.0256008823712666, \"attr_precision\": 0.0, \"precision\": 0.43333333333333335, \"recall\": 0.14444444444444443, \"diversity\": 0.5007441538770953, \"alpha_ndcg\": 1.1408962261063629, \"harmo\": 0.4646062801379947}, {\"method\": \"  SWAP\", \"nb_attributes\": 5, \"sess\": 1, \"time\": 0.0758011889457702, \"attr_precision\": 0.0, \"precision\": 0.9333333333333333, \"recall\": 0.31269841269841264, \"diversity\": 0.5238109586040194, \"alpha_ndcg\": 2.6618862189286596, \"harmo\": 0.6710251424454498}, {\"method\": \"  SWAP\", \"nb_attributes\": 5, \"sess\": 2, \"time\": 0.0758011889457702, \"attr_precision\": 0.0, \"precision\": 0.2, \"recall\": 0.06666666666666667, \"diversity\": 0.5234275771081439, \"alpha_ndcg\": 0.46228426907818054, \"harmo\": 0.2894153298388279}, {\"method\": \"  SWAP\", \"nb_attributes\": 5, \"sess\": 3, \"time\": 0.0758011889457702, \"attr_precision\": 0.0, \"precision\": 0.4, \"recall\": 0.13333333333333333, \"diversity\": 0.5294186426997185, \"alpha_ndcg\": 0.8531883748199643, \"harmo\": 0.4556987504893559}, {\"method\": \" MMR\", \"nb_attributes\": 5, \"sess\": 1, \"time\": 3.3308542052904766, \"attr_precision\": 0.0, \"precision\": 0.06666666666666667, \"recall\": 0.022222222222222223, \"diversity\": 0.5609260832468663, \"alpha_ndcg\": 0.3333333333333333, \"harmo\": 0.11916986683357922}, {\"method\": \" MMR\", \"nb_attributes\": 5, \"sess\": 2, \"time\": 3.3308542052904766, \"attr_precision\": 0.0, \"precision\": 0.06666666666666667, \"recall\": 0.022222222222222223, \"diversity\": 0.5630053193767853, \"alpha_ndcg\": 0.3333333333333333, \"harmo\": 0.1192166359322908}, {\"method\": \" MMR\", \"nb_attributes\": 5, \"sess\": 3, \"time\": 3.3308542052904766, \"attr_precision\": 0.0, \"precision\": 0.06666666666666667, \"recall\": 0.022222222222222223, \"diversity\": 0.5594450908700603, \"alpha_ndcg\": 0.3333333333333333, \"harmo\": 0.11913636484984742}]}}, {\"mode\": \"vega-lite\"});\n",
       "</script>"
      ],
      "text/plain": [
       "alt.Chart(...)"
      ]
     },
     "execution_count": 23,
     "metadata": {},
     "output_type": "execute_result"
    }
   ],
   "source": [
    "graph_harmo_mult"
   ]
  },
  {
   "cell_type": "markdown",
   "metadata": {},
   "source": [
    "# Transfer Learning"
   ]
  },
  {
   "cell_type": "code",
   "execution_count": 24,
   "metadata": {},
   "outputs": [
    {
     "data": {
      "text/html": [
       "\n",
       "<svg height=\"0\" width=\"0\" xmlns=\"http://www.w3.org/2000/svg\" version=\"1.1\">\n",
       "    <defs>\n",
       "\n",
       "        <!-- From SVG stripe generator \n",
       "        https://www.coffee-break-designs.com/labs/svg_stripe_generator/ -->\n",
       "        <pattern id=\"pattern_0\" patternUnits=\"userSpaceOnUse\" width=\"5\" height=\"5\" patternTransform=\"rotate(0)\">\n",
       "            <line x1=\"0\" y=\"0\" x2=\"0\" y2=\"5\" stroke=\"#CB37A5\" stroke-width=\"15\" />\n",
       "        </pattern>\n",
       "        \n",
       "        <pattern id=\"pattern_1\" patternUnits=\"userSpaceOnUse\" width=\"5\" height=\"5\" patternTransform=\"rotate(45)\">\n",
       "            <line x1=\"0\" y=\"0\" x2=\"0\" y2=\"5\" stroke=\"#1F77B4\" stroke-width=\"4\" />\n",
       "        </pattern>\n",
       "        \n",
       "        <pattern id=\"pattern_2\" patternUnits=\"userSpaceOnUse\" width=\"5\" height=\"5\" patternTransform=\"rotate(135)\">\n",
       "            <line x1=\"0\" y=\"0\" x2=\"0\" y2=\"5\" stroke=\"#FF7F0E\" stroke-width=\"4\" />\n",
       "        </pattern>\n",
       "\n",
       "        <pattern id=\"pattern_3\" patternUnits=\"userSpaceOnUse\" width=\"5\" height=\"5\" patternTransform=\"rotate(0)\">\n",
       "            <line x1=\"0\" y=\"0\" x2=\"0\" y2=\"5\" stroke=\"#2CA02C\" stroke-width=\"4\" />\n",
       "        </pattern>\n",
       "        \n",
       "        <pattern id=\"pattern_4\" patternUnits=\"userSpaceOnUse\" width=\"5\" height=\"5\" patternTransform=\"rotate(90)\">\n",
       "            <line x1=\"0\" y=\"0\" x2=\"0\" y2=\"5\" stroke=\"#D62728\" stroke-width=\"4\" />\n",
       "        </pattern>\n",
       "        \n",
       "        <pattern id=\"pattern_5\" patternUnits=\"userSpaceOnUse\" width=\"5\" height=\"5\" patternTransform=\"rotate(90)\">\n",
       "            <line x1=\"0\" y=\"0\" x2=\"0\" y2=\"5\" stroke=\"#9467BD\" stroke-width=\"4\" />\n",
       "            <line x1=\"0\" y=\"0\" x2=\"5\" y2=\"0\" stroke=\"#9467BD\" stroke-width=\"4\" />\n",
       "        </pattern>\n",
       "        \n",
       "        <pattern id=\"pattern_6\" patternUnits=\"userSpaceOnUse\" width=\"5\" height=\"5\" patternTransform=\"rotate(45)\">\n",
       "            <line x1=\"0\" y=\"0\" x2=\"5\" y2=\"0\" stroke=\"#8C564B\" stroke-width=\"4\" />\n",
       "            <line x1=\"0\" y=\"0\" x2=\"0\" y2=\"5\" stroke=\"#8C564B\" stroke-width=\"4\" />\n",
       "        </pattern>\n",
       "        \n",
       "        <pattern id=\"pattern_7\" patternUnits=\"userSpaceOnUse\" width=\"10\" height=\"10\" patternTransform=\"rotate(45)\">\n",
       "            <line x1=\"0\" y=\"0\" x2=\"0\" y2=\"10\" stroke=\"#316B83\" stroke-width=\"4\" />\n",
       "        </pattern>\n",
       "        \n",
       "        <pattern id=\"pattern_8\" patternUnits=\"userSpaceOnUse\" width=\"10\" height=\"10\" patternTransform=\"rotate(135)\">\n",
       "            <line x1=\"0\" y=\"0\" x2=\"0\" y2=\"10\" stroke=\"#CE6DBD\" stroke-width=\"4\" />\n",
       "        </pattern>\n",
       "        \n",
       "    </defs>\n",
       "</svg>\n"
      ],
      "text/plain": [
       "<IPython.core.display.HTML object>"
      ]
     },
     "execution_count": 24,
     "metadata": {},
     "output_type": "execute_result"
    }
   ],
   "source": [
    "alt.data_transformers.disable_max_rows()\n",
    "alt.renderers.enable('svg')\n",
    "\n",
    "HTML('''\n",
    "<svg height=\"0\" width=\"0\" xmlns=\"http://www.w3.org/2000/svg\" version=\"1.1\">\n",
    "    <defs>\n",
    "\n",
    "        <!-- From SVG stripe generator \n",
    "        https://www.coffee-break-designs.com/labs/svg_stripe_generator/ -->\n",
    "        <pattern id=\"pattern_0\" patternUnits=\"userSpaceOnUse\" width=\"5\" height=\"5\" patternTransform=\"rotate(0)\">\n",
    "            <line x1=\"0\" y=\"0\" x2=\"0\" y2=\"5\" stroke=\"#CB37A5\" stroke-width=\"15\" />\n",
    "        </pattern>\n",
    "        \n",
    "        <pattern id=\"pattern_1\" patternUnits=\"userSpaceOnUse\" width=\"5\" height=\"5\" patternTransform=\"rotate(45)\">\n",
    "            <line x1=\"0\" y=\"0\" x2=\"0\" y2=\"5\" stroke=\"#1F77B4\" stroke-width=\"4\" />\n",
    "        </pattern>\n",
    "        \n",
    "        <pattern id=\"pattern_2\" patternUnits=\"userSpaceOnUse\" width=\"5\" height=\"5\" patternTransform=\"rotate(135)\">\n",
    "            <line x1=\"0\" y=\"0\" x2=\"0\" y2=\"5\" stroke=\"#FF7F0E\" stroke-width=\"4\" />\n",
    "        </pattern>\n",
    "\n",
    "        <pattern id=\"pattern_3\" patternUnits=\"userSpaceOnUse\" width=\"5\" height=\"5\" patternTransform=\"rotate(0)\">\n",
    "            <line x1=\"0\" y=\"0\" x2=\"0\" y2=\"5\" stroke=\"#2CA02C\" stroke-width=\"4\" />\n",
    "        </pattern>\n",
    "        \n",
    "        <pattern id=\"pattern_4\" patternUnits=\"userSpaceOnUse\" width=\"5\" height=\"5\" patternTransform=\"rotate(90)\">\n",
    "            <line x1=\"0\" y=\"0\" x2=\"0\" y2=\"5\" stroke=\"#D62728\" stroke-width=\"4\" />\n",
    "        </pattern>\n",
    "        \n",
    "        <pattern id=\"pattern_5\" patternUnits=\"userSpaceOnUse\" width=\"5\" height=\"5\" patternTransform=\"rotate(90)\">\n",
    "            <line x1=\"0\" y=\"0\" x2=\"0\" y2=\"5\" stroke=\"#9467BD\" stroke-width=\"4\" />\n",
    "            <line x1=\"0\" y=\"0\" x2=\"5\" y2=\"0\" stroke=\"#9467BD\" stroke-width=\"4\" />\n",
    "        </pattern>\n",
    "        \n",
    "        <pattern id=\"pattern_6\" patternUnits=\"userSpaceOnUse\" width=\"5\" height=\"5\" patternTransform=\"rotate(45)\">\n",
    "            <line x1=\"0\" y=\"0\" x2=\"5\" y2=\"0\" stroke=\"#8C564B\" stroke-width=\"4\" />\n",
    "            <line x1=\"0\" y=\"0\" x2=\"0\" y2=\"5\" stroke=\"#8C564B\" stroke-width=\"4\" />\n",
    "        </pattern>\n",
    "        \n",
    "        <pattern id=\"pattern_7\" patternUnits=\"userSpaceOnUse\" width=\"10\" height=\"10\" patternTransform=\"rotate(45)\">\n",
    "            <line x1=\"0\" y=\"0\" x2=\"0\" y2=\"10\" stroke=\"#316B83\" stroke-width=\"4\" />\n",
    "        </pattern>\n",
    "        \n",
    "        <pattern id=\"pattern_8\" patternUnits=\"userSpaceOnUse\" width=\"10\" height=\"10\" patternTransform=\"rotate(135)\">\n",
    "            <line x1=\"0\" y=\"0\" x2=\"0\" y2=\"10\" stroke=\"#CE6DBD\" stroke-width=\"4\" />\n",
    "        </pattern>\n",
    "        \n",
    "    </defs>\n",
    "</svg>\n",
    "''')"
   ]
  },
  {
   "cell_type": "code",
   "execution_count": 25,
   "metadata": {},
   "outputs": [],
   "source": [
    "df = pd.read_csv('Data/no_attr/test_results/all_results_topk_3_transfer_div.csv')\n",
    "df.test_classe = df.test_classe+1\n",
    "\n",
    "df_second = df[df.test_classe==0]\n",
    "\n",
    "df_third = df[((df.test_classe==1) & (df.method=='SMORL_0')) | ((df.test_classe==2) & (df.method=='SMORL_1')) \n",
    "             | ((df.test_classe==3) & (df.method=='SMORL_2'))]\n",
    "\n",
    "df = df[df.test_classe!=0]"
   ]
  },
  {
   "cell_type": "code",
   "execution_count": 26,
   "metadata": {},
   "outputs": [],
   "source": [
    "df_second = df_second.append(df_third)\n",
    "del df_third"
   ]
  },
  {
   "cell_type": "code",
   "execution_count": 27,
   "metadata": {},
   "outputs": [],
   "source": [
    "df_4 = pd.DataFrame()\n",
    "\n",
    "for i in range(1):    \n",
    "    df_2 = df_second.copy()\n",
    "        \n",
    "    for idx, col in enumerate(['precision','recall','diversity','alpha_ndcg']):\n",
    "        aa = list(df_second[col].apply(lambda x: x.split('[')[1].split(']')[0].split(',')))\n",
    "        aa = np.array(aa)\n",
    "    \n",
    "        df_2[col] = aa[:,i]\n",
    "        df_2[col] = df_2[col].astype(float)\n",
    "            \n",
    "    if i == 0 and idx == 0:\n",
    "        df_4 = df_2\n",
    "    else:\n",
    "        df_4 = pd.concat([df_4,df_2])\n",
    "        "
   ]
  },
  {
   "cell_type": "code",
   "execution_count": 28,
   "metadata": {},
   "outputs": [],
   "source": [
    "df_4[f'harmo'] = df_4[f'precision']+df_4[f'diversity']\n",
    "df_4[f'harmo'] = (2*df_4[f'precision']*df_4[f'diversity'])/df_4[f'harmo']\n",
    "\n",
    "df_4.test_classe = df_4.test_classe.apply(lambda x :'Known' if x>0 else 'Unknown')\n",
    "df_4 = df_4.replace({'SMORL_0':'Low div','SMORL_1':'Medium div','SMORL_2':'High div'})\n",
    "df_5 = df_4.copy()\n",
    "\n",
    "df_4 = df_4.groupby(['method','test_classe','time']).mean().reset_index()"
   ]
  },
  {
   "cell_type": "code",
   "execution_count": 29,
   "metadata": {},
   "outputs": [],
   "source": [
    "pattern_scale = ({\n",
    "       'range': ['url(#pattern_1)', 'url(#pattern_2)', 'url(#pattern_3)',\n",
    "                 'url(#pattern_4)','url(#pattern_5)','url(#pattern_6)','url(#pattern_7)','url(#pattern_8)']\n",
    "    })"
   ]
  },
  {
   "cell_type": "markdown",
   "metadata": {},
   "source": [
    "Precision"
   ]
  },
  {
   "cell_type": "code",
   "execution_count": 30,
   "metadata": {},
   "outputs": [],
   "source": [
    "wdth = 200\n",
    "heit = 350\n",
    "\n",
    "charts = None\n",
    "\n",
    "for idx,classe in enumerate(['Low div','Medium div','High div']):\n",
    "    \n",
    "    graph_prec_transfer = alt.Chart(df_4[(df_4.method==classe)]).\\\n",
    "    mark_bar().encode(\n",
    "        alt.X('test_classe:N', axis=alt.Axis(title=\"Test Set\",\n",
    "                                             labelAlign='center',\n",
    "                                             labelFontSize=18,\n",
    "                                             labelAngle=0,\n",
    "                                             titleFontSize=17)),\n",
    "        \n",
    "        alt.Y('precision', axis=alt.Axis(title=\"Precision\",\n",
    "                                         labelFontSize=15,\n",
    "                                         titleFontSize=17),\n",
    "              scale=alt.Scale(domain=(0,1.2))),\n",
    "        \n",
    "        color = alt.Color('test_classe', legend=None),\n",
    "        \n",
    "        fill = alt.Fill('test_classe:N',title='',scale=pattern_scale, legend = None)\n",
    "        #legend=alt.Legend(orient='bottom', titleFontSize=25, labelFontSize=23, titleFontStyle='italic',\n",
    "        #                  labelFontStyle='bold',titleFont = 'Time New Roman',\\\n",
    "        #                    labelFont='Time New Roman',symbolSize=500) )\n",
    "        \n",
    "    ).properties(\n",
    "        width = wdth,\n",
    "        height = heit\n",
    "    )\n",
    "    \n",
    "    errorbars = alt.Chart(df_5[(df_5.method==classe)]).mark_errorbar(extent='ci',color='red').encode(\n",
    "        x=\"test_classe\",\n",
    "        y = alt.Y('precision', axis=alt.Axis(title='')),\n",
    "    )\n",
    "    \n",
    "    if idx == 0:\n",
    "        charts = (graph_prec_transfer+errorbars).properties(title=f'{classe}ersity')\n",
    "    else:\n",
    "        charts = charts | (graph_prec_transfer+errorbars).properties(title= f'{classe}ersity')\n",
    "\n",
    "charts = charts.configure_title(fontSize=16)"
   ]
  },
  {
   "cell_type": "code",
   "execution_count": 31,
   "metadata": {},
   "outputs": [
    {
     "name": "stderr",
     "output_type": "stream",
     "text": [
      "WARN Dropping color encoding as the plot also has fill.\n",
      "WARN Dropping color encoding as the plot also has fill.\n",
      "WARN Dropping color encoding as the plot also has fill.\n"
     ]
    },
    {
     "data": {
      "image/svg+xml": [
       "<svg class=\"marks\" width=\"803\" height=\"435\" viewBox=\"0 0 803 435\" version=\"1.1\" xmlns=\"http://www.w3.org/2000/svg\" xmlns:xlink=\"http://www.w3.org/1999/xlink\"><rect width=\"803\" height=\"435\" style=\"fill: white;\"></rect><g transform=\"translate(55,33)\"><g class=\"mark-group role-frame root\"><g transform=\"translate(0,0)\"><path class=\"background\" d=\"M0,0h0v350h0Z\" style=\"fill: none;\"></path><g><g class=\"mark-group role-scope concat_0_group\"><g transform=\"translate(0,0)\"><path class=\"background\" d=\"M0.5,0.5h200v350h-200Z\" style=\"fill: none; stroke: #ddd;\"></path><g><g class=\"mark-group role-axis\"><g transform=\"translate(0.5,0.5)\"><path class=\"background\" d=\"M0,0h0v0h0Z\" style=\"pointer-events: none; fill: none;\"></path><g><g class=\"mark-rule role-axis-grid\" style=\"pointer-events: none;\"><line transform=\"translate(0,350)\" x2=\"200\" y2=\"0\" style=\"fill: none; stroke: #ddd; stroke-width: 1; opacity: 1;\"></line><line transform=\"translate(0,321)\" x2=\"200\" y2=\"0\" style=\"fill: none; stroke: #ddd; stroke-width: 1; opacity: 1;\"></line><line transform=\"translate(0,292)\" x2=\"200\" y2=\"0\" style=\"fill: none; stroke: #ddd; stroke-width: 1; opacity: 1;\"></line><line transform=\"translate(0,263)\" x2=\"200\" y2=\"0\" style=\"fill: none; stroke: #ddd; stroke-width: 1; opacity: 1;\"></line><line transform=\"translate(0,233)\" x2=\"200\" y2=\"0\" style=\"fill: none; stroke: #ddd; stroke-width: 1; opacity: 1;\"></line><line transform=\"translate(0,204)\" x2=\"200\" y2=\"0\" style=\"fill: none; stroke: #ddd; stroke-width: 1; opacity: 1;\"></line><line transform=\"translate(0,175)\" x2=\"200\" y2=\"0\" style=\"fill: none; stroke: #ddd; stroke-width: 1; opacity: 1;\"></line><line transform=\"translate(0,146)\" x2=\"200\" y2=\"0\" style=\"fill: none; stroke: #ddd; stroke-width: 1; opacity: 1;\"></line><line transform=\"translate(0,117)\" x2=\"200\" y2=\"0\" style=\"fill: none; stroke: #ddd; stroke-width: 1; opacity: 1;\"></line><line transform=\"translate(0,88)\" x2=\"200\" y2=\"0\" style=\"fill: none; stroke: #ddd; stroke-width: 1; opacity: 1;\"></line><line transform=\"translate(0,58)\" x2=\"200\" y2=\"0\" style=\"fill: none; stroke: #ddd; stroke-width: 1; opacity: 1;\"></line><line transform=\"translate(0,29)\" x2=\"200\" y2=\"0\" style=\"fill: none; stroke: #ddd; stroke-width: 1; opacity: 1;\"></line><line transform=\"translate(0,0)\" x2=\"200\" y2=\"0\" style=\"fill: none; stroke: #ddd; stroke-width: 1; opacity: 1;\"></line></g></g></g></g><g class=\"mark-group role-axis\"><g transform=\"translate(0.5,350.5)\"><path class=\"background\" d=\"M0,0h0v0h0Z\" style=\"pointer-events: none; fill: none;\"></path><g><g class=\"mark-rule role-axis-tick\" style=\"pointer-events: none;\"><line transform=\"translate(49,0)\" x2=\"0\" y2=\"5\" style=\"fill: none; stroke: #888; stroke-width: 1; opacity: 1;\"></line><line transform=\"translate(149,0)\" x2=\"0\" y2=\"5\" style=\"fill: none; stroke: #888; stroke-width: 1; opacity: 1;\"></line></g><g class=\"mark-text role-axis-label\" style=\"pointer-events: none;\"><text text-anchor=\"middle\" transform=\"translate(49,21)\" style=\"font-family: sans-serif; font-size: 18px; fill: #000; opacity: 1;\">Known</text><text text-anchor=\"middle\" transform=\"translate(149,21)\" style=\"font-family: sans-serif; font-size: 18px; fill: #000; opacity: 1;\">Unknown</text></g><g class=\"mark-rule role-axis-domain\" style=\"pointer-events: none;\"><line transform=\"translate(0,0)\" x2=\"200\" y2=\"0\" style=\"fill: none; stroke: #888; stroke-width: 1; opacity: 1;\"></line></g><g class=\"mark-text role-axis-title\" style=\"pointer-events: none;\"><text text-anchor=\"middle\" transform=\"translate(100,42)\" style=\"font-family: sans-serif; font-size: 17px; font-weight: bold; fill: #000; opacity: 1;\">Test Set</text></g></g></g></g><g class=\"mark-group role-axis\"><g transform=\"translate(0.5,0.5)\"><path class=\"background\" d=\"M0,0h0v0h0Z\" style=\"pointer-events: none; fill: none;\"></path><g><g class=\"mark-rule role-axis-tick\" style=\"pointer-events: none;\"><line transform=\"translate(0,350)\" x2=\"-5\" y2=\"0\" style=\"fill: none; stroke: #888; stroke-width: 1; opacity: 1;\"></line><line transform=\"translate(0,321)\" x2=\"-5\" y2=\"0\" style=\"fill: none; stroke: #888; stroke-width: 1; opacity: 1;\"></line><line transform=\"translate(0,292)\" x2=\"-5\" y2=\"0\" style=\"fill: none; stroke: #888; stroke-width: 1; opacity: 1;\"></line><line transform=\"translate(0,263)\" x2=\"-5\" y2=\"0\" style=\"fill: none; stroke: #888; stroke-width: 1; opacity: 1;\"></line><line transform=\"translate(0,233)\" x2=\"-5\" y2=\"0\" style=\"fill: none; stroke: #888; stroke-width: 1; opacity: 1;\"></line><line transform=\"translate(0,204)\" x2=\"-5\" y2=\"0\" style=\"fill: none; stroke: #888; stroke-width: 1; opacity: 1;\"></line><line transform=\"translate(0,175)\" x2=\"-5\" y2=\"0\" style=\"fill: none; stroke: #888; stroke-width: 1; opacity: 1;\"></line><line transform=\"translate(0,146)\" x2=\"-5\" y2=\"0\" style=\"fill: none; stroke: #888; stroke-width: 1; opacity: 1;\"></line><line transform=\"translate(0,117)\" x2=\"-5\" y2=\"0\" style=\"fill: none; stroke: #888; stroke-width: 1; opacity: 1;\"></line><line transform=\"translate(0,88)\" x2=\"-5\" y2=\"0\" style=\"fill: none; stroke: #888; stroke-width: 1; opacity: 1;\"></line><line transform=\"translate(0,58)\" x2=\"-5\" y2=\"0\" style=\"fill: none; stroke: #888; stroke-width: 1; opacity: 1;\"></line><line transform=\"translate(0,29)\" x2=\"-5\" y2=\"0\" style=\"fill: none; stroke: #888; stroke-width: 1; opacity: 1;\"></line><line transform=\"translate(0,0)\" x2=\"-5\" y2=\"0\" style=\"fill: none; stroke: #888; stroke-width: 1; opacity: 1;\"></line></g><g class=\"mark-text role-axis-label\" style=\"pointer-events: none;\"><text text-anchor=\"end\" transform=\"translate(-7,355)\" style=\"font-family: sans-serif; font-size: 15px; fill: #000; opacity: 1;\">0.0</text><text text-anchor=\"end\" transform=\"translate(-7,325.8333333333333)\" style=\"font-family: sans-serif; font-size: 15px; fill: #000; opacity: 1;\">0.1</text><text text-anchor=\"end\" transform=\"translate(-7,296.66666666666663)\" style=\"font-family: sans-serif; font-size: 15px; fill: #000; opacity: 1;\">0.2</text><text text-anchor=\"end\" transform=\"translate(-7,267.5)\" style=\"font-family: sans-serif; font-size: 15px; fill: #000; opacity: 1;\">0.3</text><text text-anchor=\"end\" transform=\"translate(-7,238.33333333333331)\" style=\"font-family: sans-serif; font-size: 15px; fill: #000; opacity: 1;\">0.4</text><text text-anchor=\"end\" transform=\"translate(-7,209.16666666666666)\" style=\"font-family: sans-serif; font-size: 15px; fill: #000; opacity: 1;\">0.5</text><text text-anchor=\"end\" transform=\"translate(-7,180)\" style=\"font-family: sans-serif; font-size: 15px; fill: #000; opacity: 1;\">0.6</text><text text-anchor=\"end\" transform=\"translate(-7,150.83333333333331)\" style=\"font-family: sans-serif; font-size: 15px; fill: #000; opacity: 1;\">0.7</text><text text-anchor=\"end\" transform=\"translate(-7,121.66666666666663)\" style=\"font-family: sans-serif; font-size: 15px; fill: #000; opacity: 1;\">0.8</text><text text-anchor=\"end\" transform=\"translate(-7,92.5)\" style=\"font-family: sans-serif; font-size: 15px; fill: #000; opacity: 1;\">0.9</text><text text-anchor=\"end\" transform=\"translate(-7,63.333333333333314)\" style=\"font-family: sans-serif; font-size: 15px; fill: #000; opacity: 1;\">1.0</text><text text-anchor=\"end\" transform=\"translate(-7,34.16666666666663)\" style=\"font-family: sans-serif; font-size: 15px; fill: #000; opacity: 1;\">1.1</text><text text-anchor=\"end\" transform=\"translate(-7,5)\" style=\"font-family: sans-serif; font-size: 15px; fill: #000; opacity: 1;\">1.2</text></g><g class=\"mark-rule role-axis-domain\" style=\"pointer-events: none;\"><line transform=\"translate(0,350)\" x2=\"0\" y2=\"-350\" style=\"fill: none; stroke: #888; stroke-width: 1; opacity: 1;\"></line></g><g class=\"mark-text role-axis-title\" style=\"pointer-events: none;\"><text text-anchor=\"middle\" transform=\"translate(-31.853515625,175) rotate(-90) translate(0,-4)\" style=\"font-family: sans-serif; font-size: 17px; font-weight: bold; fill: #000; opacity: 1;\">Precision</text></g></g></g></g><g class=\"mark-rect role-mark concat_0_layer_0_marks\"><path d=\"M5,109.6666666666666h90v240.3333333333334h-90Z\" style=\"fill: url(#pattern_1);\"></path><path d=\"M105,133.58333333333326h90v216.41666666666674h-90Z\" style=\"fill: url(#pattern_2);\"></path></g><g class=\"mark-rule role-mark concat_0_layer_1_marks\"><line transform=\"translate(150,141.7645833333333)\" x2=\"0\" y2=\"-16.34791666666672\" style=\"fill: none; stroke: red;\"></line><line transform=\"translate(50,118.99999999999991)\" x2=\"0\" y2=\"-19.26458333333332\" style=\"fill: none; stroke: red;\"></line></g><g class=\"mark-text role-title\" style=\"pointer-events: none;\"><text text-anchor=\"middle\" transform=\"translate(100,-14)\" style=\"font-family: sans-serif; font-size: 16px; font-weight: bold; fill: #000; opacity: 1;\">Low diversity</text></g></g></g></g><g class=\"mark-group role-scope concat_1_group\"><g transform=\"translate(271,0)\"><path class=\"background\" d=\"M0.5,0.5h200v350h-200Z\" style=\"fill: none; stroke: #ddd;\"></path><g><g class=\"mark-group role-axis\"><g transform=\"translate(0.5,0.5)\"><path class=\"background\" d=\"M0,0h0v0h0Z\" style=\"pointer-events: none; fill: none;\"></path><g><g class=\"mark-rule role-axis-grid\" style=\"pointer-events: none;\"><line transform=\"translate(0,350)\" x2=\"200\" y2=\"0\" style=\"fill: none; stroke: #ddd; stroke-width: 1; opacity: 1;\"></line><line transform=\"translate(0,321)\" x2=\"200\" y2=\"0\" style=\"fill: none; stroke: #ddd; stroke-width: 1; opacity: 1;\"></line><line transform=\"translate(0,292)\" x2=\"200\" y2=\"0\" style=\"fill: none; stroke: #ddd; stroke-width: 1; opacity: 1;\"></line><line transform=\"translate(0,263)\" x2=\"200\" y2=\"0\" style=\"fill: none; stroke: #ddd; stroke-width: 1; opacity: 1;\"></line><line transform=\"translate(0,233)\" x2=\"200\" y2=\"0\" style=\"fill: none; stroke: #ddd; stroke-width: 1; opacity: 1;\"></line><line transform=\"translate(0,204)\" x2=\"200\" y2=\"0\" style=\"fill: none; stroke: #ddd; stroke-width: 1; opacity: 1;\"></line><line transform=\"translate(0,175)\" x2=\"200\" y2=\"0\" style=\"fill: none; stroke: #ddd; stroke-width: 1; opacity: 1;\"></line><line transform=\"translate(0,146)\" x2=\"200\" y2=\"0\" style=\"fill: none; stroke: #ddd; stroke-width: 1; opacity: 1;\"></line><line transform=\"translate(0,117)\" x2=\"200\" y2=\"0\" style=\"fill: none; stroke: #ddd; stroke-width: 1; opacity: 1;\"></line><line transform=\"translate(0,88)\" x2=\"200\" y2=\"0\" style=\"fill: none; stroke: #ddd; stroke-width: 1; opacity: 1;\"></line><line transform=\"translate(0,58)\" x2=\"200\" y2=\"0\" style=\"fill: none; stroke: #ddd; stroke-width: 1; opacity: 1;\"></line><line transform=\"translate(0,29)\" x2=\"200\" y2=\"0\" style=\"fill: none; stroke: #ddd; stroke-width: 1; opacity: 1;\"></line><line transform=\"translate(0,0)\" x2=\"200\" y2=\"0\" style=\"fill: none; stroke: #ddd; stroke-width: 1; opacity: 1;\"></line></g></g></g></g><g class=\"mark-group role-axis\"><g transform=\"translate(0.5,350.5)\"><path class=\"background\" d=\"M0,0h0v0h0Z\" style=\"pointer-events: none; fill: none;\"></path><g><g class=\"mark-rule role-axis-tick\" style=\"pointer-events: none;\"><line transform=\"translate(49,0)\" x2=\"0\" y2=\"5\" style=\"fill: none; stroke: #888; stroke-width: 1; opacity: 1;\"></line><line transform=\"translate(149,0)\" x2=\"0\" y2=\"5\" style=\"fill: none; stroke: #888; stroke-width: 1; opacity: 1;\"></line></g><g class=\"mark-text role-axis-label\" style=\"pointer-events: none;\"><text text-anchor=\"middle\" transform=\"translate(49,21)\" style=\"font-family: sans-serif; font-size: 18px; fill: #000; opacity: 1;\">Known</text><text text-anchor=\"middle\" transform=\"translate(149,21)\" style=\"font-family: sans-serif; font-size: 18px; fill: #000; opacity: 1;\">Unknown</text></g><g class=\"mark-rule role-axis-domain\" style=\"pointer-events: none;\"><line transform=\"translate(0,0)\" x2=\"200\" y2=\"0\" style=\"fill: none; stroke: #888; stroke-width: 1; opacity: 1;\"></line></g><g class=\"mark-text role-axis-title\" style=\"pointer-events: none;\"><text text-anchor=\"middle\" transform=\"translate(100,42)\" style=\"font-family: sans-serif; font-size: 17px; font-weight: bold; fill: #000; opacity: 1;\">Test Set</text></g></g></g></g><g class=\"mark-group role-axis\"><g transform=\"translate(0.5,0.5)\"><path class=\"background\" d=\"M0,0h0v0h0Z\" style=\"pointer-events: none; fill: none;\"></path><g><g class=\"mark-rule role-axis-tick\" style=\"pointer-events: none;\"><line transform=\"translate(0,350)\" x2=\"-5\" y2=\"0\" style=\"fill: none; stroke: #888; stroke-width: 1; opacity: 1;\"></line><line transform=\"translate(0,321)\" x2=\"-5\" y2=\"0\" style=\"fill: none; stroke: #888; stroke-width: 1; opacity: 1;\"></line><line transform=\"translate(0,292)\" x2=\"-5\" y2=\"0\" style=\"fill: none; stroke: #888; stroke-width: 1; opacity: 1;\"></line><line transform=\"translate(0,263)\" x2=\"-5\" y2=\"0\" style=\"fill: none; stroke: #888; stroke-width: 1; opacity: 1;\"></line><line transform=\"translate(0,233)\" x2=\"-5\" y2=\"0\" style=\"fill: none; stroke: #888; stroke-width: 1; opacity: 1;\"></line><line transform=\"translate(0,204)\" x2=\"-5\" y2=\"0\" style=\"fill: none; stroke: #888; stroke-width: 1; opacity: 1;\"></line><line transform=\"translate(0,175)\" x2=\"-5\" y2=\"0\" style=\"fill: none; stroke: #888; stroke-width: 1; opacity: 1;\"></line><line transform=\"translate(0,146)\" x2=\"-5\" y2=\"0\" style=\"fill: none; stroke: #888; stroke-width: 1; opacity: 1;\"></line><line transform=\"translate(0,117)\" x2=\"-5\" y2=\"0\" style=\"fill: none; stroke: #888; stroke-width: 1; opacity: 1;\"></line><line transform=\"translate(0,88)\" x2=\"-5\" y2=\"0\" style=\"fill: none; stroke: #888; stroke-width: 1; opacity: 1;\"></line><line transform=\"translate(0,58)\" x2=\"-5\" y2=\"0\" style=\"fill: none; stroke: #888; stroke-width: 1; opacity: 1;\"></line><line transform=\"translate(0,29)\" x2=\"-5\" y2=\"0\" style=\"fill: none; stroke: #888; stroke-width: 1; opacity: 1;\"></line><line transform=\"translate(0,0)\" x2=\"-5\" y2=\"0\" style=\"fill: none; stroke: #888; stroke-width: 1; opacity: 1;\"></line></g><g class=\"mark-text role-axis-label\" style=\"pointer-events: none;\"><text text-anchor=\"end\" transform=\"translate(-7,355)\" style=\"font-family: sans-serif; font-size: 15px; fill: #000; opacity: 1;\">0.0</text><text text-anchor=\"end\" transform=\"translate(-7,325.8333333333333)\" style=\"font-family: sans-serif; font-size: 15px; fill: #000; opacity: 1;\">0.1</text><text text-anchor=\"end\" transform=\"translate(-7,296.66666666666663)\" style=\"font-family: sans-serif; font-size: 15px; fill: #000; opacity: 1;\">0.2</text><text text-anchor=\"end\" transform=\"translate(-7,267.5)\" style=\"font-family: sans-serif; font-size: 15px; fill: #000; opacity: 1;\">0.3</text><text text-anchor=\"end\" transform=\"translate(-7,238.33333333333331)\" style=\"font-family: sans-serif; font-size: 15px; fill: #000; opacity: 1;\">0.4</text><text text-anchor=\"end\" transform=\"translate(-7,209.16666666666666)\" style=\"font-family: sans-serif; font-size: 15px; fill: #000; opacity: 1;\">0.5</text><text text-anchor=\"end\" transform=\"translate(-7,180)\" style=\"font-family: sans-serif; font-size: 15px; fill: #000; opacity: 1;\">0.6</text><text text-anchor=\"end\" transform=\"translate(-7,150.83333333333331)\" style=\"font-family: sans-serif; font-size: 15px; fill: #000; opacity: 1;\">0.7</text><text text-anchor=\"end\" transform=\"translate(-7,121.66666666666663)\" style=\"font-family: sans-serif; font-size: 15px; fill: #000; opacity: 1;\">0.8</text><text text-anchor=\"end\" transform=\"translate(-7,92.5)\" style=\"font-family: sans-serif; font-size: 15px; fill: #000; opacity: 1;\">0.9</text><text text-anchor=\"end\" transform=\"translate(-7,63.333333333333314)\" style=\"font-family: sans-serif; font-size: 15px; fill: #000; opacity: 1;\">1.0</text><text text-anchor=\"end\" transform=\"translate(-7,34.16666666666663)\" style=\"font-family: sans-serif; font-size: 15px; fill: #000; opacity: 1;\">1.1</text><text text-anchor=\"end\" transform=\"translate(-7,5)\" style=\"font-family: sans-serif; font-size: 15px; fill: #000; opacity: 1;\">1.2</text></g><g class=\"mark-rule role-axis-domain\" style=\"pointer-events: none;\"><line transform=\"translate(0,350)\" x2=\"0\" y2=\"-350\" style=\"fill: none; stroke: #888; stroke-width: 1; opacity: 1;\"></line></g><g class=\"mark-text role-axis-title\" style=\"pointer-events: none;\"><text text-anchor=\"middle\" transform=\"translate(-31.853515625,175) rotate(-90) translate(0,-4)\" style=\"font-family: sans-serif; font-size: 17px; font-weight: bold; fill: #000; opacity: 1;\">Precision</text></g></g></g></g><g class=\"mark-rect role-mark concat_1_layer_0_marks\"><path d=\"M5,65.91666666666669h90v284.0833333333333h-90Z\" style=\"fill: url(#pattern_1);\"></path><path d=\"M105,106.75000000000003h90v243.24999999999997h-90Z\" style=\"fill: url(#pattern_2);\"></path></g><g class=\"mark-rule role-mark concat_1_layer_1_marks\"><line transform=\"translate(150,143.49999999999994)\" x2=\"0\" y2=\"-80.49999999999983\" style=\"fill: none; stroke: red;\"></line><line transform=\"translate(50,104.99999999999994)\" x2=\"0\" y2=\"-74.68124999999986\" style=\"fill: none; stroke: red;\"></line></g><g class=\"mark-text role-title\" style=\"pointer-events: none;\"><text text-anchor=\"middle\" transform=\"translate(100,-14)\" style=\"font-family: sans-serif; font-size: 16px; font-weight: bold; fill: #000; opacity: 1;\">Medium diversity</text></g></g></g></g><g class=\"mark-group role-scope concat_2_group\"><g transform=\"translate(542,0)\"><path class=\"background\" d=\"M0.5,0.5h200v350h-200Z\" style=\"fill: none; stroke: #ddd;\"></path><g><g class=\"mark-group role-axis\"><g transform=\"translate(0.5,0.5)\"><path class=\"background\" d=\"M0,0h0v0h0Z\" style=\"pointer-events: none; fill: none;\"></path><g><g class=\"mark-rule role-axis-grid\" style=\"pointer-events: none;\"><line transform=\"translate(0,350)\" x2=\"200\" y2=\"0\" style=\"fill: none; stroke: #ddd; stroke-width: 1; opacity: 1;\"></line><line transform=\"translate(0,321)\" x2=\"200\" y2=\"0\" style=\"fill: none; stroke: #ddd; stroke-width: 1; opacity: 1;\"></line><line transform=\"translate(0,292)\" x2=\"200\" y2=\"0\" style=\"fill: none; stroke: #ddd; stroke-width: 1; opacity: 1;\"></line><line transform=\"translate(0,263)\" x2=\"200\" y2=\"0\" style=\"fill: none; stroke: #ddd; stroke-width: 1; opacity: 1;\"></line><line transform=\"translate(0,233)\" x2=\"200\" y2=\"0\" style=\"fill: none; stroke: #ddd; stroke-width: 1; opacity: 1;\"></line><line transform=\"translate(0,204)\" x2=\"200\" y2=\"0\" style=\"fill: none; stroke: #ddd; stroke-width: 1; opacity: 1;\"></line><line transform=\"translate(0,175)\" x2=\"200\" y2=\"0\" style=\"fill: none; stroke: #ddd; stroke-width: 1; opacity: 1;\"></line><line transform=\"translate(0,146)\" x2=\"200\" y2=\"0\" style=\"fill: none; stroke: #ddd; stroke-width: 1; opacity: 1;\"></line><line transform=\"translate(0,117)\" x2=\"200\" y2=\"0\" style=\"fill: none; stroke: #ddd; stroke-width: 1; opacity: 1;\"></line><line transform=\"translate(0,88)\" x2=\"200\" y2=\"0\" style=\"fill: none; stroke: #ddd; stroke-width: 1; opacity: 1;\"></line><line transform=\"translate(0,58)\" x2=\"200\" y2=\"0\" style=\"fill: none; stroke: #ddd; stroke-width: 1; opacity: 1;\"></line><line transform=\"translate(0,29)\" x2=\"200\" y2=\"0\" style=\"fill: none; stroke: #ddd; stroke-width: 1; opacity: 1;\"></line><line transform=\"translate(0,0)\" x2=\"200\" y2=\"0\" style=\"fill: none; stroke: #ddd; stroke-width: 1; opacity: 1;\"></line></g></g></g></g><g class=\"mark-group role-axis\"><g transform=\"translate(0.5,350.5)\"><path class=\"background\" d=\"M0,0h0v0h0Z\" style=\"pointer-events: none; fill: none;\"></path><g><g class=\"mark-rule role-axis-tick\" style=\"pointer-events: none;\"><line transform=\"translate(49,0)\" x2=\"0\" y2=\"5\" style=\"fill: none; stroke: #888; stroke-width: 1; opacity: 1;\"></line><line transform=\"translate(149,0)\" x2=\"0\" y2=\"5\" style=\"fill: none; stroke: #888; stroke-width: 1; opacity: 1;\"></line></g><g class=\"mark-text role-axis-label\" style=\"pointer-events: none;\"><text text-anchor=\"middle\" transform=\"translate(49,21)\" style=\"font-family: sans-serif; font-size: 18px; fill: #000; opacity: 1;\">Known</text><text text-anchor=\"middle\" transform=\"translate(149,21)\" style=\"font-family: sans-serif; font-size: 18px; fill: #000; opacity: 1;\">Unknown</text></g><g class=\"mark-rule role-axis-domain\" style=\"pointer-events: none;\"><line transform=\"translate(0,0)\" x2=\"200\" y2=\"0\" style=\"fill: none; stroke: #888; stroke-width: 1; opacity: 1;\"></line></g><g class=\"mark-text role-axis-title\" style=\"pointer-events: none;\"><text text-anchor=\"middle\" transform=\"translate(100,42)\" style=\"font-family: sans-serif; font-size: 17px; font-weight: bold; fill: #000; opacity: 1;\">Test Set</text></g></g></g></g><g class=\"mark-group role-axis\"><g transform=\"translate(0.5,0.5)\"><path class=\"background\" d=\"M0,0h0v0h0Z\" style=\"pointer-events: none; fill: none;\"></path><g><g class=\"mark-rule role-axis-tick\" style=\"pointer-events: none;\"><line transform=\"translate(0,350)\" x2=\"-5\" y2=\"0\" style=\"fill: none; stroke: #888; stroke-width: 1; opacity: 1;\"></line><line transform=\"translate(0,321)\" x2=\"-5\" y2=\"0\" style=\"fill: none; stroke: #888; stroke-width: 1; opacity: 1;\"></line><line transform=\"translate(0,292)\" x2=\"-5\" y2=\"0\" style=\"fill: none; stroke: #888; stroke-width: 1; opacity: 1;\"></line><line transform=\"translate(0,263)\" x2=\"-5\" y2=\"0\" style=\"fill: none; stroke: #888; stroke-width: 1; opacity: 1;\"></line><line transform=\"translate(0,233)\" x2=\"-5\" y2=\"0\" style=\"fill: none; stroke: #888; stroke-width: 1; opacity: 1;\"></line><line transform=\"translate(0,204)\" x2=\"-5\" y2=\"0\" style=\"fill: none; stroke: #888; stroke-width: 1; opacity: 1;\"></line><line transform=\"translate(0,175)\" x2=\"-5\" y2=\"0\" style=\"fill: none; stroke: #888; stroke-width: 1; opacity: 1;\"></line><line transform=\"translate(0,146)\" x2=\"-5\" y2=\"0\" style=\"fill: none; stroke: #888; stroke-width: 1; opacity: 1;\"></line><line transform=\"translate(0,117)\" x2=\"-5\" y2=\"0\" style=\"fill: none; stroke: #888; stroke-width: 1; opacity: 1;\"></line><line transform=\"translate(0,88)\" x2=\"-5\" y2=\"0\" style=\"fill: none; stroke: #888; stroke-width: 1; opacity: 1;\"></line><line transform=\"translate(0,58)\" x2=\"-5\" y2=\"0\" style=\"fill: none; stroke: #888; stroke-width: 1; opacity: 1;\"></line><line transform=\"translate(0,29)\" x2=\"-5\" y2=\"0\" style=\"fill: none; stroke: #888; stroke-width: 1; opacity: 1;\"></line><line transform=\"translate(0,0)\" x2=\"-5\" y2=\"0\" style=\"fill: none; stroke: #888; stroke-width: 1; opacity: 1;\"></line></g><g class=\"mark-text role-axis-label\" style=\"pointer-events: none;\"><text text-anchor=\"end\" transform=\"translate(-7,355)\" style=\"font-family: sans-serif; font-size: 15px; fill: #000; opacity: 1;\">0.0</text><text text-anchor=\"end\" transform=\"translate(-7,325.8333333333333)\" style=\"font-family: sans-serif; font-size: 15px; fill: #000; opacity: 1;\">0.1</text><text text-anchor=\"end\" transform=\"translate(-7,296.66666666666663)\" style=\"font-family: sans-serif; font-size: 15px; fill: #000; opacity: 1;\">0.2</text><text text-anchor=\"end\" transform=\"translate(-7,267.5)\" style=\"font-family: sans-serif; font-size: 15px; fill: #000; opacity: 1;\">0.3</text><text text-anchor=\"end\" transform=\"translate(-7,238.33333333333331)\" style=\"font-family: sans-serif; font-size: 15px; fill: #000; opacity: 1;\">0.4</text><text text-anchor=\"end\" transform=\"translate(-7,209.16666666666666)\" style=\"font-family: sans-serif; font-size: 15px; fill: #000; opacity: 1;\">0.5</text><text text-anchor=\"end\" transform=\"translate(-7,180)\" style=\"font-family: sans-serif; font-size: 15px; fill: #000; opacity: 1;\">0.6</text><text text-anchor=\"end\" transform=\"translate(-7,150.83333333333331)\" style=\"font-family: sans-serif; font-size: 15px; fill: #000; opacity: 1;\">0.7</text><text text-anchor=\"end\" transform=\"translate(-7,121.66666666666663)\" style=\"font-family: sans-serif; font-size: 15px; fill: #000; opacity: 1;\">0.8</text><text text-anchor=\"end\" transform=\"translate(-7,92.5)\" style=\"font-family: sans-serif; font-size: 15px; fill: #000; opacity: 1;\">0.9</text><text text-anchor=\"end\" transform=\"translate(-7,63.333333333333314)\" style=\"font-family: sans-serif; font-size: 15px; fill: #000; opacity: 1;\">1.0</text><text text-anchor=\"end\" transform=\"translate(-7,34.16666666666663)\" style=\"font-family: sans-serif; font-size: 15px; fill: #000; opacity: 1;\">1.1</text><text text-anchor=\"end\" transform=\"translate(-7,5)\" style=\"font-family: sans-serif; font-size: 15px; fill: #000; opacity: 1;\">1.2</text></g><g class=\"mark-rule role-axis-domain\" style=\"pointer-events: none;\"><line transform=\"translate(0,350)\" x2=\"0\" y2=\"-350\" style=\"fill: none; stroke: #888; stroke-width: 1; opacity: 1;\"></line></g><g class=\"mark-text role-axis-title\" style=\"pointer-events: none;\"><text text-anchor=\"middle\" transform=\"translate(-31.853515625,175) rotate(-90) translate(0,-4)\" style=\"font-family: sans-serif; font-size: 17px; font-weight: bold; fill: #000; opacity: 1;\">Precision</text></g></g></g></g><g class=\"mark-rect role-mark concat_2_layer_0_marks\"><path d=\"M5,53.08333333333337h90v296.91666666666663h-90Z\" style=\"fill: url(#pattern_1);\"></path><path d=\"M105,52.50000000000006h90v297.49999999999994h-90Z\" style=\"fill: url(#pattern_2);\"></path></g><g class=\"mark-rule role-mark concat_2_layer_1_marks\"><line transform=\"translate(150,83.46041666666667)\" x2=\"0\" y2=\"-68.87708333333319\" style=\"fill: none; stroke: red;\"></line><line transform=\"translate(50,71.75)\" x2=\"0\" y2=\"-40.25\" style=\"fill: none; stroke: red;\"></line></g><g class=\"mark-text role-title\" style=\"pointer-events: none;\"><text text-anchor=\"middle\" transform=\"translate(100,-14)\" style=\"font-family: sans-serif; font-size: 16px; font-weight: bold; fill: #000; opacity: 1;\">High diversity</text></g></g></g></g></g></g></g></g></svg>"
      ],
      "text/plain": [
       "alt.HConcatChart(...)"
      ]
     },
     "execution_count": 31,
     "metadata": {},
     "output_type": "execute_result"
    }
   ],
   "source": [
    "charts"
   ]
  },
  {
   "cell_type": "markdown",
   "metadata": {},
   "source": [
    "Diversity"
   ]
  },
  {
   "cell_type": "code",
   "execution_count": 32,
   "metadata": {},
   "outputs": [],
   "source": [
    "wdth = 200\n",
    "heit = 350\n",
    "\n",
    "charts = None\n",
    "\n",
    "for idx,classe in enumerate(['Low div','Medium div','High div']):\n",
    "    graph_prec_transfer = alt.Chart(df_4[(df_4.method==classe)]).\\\n",
    "    mark_bar().encode(\n",
    "         alt.X('test_classe:N', axis=alt.Axis(title=\"Test Set\",\n",
    "                                             labelFontSize=17,\n",
    "                                             labelAngle=0,\n",
    "                                             titleFontSize=17)),\n",
    "        \n",
    "        alt.Y('diversity', axis=alt.Axis(title=\"Intra Diversity\",\n",
    "                                         labelFontSize=15,\n",
    "                                         titleFontSize=17),\n",
    "              scale=alt.Scale(domain=(0,0.55))),\n",
    "        \n",
    "        color = alt.Color('test_classe', legend=None),\n",
    "        fill = alt.Fill('test_classe:N',title='',scale=pattern_scale, legend = None)\n",
    "    ).properties(\n",
    "        width = wdth,\n",
    "        height = heit\n",
    "    )\n",
    "    \n",
    "    errorbars = alt.Chart(df_5[(df_5.method==classe)]).mark_errorbar(extent='ci',color='red').encode(\n",
    "        x=\"test_classe\",\n",
    "        y = alt.Y('diversity', axis=alt.Axis(title='')),\n",
    "    )\n",
    "    \n",
    "    if idx == 0:\n",
    "        charts = (graph_prec_transfer+errorbars).properties(title=f'{classe}ersity')\n",
    "    else:\n",
    "        charts = charts | (graph_prec_transfer+errorbars).properties(title=f'{classe}ersity')\n",
    "        \n",
    "charts = charts.configure_title(fontSize=16)"
   ]
  },
  {
   "cell_type": "code",
   "execution_count": 33,
   "metadata": {},
   "outputs": [
    {
     "name": "stderr",
     "output_type": "stream",
     "text": [
      "WARN Dropping color encoding as the plot also has fill.\n",
      "WARN Dropping color encoding as the plot also has fill.\n",
      "WARN Dropping color encoding as the plot also has fill.\n"
     ]
    },
    {
     "data": {
      "image/svg+xml": [
       "<svg class=\"marks\" width=\"830\" height=\"433\" viewBox=\"0 0 830 433\" version=\"1.1\" xmlns=\"http://www.w3.org/2000/svg\" xmlns:xlink=\"http://www.w3.org/1999/xlink\"><rect width=\"830\" height=\"433\" style=\"fill: white;\"></rect><g transform=\"translate(64,33)\"><g class=\"mark-group role-frame root\"><g transform=\"translate(0,0)\"><path class=\"background\" d=\"M0,0h0v350h0Z\" style=\"fill: none;\"></path><g><g class=\"mark-group role-scope concat_0_group\"><g transform=\"translate(0,0)\"><path class=\"background\" d=\"M0.5,0.5h200v350h-200Z\" style=\"fill: none; stroke: #ddd;\"></path><g><g class=\"mark-group role-axis\"><g transform=\"translate(0.5,0.5)\"><path class=\"background\" d=\"M0,0h0v0h0Z\" style=\"pointer-events: none; fill: none;\"></path><g><g class=\"mark-rule role-axis-grid\" style=\"pointer-events: none;\"><line transform=\"translate(0,350)\" x2=\"200\" y2=\"0\" style=\"fill: none; stroke: #ddd; stroke-width: 1; opacity: 1;\"></line><line transform=\"translate(0,318)\" x2=\"200\" y2=\"0\" style=\"fill: none; stroke: #ddd; stroke-width: 1; opacity: 1;\"></line><line transform=\"translate(0,286)\" x2=\"200\" y2=\"0\" style=\"fill: none; stroke: #ddd; stroke-width: 1; opacity: 1;\"></line><line transform=\"translate(0,255)\" x2=\"200\" y2=\"0\" style=\"fill: none; stroke: #ddd; stroke-width: 1; opacity: 1;\"></line><line transform=\"translate(0,223)\" x2=\"200\" y2=\"0\" style=\"fill: none; stroke: #ddd; stroke-width: 1; opacity: 1;\"></line><line transform=\"translate(0,191)\" x2=\"200\" y2=\"0\" style=\"fill: none; stroke: #ddd; stroke-width: 1; opacity: 1;\"></line><line transform=\"translate(0,159)\" x2=\"200\" y2=\"0\" style=\"fill: none; stroke: #ddd; stroke-width: 1; opacity: 1;\"></line><line transform=\"translate(0,127)\" x2=\"200\" y2=\"0\" style=\"fill: none; stroke: #ddd; stroke-width: 1; opacity: 1;\"></line><line transform=\"translate(0,95)\" x2=\"200\" y2=\"0\" style=\"fill: none; stroke: #ddd; stroke-width: 1; opacity: 1;\"></line><line transform=\"translate(0,64)\" x2=\"200\" y2=\"0\" style=\"fill: none; stroke: #ddd; stroke-width: 1; opacity: 1;\"></line><line transform=\"translate(0,32)\" x2=\"200\" y2=\"0\" style=\"fill: none; stroke: #ddd; stroke-width: 1; opacity: 1;\"></line><line transform=\"translate(0,0)\" x2=\"200\" y2=\"0\" style=\"fill: none; stroke: #ddd; stroke-width: 1; opacity: 1;\"></line></g></g></g></g><g class=\"mark-group role-axis\"><g transform=\"translate(0.5,350.5)\"><path class=\"background\" d=\"M0,0h0v0h0Z\" style=\"pointer-events: none; fill: none;\"></path><g><g class=\"mark-rule role-axis-tick\" style=\"pointer-events: none;\"><line transform=\"translate(49,0)\" x2=\"0\" y2=\"5\" style=\"fill: none; stroke: #888; stroke-width: 1; opacity: 1;\"></line><line transform=\"translate(149,0)\" x2=\"0\" y2=\"5\" style=\"fill: none; stroke: #888; stroke-width: 1; opacity: 1;\"></line></g><g class=\"mark-text role-axis-label\" style=\"pointer-events: none;\"><text text-anchor=\"middle\" transform=\"translate(49,20)\" style=\"font-family: sans-serif; font-size: 17px; fill: #000; opacity: 1;\">Known</text><text text-anchor=\"middle\" transform=\"translate(149,20)\" style=\"font-family: sans-serif; font-size: 17px; fill: #000; opacity: 1;\">Unknown</text></g><g class=\"mark-rule role-axis-domain\" style=\"pointer-events: none;\"><line transform=\"translate(0,0)\" x2=\"200\" y2=\"0\" style=\"fill: none; stroke: #888; stroke-width: 1; opacity: 1;\"></line></g><g class=\"mark-text role-axis-title\" style=\"pointer-events: none;\"><text text-anchor=\"middle\" transform=\"translate(100,40)\" style=\"font-family: sans-serif; font-size: 17px; font-weight: bold; fill: #000; opacity: 1;\">Test Set</text></g></g></g></g><g class=\"mark-group role-axis\"><g transform=\"translate(0.5,0.5)\"><path class=\"background\" d=\"M0,0h0v0h0Z\" style=\"pointer-events: none; fill: none;\"></path><g><g class=\"mark-rule role-axis-tick\" style=\"pointer-events: none;\"><line transform=\"translate(0,350)\" x2=\"-5\" y2=\"0\" style=\"fill: none; stroke: #888; stroke-width: 1; opacity: 1;\"></line><line transform=\"translate(0,318)\" x2=\"-5\" y2=\"0\" style=\"fill: none; stroke: #888; stroke-width: 1; opacity: 1;\"></line><line transform=\"translate(0,286)\" x2=\"-5\" y2=\"0\" style=\"fill: none; stroke: #888; stroke-width: 1; opacity: 1;\"></line><line transform=\"translate(0,255)\" x2=\"-5\" y2=\"0\" style=\"fill: none; stroke: #888; stroke-width: 1; opacity: 1;\"></line><line transform=\"translate(0,223)\" x2=\"-5\" y2=\"0\" style=\"fill: none; stroke: #888; stroke-width: 1; opacity: 1;\"></line><line transform=\"translate(0,191)\" x2=\"-5\" y2=\"0\" style=\"fill: none; stroke: #888; stroke-width: 1; opacity: 1;\"></line><line transform=\"translate(0,159)\" x2=\"-5\" y2=\"0\" style=\"fill: none; stroke: #888; stroke-width: 1; opacity: 1;\"></line><line transform=\"translate(0,127)\" x2=\"-5\" y2=\"0\" style=\"fill: none; stroke: #888; stroke-width: 1; opacity: 1;\"></line><line transform=\"translate(0,95)\" x2=\"-5\" y2=\"0\" style=\"fill: none; stroke: #888; stroke-width: 1; opacity: 1;\"></line><line transform=\"translate(0,64)\" x2=\"-5\" y2=\"0\" style=\"fill: none; stroke: #888; stroke-width: 1; opacity: 1;\"></line><line transform=\"translate(0,32)\" x2=\"-5\" y2=\"0\" style=\"fill: none; stroke: #888; stroke-width: 1; opacity: 1;\"></line><line transform=\"translate(0,0)\" x2=\"-5\" y2=\"0\" style=\"fill: none; stroke: #888; stroke-width: 1; opacity: 1;\"></line></g><g class=\"mark-text role-axis-label\" style=\"pointer-events: none;\"><text text-anchor=\"end\" transform=\"translate(-7,355)\" style=\"font-family: sans-serif; font-size: 15px; fill: #000; opacity: 1;\">0.00</text><text text-anchor=\"end\" transform=\"translate(-7,323.1818181818182)\" style=\"font-family: sans-serif; font-size: 15px; fill: #000; opacity: 1;\">0.05</text><text text-anchor=\"end\" transform=\"translate(-7,291.3636363636364)\" style=\"font-family: sans-serif; font-size: 15px; fill: #000; opacity: 1;\">0.10</text><text text-anchor=\"end\" transform=\"translate(-7,259.54545454545456)\" style=\"font-family: sans-serif; font-size: 15px; fill: #000; opacity: 1;\">0.15</text><text text-anchor=\"end\" transform=\"translate(-7,227.72727272727272)\" style=\"font-family: sans-serif; font-size: 15px; fill: #000; opacity: 1;\">0.20</text><text text-anchor=\"end\" transform=\"translate(-7,195.9090909090909)\" style=\"font-family: sans-serif; font-size: 15px; fill: #000; opacity: 1;\">0.25</text><text text-anchor=\"end\" transform=\"translate(-7,164.0909090909091)\" style=\"font-family: sans-serif; font-size: 15px; fill: #000; opacity: 1;\">0.30</text><text text-anchor=\"end\" transform=\"translate(-7,132.2727272727273)\" style=\"font-family: sans-serif; font-size: 15px; fill: #000; opacity: 1;\">0.35</text><text text-anchor=\"end\" transform=\"translate(-7,100.45454545454544)\" style=\"font-family: sans-serif; font-size: 15px; fill: #000; opacity: 1;\">0.40</text><text text-anchor=\"end\" transform=\"translate(-7,68.63636363636368)\" style=\"font-family: sans-serif; font-size: 15px; fill: #000; opacity: 1;\">0.45</text><text text-anchor=\"end\" transform=\"translate(-7,36.81818181818181)\" style=\"font-family: sans-serif; font-size: 15px; fill: #000; opacity: 1;\">0.50</text><text text-anchor=\"end\" transform=\"translate(-7,5)\" style=\"font-family: sans-serif; font-size: 15px; fill: #000; opacity: 1;\">0.55</text></g><g class=\"mark-rule role-axis-domain\" style=\"pointer-events: none;\"><line transform=\"translate(0,350)\" x2=\"0\" y2=\"-350\" style=\"fill: none; stroke: #888; stroke-width: 1; opacity: 1;\"></line></g><g class=\"mark-text role-axis-title\" style=\"pointer-events: none;\"><text text-anchor=\"middle\" transform=\"translate(-40.1962890625,175) rotate(-90) translate(0,-4)\" style=\"font-family: sans-serif; font-size: 17px; font-weight: bold; fill: #000; opacity: 1;\">Intra Diversity</text></g></g></g></g><g class=\"mark-rect role-mark concat_0_layer_0_marks\"><path d=\"M5,36.35823316132695h90v313.64176683867305h-90Z\" style=\"fill: url(#pattern_1);\"></path><path d=\"M105,36.26891234289735h90v313.73108765710265h-90Z\" style=\"fill: url(#pattern_2);\"></path></g><g class=\"mark-rule role-mark concat_0_layer_1_marks\"><line transform=\"translate(150,36.407856809911664)\" x2=\"0\" y2=\"-0.2819997603847355\" style=\"fill: none; stroke: red;\"></line><line transform=\"translate(50,36.42191000049985)\" x2=\"0\" y2=\"-0.12581052436092932\" style=\"fill: none; stroke: red;\"></line></g><g class=\"mark-text role-title\" style=\"pointer-events: none;\"><text text-anchor=\"middle\" transform=\"translate(100,-14)\" style=\"font-family: sans-serif; font-size: 16px; font-weight: bold; fill: #000; opacity: 1;\">Low diversity</text></g></g></g></g><g class=\"mark-group role-scope concat_1_group\"><g transform=\"translate(280,0)\"><path class=\"background\" d=\"M0.5,0.5h200v350h-200Z\" style=\"fill: none; stroke: #ddd;\"></path><g><g class=\"mark-group role-axis\"><g transform=\"translate(0.5,0.5)\"><path class=\"background\" d=\"M0,0h0v0h0Z\" style=\"pointer-events: none; fill: none;\"></path><g><g class=\"mark-rule role-axis-grid\" style=\"pointer-events: none;\"><line transform=\"translate(0,350)\" x2=\"200\" y2=\"0\" style=\"fill: none; stroke: #ddd; stroke-width: 1; opacity: 1;\"></line><line transform=\"translate(0,318)\" x2=\"200\" y2=\"0\" style=\"fill: none; stroke: #ddd; stroke-width: 1; opacity: 1;\"></line><line transform=\"translate(0,286)\" x2=\"200\" y2=\"0\" style=\"fill: none; stroke: #ddd; stroke-width: 1; opacity: 1;\"></line><line transform=\"translate(0,255)\" x2=\"200\" y2=\"0\" style=\"fill: none; stroke: #ddd; stroke-width: 1; opacity: 1;\"></line><line transform=\"translate(0,223)\" x2=\"200\" y2=\"0\" style=\"fill: none; stroke: #ddd; stroke-width: 1; opacity: 1;\"></line><line transform=\"translate(0,191)\" x2=\"200\" y2=\"0\" style=\"fill: none; stroke: #ddd; stroke-width: 1; opacity: 1;\"></line><line transform=\"translate(0,159)\" x2=\"200\" y2=\"0\" style=\"fill: none; stroke: #ddd; stroke-width: 1; opacity: 1;\"></line><line transform=\"translate(0,127)\" x2=\"200\" y2=\"0\" style=\"fill: none; stroke: #ddd; stroke-width: 1; opacity: 1;\"></line><line transform=\"translate(0,95)\" x2=\"200\" y2=\"0\" style=\"fill: none; stroke: #ddd; stroke-width: 1; opacity: 1;\"></line><line transform=\"translate(0,64)\" x2=\"200\" y2=\"0\" style=\"fill: none; stroke: #ddd; stroke-width: 1; opacity: 1;\"></line><line transform=\"translate(0,32)\" x2=\"200\" y2=\"0\" style=\"fill: none; stroke: #ddd; stroke-width: 1; opacity: 1;\"></line><line transform=\"translate(0,0)\" x2=\"200\" y2=\"0\" style=\"fill: none; stroke: #ddd; stroke-width: 1; opacity: 1;\"></line></g></g></g></g><g class=\"mark-group role-axis\"><g transform=\"translate(0.5,350.5)\"><path class=\"background\" d=\"M0,0h0v0h0Z\" style=\"pointer-events: none; fill: none;\"></path><g><g class=\"mark-rule role-axis-tick\" style=\"pointer-events: none;\"><line transform=\"translate(49,0)\" x2=\"0\" y2=\"5\" style=\"fill: none; stroke: #888; stroke-width: 1; opacity: 1;\"></line><line transform=\"translate(149,0)\" x2=\"0\" y2=\"5\" style=\"fill: none; stroke: #888; stroke-width: 1; opacity: 1;\"></line></g><g class=\"mark-text role-axis-label\" style=\"pointer-events: none;\"><text text-anchor=\"middle\" transform=\"translate(49,20)\" style=\"font-family: sans-serif; font-size: 17px; fill: #000; opacity: 1;\">Known</text><text text-anchor=\"middle\" transform=\"translate(149,20)\" style=\"font-family: sans-serif; font-size: 17px; fill: #000; opacity: 1;\">Unknown</text></g><g class=\"mark-rule role-axis-domain\" style=\"pointer-events: none;\"><line transform=\"translate(0,0)\" x2=\"200\" y2=\"0\" style=\"fill: none; stroke: #888; stroke-width: 1; opacity: 1;\"></line></g><g class=\"mark-text role-axis-title\" style=\"pointer-events: none;\"><text text-anchor=\"middle\" transform=\"translate(100,40)\" style=\"font-family: sans-serif; font-size: 17px; font-weight: bold; fill: #000; opacity: 1;\">Test Set</text></g></g></g></g><g class=\"mark-group role-axis\"><g transform=\"translate(0.5,0.5)\"><path class=\"background\" d=\"M0,0h0v0h0Z\" style=\"pointer-events: none; fill: none;\"></path><g><g class=\"mark-rule role-axis-tick\" style=\"pointer-events: none;\"><line transform=\"translate(0,350)\" x2=\"-5\" y2=\"0\" style=\"fill: none; stroke: #888; stroke-width: 1; opacity: 1;\"></line><line transform=\"translate(0,318)\" x2=\"-5\" y2=\"0\" style=\"fill: none; stroke: #888; stroke-width: 1; opacity: 1;\"></line><line transform=\"translate(0,286)\" x2=\"-5\" y2=\"0\" style=\"fill: none; stroke: #888; stroke-width: 1; opacity: 1;\"></line><line transform=\"translate(0,255)\" x2=\"-5\" y2=\"0\" style=\"fill: none; stroke: #888; stroke-width: 1; opacity: 1;\"></line><line transform=\"translate(0,223)\" x2=\"-5\" y2=\"0\" style=\"fill: none; stroke: #888; stroke-width: 1; opacity: 1;\"></line><line transform=\"translate(0,191)\" x2=\"-5\" y2=\"0\" style=\"fill: none; stroke: #888; stroke-width: 1; opacity: 1;\"></line><line transform=\"translate(0,159)\" x2=\"-5\" y2=\"0\" style=\"fill: none; stroke: #888; stroke-width: 1; opacity: 1;\"></line><line transform=\"translate(0,127)\" x2=\"-5\" y2=\"0\" style=\"fill: none; stroke: #888; stroke-width: 1; opacity: 1;\"></line><line transform=\"translate(0,95)\" x2=\"-5\" y2=\"0\" style=\"fill: none; stroke: #888; stroke-width: 1; opacity: 1;\"></line><line transform=\"translate(0,64)\" x2=\"-5\" y2=\"0\" style=\"fill: none; stroke: #888; stroke-width: 1; opacity: 1;\"></line><line transform=\"translate(0,32)\" x2=\"-5\" y2=\"0\" style=\"fill: none; stroke: #888; stroke-width: 1; opacity: 1;\"></line><line transform=\"translate(0,0)\" x2=\"-5\" y2=\"0\" style=\"fill: none; stroke: #888; stroke-width: 1; opacity: 1;\"></line></g><g class=\"mark-text role-axis-label\" style=\"pointer-events: none;\"><text text-anchor=\"end\" transform=\"translate(-7,355)\" style=\"font-family: sans-serif; font-size: 15px; fill: #000; opacity: 1;\">0.00</text><text text-anchor=\"end\" transform=\"translate(-7,323.1818181818182)\" style=\"font-family: sans-serif; font-size: 15px; fill: #000; opacity: 1;\">0.05</text><text text-anchor=\"end\" transform=\"translate(-7,291.3636363636364)\" style=\"font-family: sans-serif; font-size: 15px; fill: #000; opacity: 1;\">0.10</text><text text-anchor=\"end\" transform=\"translate(-7,259.54545454545456)\" style=\"font-family: sans-serif; font-size: 15px; fill: #000; opacity: 1;\">0.15</text><text text-anchor=\"end\" transform=\"translate(-7,227.72727272727272)\" style=\"font-family: sans-serif; font-size: 15px; fill: #000; opacity: 1;\">0.20</text><text text-anchor=\"end\" transform=\"translate(-7,195.9090909090909)\" style=\"font-family: sans-serif; font-size: 15px; fill: #000; opacity: 1;\">0.25</text><text text-anchor=\"end\" transform=\"translate(-7,164.0909090909091)\" style=\"font-family: sans-serif; font-size: 15px; fill: #000; opacity: 1;\">0.30</text><text text-anchor=\"end\" transform=\"translate(-7,132.2727272727273)\" style=\"font-family: sans-serif; font-size: 15px; fill: #000; opacity: 1;\">0.35</text><text text-anchor=\"end\" transform=\"translate(-7,100.45454545454544)\" style=\"font-family: sans-serif; font-size: 15px; fill: #000; opacity: 1;\">0.40</text><text text-anchor=\"end\" transform=\"translate(-7,68.63636363636368)\" style=\"font-family: sans-serif; font-size: 15px; fill: #000; opacity: 1;\">0.45</text><text text-anchor=\"end\" transform=\"translate(-7,36.81818181818181)\" style=\"font-family: sans-serif; font-size: 15px; fill: #000; opacity: 1;\">0.50</text><text text-anchor=\"end\" transform=\"translate(-7,5)\" style=\"font-family: sans-serif; font-size: 15px; fill: #000; opacity: 1;\">0.55</text></g><g class=\"mark-rule role-axis-domain\" style=\"pointer-events: none;\"><line transform=\"translate(0,350)\" x2=\"0\" y2=\"-350\" style=\"fill: none; stroke: #888; stroke-width: 1; opacity: 1;\"></line></g><g class=\"mark-text role-axis-title\" style=\"pointer-events: none;\"><text text-anchor=\"middle\" transform=\"translate(-40.1962890625,175) rotate(-90) translate(0,-4)\" style=\"font-family: sans-serif; font-size: 17px; font-weight: bold; fill: #000; opacity: 1;\">Intra Diversity</text></g></g></g></g><g class=\"mark-rect role-mark concat_1_layer_0_marks\"><path d=\"M5,32.8568397397608h90v317.1431602602392h-90Z\" style=\"fill: url(#pattern_1);\"></path><path d=\"M105,33.011734873732735h90v316.98826512626727h-90Z\" style=\"fill: url(#pattern_2);\"></path></g><g class=\"mark-rule role-mark concat_1_layer_1_marks\"><line transform=\"translate(150,33.07269142424428)\" x2=\"0\" y2=\"-0.13098990085461537\" style=\"fill: none; stroke: red;\"></line><line transform=\"translate(50,32.96926131714389)\" x2=\"0\" y2=\"-0.21879513697172115\" style=\"fill: none; stroke: red;\"></line></g><g class=\"mark-text role-title\" style=\"pointer-events: none;\"><text text-anchor=\"middle\" transform=\"translate(100,-14)\" style=\"font-family: sans-serif; font-size: 16px; font-weight: bold; fill: #000; opacity: 1;\">Medium diversity</text></g></g></g></g><g class=\"mark-group role-scope concat_2_group\"><g transform=\"translate(560,0)\"><path class=\"background\" d=\"M0.5,0.5h200v350h-200Z\" style=\"fill: none; stroke: #ddd;\"></path><g><g class=\"mark-group role-axis\"><g transform=\"translate(0.5,0.5)\"><path class=\"background\" d=\"M0,0h0v0h0Z\" style=\"pointer-events: none; fill: none;\"></path><g><g class=\"mark-rule role-axis-grid\" style=\"pointer-events: none;\"><line transform=\"translate(0,350)\" x2=\"200\" y2=\"0\" style=\"fill: none; stroke: #ddd; stroke-width: 1; opacity: 1;\"></line><line transform=\"translate(0,318)\" x2=\"200\" y2=\"0\" style=\"fill: none; stroke: #ddd; stroke-width: 1; opacity: 1;\"></line><line transform=\"translate(0,286)\" x2=\"200\" y2=\"0\" style=\"fill: none; stroke: #ddd; stroke-width: 1; opacity: 1;\"></line><line transform=\"translate(0,255)\" x2=\"200\" y2=\"0\" style=\"fill: none; stroke: #ddd; stroke-width: 1; opacity: 1;\"></line><line transform=\"translate(0,223)\" x2=\"200\" y2=\"0\" style=\"fill: none; stroke: #ddd; stroke-width: 1; opacity: 1;\"></line><line transform=\"translate(0,191)\" x2=\"200\" y2=\"0\" style=\"fill: none; stroke: #ddd; stroke-width: 1; opacity: 1;\"></line><line transform=\"translate(0,159)\" x2=\"200\" y2=\"0\" style=\"fill: none; stroke: #ddd; stroke-width: 1; opacity: 1;\"></line><line transform=\"translate(0,127)\" x2=\"200\" y2=\"0\" style=\"fill: none; stroke: #ddd; stroke-width: 1; opacity: 1;\"></line><line transform=\"translate(0,95)\" x2=\"200\" y2=\"0\" style=\"fill: none; stroke: #ddd; stroke-width: 1; opacity: 1;\"></line><line transform=\"translate(0,64)\" x2=\"200\" y2=\"0\" style=\"fill: none; stroke: #ddd; stroke-width: 1; opacity: 1;\"></line><line transform=\"translate(0,32)\" x2=\"200\" y2=\"0\" style=\"fill: none; stroke: #ddd; stroke-width: 1; opacity: 1;\"></line><line transform=\"translate(0,0)\" x2=\"200\" y2=\"0\" style=\"fill: none; stroke: #ddd; stroke-width: 1; opacity: 1;\"></line></g></g></g></g><g class=\"mark-group role-axis\"><g transform=\"translate(0.5,350.5)\"><path class=\"background\" d=\"M0,0h0v0h0Z\" style=\"pointer-events: none; fill: none;\"></path><g><g class=\"mark-rule role-axis-tick\" style=\"pointer-events: none;\"><line transform=\"translate(49,0)\" x2=\"0\" y2=\"5\" style=\"fill: none; stroke: #888; stroke-width: 1; opacity: 1;\"></line><line transform=\"translate(149,0)\" x2=\"0\" y2=\"5\" style=\"fill: none; stroke: #888; stroke-width: 1; opacity: 1;\"></line></g><g class=\"mark-text role-axis-label\" style=\"pointer-events: none;\"><text text-anchor=\"middle\" transform=\"translate(49,20)\" style=\"font-family: sans-serif; font-size: 17px; fill: #000; opacity: 1;\">Known</text><text text-anchor=\"middle\" transform=\"translate(149,20)\" style=\"font-family: sans-serif; font-size: 17px; fill: #000; opacity: 1;\">Unknown</text></g><g class=\"mark-rule role-axis-domain\" style=\"pointer-events: none;\"><line transform=\"translate(0,0)\" x2=\"200\" y2=\"0\" style=\"fill: none; stroke: #888; stroke-width: 1; opacity: 1;\"></line></g><g class=\"mark-text role-axis-title\" style=\"pointer-events: none;\"><text text-anchor=\"middle\" transform=\"translate(100,40)\" style=\"font-family: sans-serif; font-size: 17px; font-weight: bold; fill: #000; opacity: 1;\">Test Set</text></g></g></g></g><g class=\"mark-group role-axis\"><g transform=\"translate(0.5,0.5)\"><path class=\"background\" d=\"M0,0h0v0h0Z\" style=\"pointer-events: none; fill: none;\"></path><g><g class=\"mark-rule role-axis-tick\" style=\"pointer-events: none;\"><line transform=\"translate(0,350)\" x2=\"-5\" y2=\"0\" style=\"fill: none; stroke: #888; stroke-width: 1; opacity: 1;\"></line><line transform=\"translate(0,318)\" x2=\"-5\" y2=\"0\" style=\"fill: none; stroke: #888; stroke-width: 1; opacity: 1;\"></line><line transform=\"translate(0,286)\" x2=\"-5\" y2=\"0\" style=\"fill: none; stroke: #888; stroke-width: 1; opacity: 1;\"></line><line transform=\"translate(0,255)\" x2=\"-5\" y2=\"0\" style=\"fill: none; stroke: #888; stroke-width: 1; opacity: 1;\"></line><line transform=\"translate(0,223)\" x2=\"-5\" y2=\"0\" style=\"fill: none; stroke: #888; stroke-width: 1; opacity: 1;\"></line><line transform=\"translate(0,191)\" x2=\"-5\" y2=\"0\" style=\"fill: none; stroke: #888; stroke-width: 1; opacity: 1;\"></line><line transform=\"translate(0,159)\" x2=\"-5\" y2=\"0\" style=\"fill: none; stroke: #888; stroke-width: 1; opacity: 1;\"></line><line transform=\"translate(0,127)\" x2=\"-5\" y2=\"0\" style=\"fill: none; stroke: #888; stroke-width: 1; opacity: 1;\"></line><line transform=\"translate(0,95)\" x2=\"-5\" y2=\"0\" style=\"fill: none; stroke: #888; stroke-width: 1; opacity: 1;\"></line><line transform=\"translate(0,64)\" x2=\"-5\" y2=\"0\" style=\"fill: none; stroke: #888; stroke-width: 1; opacity: 1;\"></line><line transform=\"translate(0,32)\" x2=\"-5\" y2=\"0\" style=\"fill: none; stroke: #888; stroke-width: 1; opacity: 1;\"></line><line transform=\"translate(0,0)\" x2=\"-5\" y2=\"0\" style=\"fill: none; stroke: #888; stroke-width: 1; opacity: 1;\"></line></g><g class=\"mark-text role-axis-label\" style=\"pointer-events: none;\"><text text-anchor=\"end\" transform=\"translate(-7,355)\" style=\"font-family: sans-serif; font-size: 15px; fill: #000; opacity: 1;\">0.00</text><text text-anchor=\"end\" transform=\"translate(-7,323.1818181818182)\" style=\"font-family: sans-serif; font-size: 15px; fill: #000; opacity: 1;\">0.05</text><text text-anchor=\"end\" transform=\"translate(-7,291.3636363636364)\" style=\"font-family: sans-serif; font-size: 15px; fill: #000; opacity: 1;\">0.10</text><text text-anchor=\"end\" transform=\"translate(-7,259.54545454545456)\" style=\"font-family: sans-serif; font-size: 15px; fill: #000; opacity: 1;\">0.15</text><text text-anchor=\"end\" transform=\"translate(-7,227.72727272727272)\" style=\"font-family: sans-serif; font-size: 15px; fill: #000; opacity: 1;\">0.20</text><text text-anchor=\"end\" transform=\"translate(-7,195.9090909090909)\" style=\"font-family: sans-serif; font-size: 15px; fill: #000; opacity: 1;\">0.25</text><text text-anchor=\"end\" transform=\"translate(-7,164.0909090909091)\" style=\"font-family: sans-serif; font-size: 15px; fill: #000; opacity: 1;\">0.30</text><text text-anchor=\"end\" transform=\"translate(-7,132.2727272727273)\" style=\"font-family: sans-serif; font-size: 15px; fill: #000; opacity: 1;\">0.35</text><text text-anchor=\"end\" transform=\"translate(-7,100.45454545454544)\" style=\"font-family: sans-serif; font-size: 15px; fill: #000; opacity: 1;\">0.40</text><text text-anchor=\"end\" transform=\"translate(-7,68.63636363636368)\" style=\"font-family: sans-serif; font-size: 15px; fill: #000; opacity: 1;\">0.45</text><text text-anchor=\"end\" transform=\"translate(-7,36.81818181818181)\" style=\"font-family: sans-serif; font-size: 15px; fill: #000; opacity: 1;\">0.50</text><text text-anchor=\"end\" transform=\"translate(-7,5)\" style=\"font-family: sans-serif; font-size: 15px; fill: #000; opacity: 1;\">0.55</text></g><g class=\"mark-rule role-axis-domain\" style=\"pointer-events: none;\"><line transform=\"translate(0,350)\" x2=\"0\" y2=\"-350\" style=\"fill: none; stroke: #888; stroke-width: 1; opacity: 1;\"></line></g><g class=\"mark-text role-axis-title\" style=\"pointer-events: none;\"><text text-anchor=\"middle\" transform=\"translate(-40.1962890625,175) rotate(-90) translate(0,-4)\" style=\"font-family: sans-serif; font-size: 17px; font-weight: bold; fill: #000; opacity: 1;\">Intra Diversity</text></g></g></g></g><g class=\"mark-rect role-mark concat_2_layer_0_marks\"><path d=\"M5,39.04801346746035h90v310.95198653253965h-90Z\" style=\"fill: url(#pattern_1);\"></path><path d=\"M105,39.23278299539902h90v310.767217004601h-90Z\" style=\"fill: url(#pattern_2);\"></path></g><g class=\"mark-rule role-mark concat_2_layer_1_marks\"><line transform=\"translate(150,39.31460869485318)\" x2=\"0\" y2=\"-0.16195843910662688\" style=\"fill: none; stroke: red;\"></line><line transform=\"translate(50,39.191506210724754)\" x2=\"0\" y2=\"-0.3043232646311935\" style=\"fill: none; stroke: red;\"></line></g><g class=\"mark-text role-title\" style=\"pointer-events: none;\"><text text-anchor=\"middle\" transform=\"translate(100,-14)\" style=\"font-family: sans-serif; font-size: 16px; font-weight: bold; fill: #000; opacity: 1;\">High diversity</text></g></g></g></g></g></g></g></g></svg>"
      ],
      "text/plain": [
       "alt.HConcatChart(...)"
      ]
     },
     "execution_count": 33,
     "metadata": {},
     "output_type": "execute_result"
    }
   ],
   "source": [
    "charts"
   ]
  },
  {
   "cell_type": "markdown",
   "metadata": {},
   "source": [
    "F-Score"
   ]
  },
  {
   "cell_type": "code",
   "execution_count": 34,
   "metadata": {},
   "outputs": [],
   "source": [
    "wdth = 200\n",
    "heit = 350\n",
    "\n",
    "charts = None\n",
    "\n",
    "for idx,classe in enumerate(['Low div','Medium div','High div']):\n",
    "    graph_prec_transfer = alt.Chart(df_4[(df_4.method==classe)]).\\\n",
    "    mark_bar().encode(\n",
    "        alt.X('test_classe:N', axis=alt.Axis(title=\"Test Set\",\n",
    "                                             labelFontSize=17,\n",
    "                                             labelAngle=0,\n",
    "                                             titleFontSize=17)),\n",
    "        \n",
    "        alt.Y('harmo', axis=alt.Axis(title=\"F-Score\",\n",
    "                                         labelFontSize=15,\n",
    "                                         titleFontSize=17),\n",
    "              scale=alt.Scale(domain=(0,0.7))),\n",
    "        \n",
    "        color = alt.Color('test_classe', legend=None),\n",
    "        fill = alt.Fill('test_classe:N',title='',scale=pattern_scale, legend = None)\n",
    "        \n",
    "    ).properties(\n",
    "        width = wdth,\n",
    "        height = heit\n",
    "    )\n",
    "    \n",
    "    errorbars = alt.Chart(df_5[(df_5.method==classe)]).mark_errorbar(extent='ci',color='red').encode(\n",
    "        x=\"test_classe\",\n",
    "        y = alt.Y('harmo', axis=alt.Axis(title='')),\n",
    "    )\n",
    "    \n",
    "    if idx == 0:\n",
    "        charts = (graph_prec_transfer+errorbars).properties(title=f'{classe}ersity')\n",
    "    else:\n",
    "        charts = charts | (graph_prec_transfer+errorbars).properties(title=f'{classe}ersity')\n",
    "        \n",
    "charts = charts.configure_title(fontSize=16)"
   ]
  },
  {
   "cell_type": "code",
   "execution_count": 35,
   "metadata": {},
   "outputs": [
    {
     "name": "stderr",
     "output_type": "stream",
     "text": [
      "WARN Dropping color encoding as the plot also has fill.\n",
      "WARN Dropping color encoding as the plot also has fill.\n",
      "WARN Dropping color encoding as the plot also has fill.\n"
     ]
    },
    {
     "data": {
      "image/svg+xml": [
       "<svg class=\"marks\" width=\"803\" height=\"433\" viewBox=\"0 0 803 433\" version=\"1.1\" xmlns=\"http://www.w3.org/2000/svg\" xmlns:xlink=\"http://www.w3.org/1999/xlink\"><rect width=\"803\" height=\"433\" style=\"fill: white;\"></rect><g transform=\"translate(55,33)\"><g class=\"mark-group role-frame root\"><g transform=\"translate(0,0)\"><path class=\"background\" d=\"M0,0h0v350h0Z\" style=\"fill: none;\"></path><g><g class=\"mark-group role-scope concat_0_group\"><g transform=\"translate(0,0)\"><path class=\"background\" d=\"M0.5,0.5h200v350h-200Z\" style=\"fill: none; stroke: #ddd;\"></path><g><g class=\"mark-group role-axis\"><g transform=\"translate(0.5,0.5)\"><path class=\"background\" d=\"M0,0h0v0h0Z\" style=\"pointer-events: none; fill: none;\"></path><g><g class=\"mark-rule role-axis-grid\" style=\"pointer-events: none;\"><line transform=\"translate(0,350)\" x2=\"200\" y2=\"0\" style=\"fill: none; stroke: #ddd; stroke-width: 1; opacity: 1;\"></line><line transform=\"translate(0,300)\" x2=\"200\" y2=\"0\" style=\"fill: none; stroke: #ddd; stroke-width: 1; opacity: 1;\"></line><line transform=\"translate(0,250)\" x2=\"200\" y2=\"0\" style=\"fill: none; stroke: #ddd; stroke-width: 1; opacity: 1;\"></line><line transform=\"translate(0,200)\" x2=\"200\" y2=\"0\" style=\"fill: none; stroke: #ddd; stroke-width: 1; opacity: 1;\"></line><line transform=\"translate(0,150)\" x2=\"200\" y2=\"0\" style=\"fill: none; stroke: #ddd; stroke-width: 1; opacity: 1;\"></line><line transform=\"translate(0,100)\" x2=\"200\" y2=\"0\" style=\"fill: none; stroke: #ddd; stroke-width: 1; opacity: 1;\"></line><line transform=\"translate(0,50)\" x2=\"200\" y2=\"0\" style=\"fill: none; stroke: #ddd; stroke-width: 1; opacity: 1;\"></line><line transform=\"translate(0,0)\" x2=\"200\" y2=\"0\" style=\"fill: none; stroke: #ddd; stroke-width: 1; opacity: 1;\"></line></g></g></g></g><g class=\"mark-group role-axis\"><g transform=\"translate(0.5,350.5)\"><path class=\"background\" d=\"M0,0h0v0h0Z\" style=\"pointer-events: none; fill: none;\"></path><g><g class=\"mark-rule role-axis-tick\" style=\"pointer-events: none;\"><line transform=\"translate(49,0)\" x2=\"0\" y2=\"5\" style=\"fill: none; stroke: #888; stroke-width: 1; opacity: 1;\"></line><line transform=\"translate(149,0)\" x2=\"0\" y2=\"5\" style=\"fill: none; stroke: #888; stroke-width: 1; opacity: 1;\"></line></g><g class=\"mark-text role-axis-label\" style=\"pointer-events: none;\"><text text-anchor=\"middle\" transform=\"translate(49,20)\" style=\"font-family: sans-serif; font-size: 17px; fill: #000; opacity: 1;\">Known</text><text text-anchor=\"middle\" transform=\"translate(149,20)\" style=\"font-family: sans-serif; font-size: 17px; fill: #000; opacity: 1;\">Unknown</text></g><g class=\"mark-rule role-axis-domain\" style=\"pointer-events: none;\"><line transform=\"translate(0,0)\" x2=\"200\" y2=\"0\" style=\"fill: none; stroke: #888; stroke-width: 1; opacity: 1;\"></line></g><g class=\"mark-text role-axis-title\" style=\"pointer-events: none;\"><text text-anchor=\"middle\" transform=\"translate(100,40)\" style=\"font-family: sans-serif; font-size: 17px; font-weight: bold; fill: #000; opacity: 1;\">Test Set</text></g></g></g></g><g class=\"mark-group role-axis\"><g transform=\"translate(0.5,0.5)\"><path class=\"background\" d=\"M0,0h0v0h0Z\" style=\"pointer-events: none; fill: none;\"></path><g><g class=\"mark-rule role-axis-tick\" style=\"pointer-events: none;\"><line transform=\"translate(0,350)\" x2=\"-5\" y2=\"0\" style=\"fill: none; stroke: #888; stroke-width: 1; opacity: 1;\"></line><line transform=\"translate(0,300)\" x2=\"-5\" y2=\"0\" style=\"fill: none; stroke: #888; stroke-width: 1; opacity: 1;\"></line><line transform=\"translate(0,250)\" x2=\"-5\" y2=\"0\" style=\"fill: none; stroke: #888; stroke-width: 1; opacity: 1;\"></line><line transform=\"translate(0,200)\" x2=\"-5\" y2=\"0\" style=\"fill: none; stroke: #888; stroke-width: 1; opacity: 1;\"></line><line transform=\"translate(0,150)\" x2=\"-5\" y2=\"0\" style=\"fill: none; stroke: #888; stroke-width: 1; opacity: 1;\"></line><line transform=\"translate(0,100)\" x2=\"-5\" y2=\"0\" style=\"fill: none; stroke: #888; stroke-width: 1; opacity: 1;\"></line><line transform=\"translate(0,50)\" x2=\"-5\" y2=\"0\" style=\"fill: none; stroke: #888; stroke-width: 1; opacity: 1;\"></line><line transform=\"translate(0,0)\" x2=\"-5\" y2=\"0\" style=\"fill: none; stroke: #888; stroke-width: 1; opacity: 1;\"></line></g><g class=\"mark-text role-axis-label\" style=\"pointer-events: none;\"><text text-anchor=\"end\" transform=\"translate(-7,355)\" style=\"font-family: sans-serif; font-size: 15px; fill: #000; opacity: 1;\">0.0</text><text text-anchor=\"end\" transform=\"translate(-7,305)\" style=\"font-family: sans-serif; font-size: 15px; fill: #000; opacity: 1;\">0.1</text><text text-anchor=\"end\" transform=\"translate(-7,255)\" style=\"font-family: sans-serif; font-size: 15px; fill: #000; opacity: 1;\">0.2</text><text text-anchor=\"end\" transform=\"translate(-7,205)\" style=\"font-family: sans-serif; font-size: 15px; fill: #000; opacity: 1;\">0.3</text><text text-anchor=\"end\" transform=\"translate(-7,154.99999999999997)\" style=\"font-family: sans-serif; font-size: 15px; fill: #000; opacity: 1;\">0.4</text><text text-anchor=\"end\" transform=\"translate(-7,105)\" style=\"font-family: sans-serif; font-size: 15px; fill: #000; opacity: 1;\">0.5</text><text text-anchor=\"end\" transform=\"translate(-7,55)\" style=\"font-family: sans-serif; font-size: 15px; fill: #000; opacity: 1;\">0.6</text><text text-anchor=\"end\" transform=\"translate(-7,5)\" style=\"font-family: sans-serif; font-size: 15px; fill: #000; opacity: 1;\">0.7</text></g><g class=\"mark-rule role-axis-domain\" style=\"pointer-events: none;\"><line transform=\"translate(0,350)\" x2=\"0\" y2=\"-350\" style=\"fill: none; stroke: #888; stroke-width: 1; opacity: 1;\"></line></g><g class=\"mark-text role-axis-title\" style=\"pointer-events: none;\"><text text-anchor=\"middle\" transform=\"translate(-31.853515625,175) rotate(-90) translate(0,-4)\" style=\"font-family: sans-serif; font-size: 17px; font-weight: bold; fill: #000; opacity: 1;\">F-Score</text></g></g></g></g><g class=\"mark-rect role-mark concat_0_layer_0_marks\"><path d=\"M5,41.92029311402456h90v308.07970688597544h-90Z\" style=\"fill: url(#pattern_1);\"></path><path d=\"M105,54.061811824218864h90v295.93818817578114h-90Z\" style=\"fill: url(#pattern_2);\"></path></g><g class=\"mark-rule role-mark concat_0_layer_1_marks\"><line transform=\"translate(150,58.12167320000549)\" x2=\"0\" y2=\"-8.807167390098869\" style=\"fill: none; stroke: red;\"></line><line transform=\"translate(50,46.595854029422014)\" x2=\"0\" y2=\"-9.64287794900514\" style=\"fill: none; stroke: red;\"></line></g><g class=\"mark-text role-title\" style=\"pointer-events: none;\"><text text-anchor=\"middle\" transform=\"translate(100,-14)\" style=\"font-family: sans-serif; font-size: 16px; font-weight: bold; fill: #000; opacity: 1;\">Low diversity</text></g></g></g></g><g class=\"mark-group role-scope concat_1_group\"><g transform=\"translate(271,0)\"><path class=\"background\" d=\"M0.5,0.5h200v350h-200Z\" style=\"fill: none; stroke: #ddd;\"></path><g><g class=\"mark-group role-axis\"><g transform=\"translate(0.5,0.5)\"><path class=\"background\" d=\"M0,0h0v0h0Z\" style=\"pointer-events: none; fill: none;\"></path><g><g class=\"mark-rule role-axis-grid\" style=\"pointer-events: none;\"><line transform=\"translate(0,350)\" x2=\"200\" y2=\"0\" style=\"fill: none; stroke: #ddd; stroke-width: 1; opacity: 1;\"></line><line transform=\"translate(0,300)\" x2=\"200\" y2=\"0\" style=\"fill: none; stroke: #ddd; stroke-width: 1; opacity: 1;\"></line><line transform=\"translate(0,250)\" x2=\"200\" y2=\"0\" style=\"fill: none; stroke: #ddd; stroke-width: 1; opacity: 1;\"></line><line transform=\"translate(0,200)\" x2=\"200\" y2=\"0\" style=\"fill: none; stroke: #ddd; stroke-width: 1; opacity: 1;\"></line><line transform=\"translate(0,150)\" x2=\"200\" y2=\"0\" style=\"fill: none; stroke: #ddd; stroke-width: 1; opacity: 1;\"></line><line transform=\"translate(0,100)\" x2=\"200\" y2=\"0\" style=\"fill: none; stroke: #ddd; stroke-width: 1; opacity: 1;\"></line><line transform=\"translate(0,50)\" x2=\"200\" y2=\"0\" style=\"fill: none; stroke: #ddd; stroke-width: 1; opacity: 1;\"></line><line transform=\"translate(0,0)\" x2=\"200\" y2=\"0\" style=\"fill: none; stroke: #ddd; stroke-width: 1; opacity: 1;\"></line></g></g></g></g><g class=\"mark-group role-axis\"><g transform=\"translate(0.5,350.5)\"><path class=\"background\" d=\"M0,0h0v0h0Z\" style=\"pointer-events: none; fill: none;\"></path><g><g class=\"mark-rule role-axis-tick\" style=\"pointer-events: none;\"><line transform=\"translate(49,0)\" x2=\"0\" y2=\"5\" style=\"fill: none; stroke: #888; stroke-width: 1; opacity: 1;\"></line><line transform=\"translate(149,0)\" x2=\"0\" y2=\"5\" style=\"fill: none; stroke: #888; stroke-width: 1; opacity: 1;\"></line></g><g class=\"mark-text role-axis-label\" style=\"pointer-events: none;\"><text text-anchor=\"middle\" transform=\"translate(49,20)\" style=\"font-family: sans-serif; font-size: 17px; fill: #000; opacity: 1;\">Known</text><text text-anchor=\"middle\" transform=\"translate(149,20)\" style=\"font-family: sans-serif; font-size: 17px; fill: #000; opacity: 1;\">Unknown</text></g><g class=\"mark-rule role-axis-domain\" style=\"pointer-events: none;\"><line transform=\"translate(0,0)\" x2=\"200\" y2=\"0\" style=\"fill: none; stroke: #888; stroke-width: 1; opacity: 1;\"></line></g><g class=\"mark-text role-axis-title\" style=\"pointer-events: none;\"><text text-anchor=\"middle\" transform=\"translate(100,40)\" style=\"font-family: sans-serif; font-size: 17px; font-weight: bold; fill: #000; opacity: 1;\">Test Set</text></g></g></g></g><g class=\"mark-group role-axis\"><g transform=\"translate(0.5,0.5)\"><path class=\"background\" d=\"M0,0h0v0h0Z\" style=\"pointer-events: none; fill: none;\"></path><g><g class=\"mark-rule role-axis-tick\" style=\"pointer-events: none;\"><line transform=\"translate(0,350)\" x2=\"-5\" y2=\"0\" style=\"fill: none; stroke: #888; stroke-width: 1; opacity: 1;\"></line><line transform=\"translate(0,300)\" x2=\"-5\" y2=\"0\" style=\"fill: none; stroke: #888; stroke-width: 1; opacity: 1;\"></line><line transform=\"translate(0,250)\" x2=\"-5\" y2=\"0\" style=\"fill: none; stroke: #888; stroke-width: 1; opacity: 1;\"></line><line transform=\"translate(0,200)\" x2=\"-5\" y2=\"0\" style=\"fill: none; stroke: #888; stroke-width: 1; opacity: 1;\"></line><line transform=\"translate(0,150)\" x2=\"-5\" y2=\"0\" style=\"fill: none; stroke: #888; stroke-width: 1; opacity: 1;\"></line><line transform=\"translate(0,100)\" x2=\"-5\" y2=\"0\" style=\"fill: none; stroke: #888; stroke-width: 1; opacity: 1;\"></line><line transform=\"translate(0,50)\" x2=\"-5\" y2=\"0\" style=\"fill: none; stroke: #888; stroke-width: 1; opacity: 1;\"></line><line transform=\"translate(0,0)\" x2=\"-5\" y2=\"0\" style=\"fill: none; stroke: #888; stroke-width: 1; opacity: 1;\"></line></g><g class=\"mark-text role-axis-label\" style=\"pointer-events: none;\"><text text-anchor=\"end\" transform=\"translate(-7,355)\" style=\"font-family: sans-serif; font-size: 15px; fill: #000; opacity: 1;\">0.0</text><text text-anchor=\"end\" transform=\"translate(-7,305)\" style=\"font-family: sans-serif; font-size: 15px; fill: #000; opacity: 1;\">0.1</text><text text-anchor=\"end\" transform=\"translate(-7,255)\" style=\"font-family: sans-serif; font-size: 15px; fill: #000; opacity: 1;\">0.2</text><text text-anchor=\"end\" transform=\"translate(-7,205)\" style=\"font-family: sans-serif; font-size: 15px; fill: #000; opacity: 1;\">0.3</text><text text-anchor=\"end\" transform=\"translate(-7,154.99999999999997)\" style=\"font-family: sans-serif; font-size: 15px; fill: #000; opacity: 1;\">0.4</text><text text-anchor=\"end\" transform=\"translate(-7,105)\" style=\"font-family: sans-serif; font-size: 15px; fill: #000; opacity: 1;\">0.5</text><text text-anchor=\"end\" transform=\"translate(-7,55)\" style=\"font-family: sans-serif; font-size: 15px; fill: #000; opacity: 1;\">0.6</text><text text-anchor=\"end\" transform=\"translate(-7,5)\" style=\"font-family: sans-serif; font-size: 15px; fill: #000; opacity: 1;\">0.7</text></g><g class=\"mark-rule role-axis-domain\" style=\"pointer-events: none;\"><line transform=\"translate(0,350)\" x2=\"0\" y2=\"-350\" style=\"fill: none; stroke: #888; stroke-width: 1; opacity: 1;\"></line></g><g class=\"mark-text role-axis-title\" style=\"pointer-events: none;\"><text text-anchor=\"middle\" transform=\"translate(-31.853515625,175) rotate(-90) translate(0,-4)\" style=\"font-family: sans-serif; font-size: 17px; font-weight: bold; fill: #000; opacity: 1;\">F-Score</text></g></g></g></g><g class=\"mark-rect role-mark concat_1_layer_0_marks\"><path d=\"M5,23.556121679654723h90v326.4438783203453h-90Z\" style=\"fill: url(#pattern_1);\"></path><path d=\"M105,42.51388211499557h90v307.48611788500443h-90Z\" style=\"fill: url(#pattern_2);\"></path></g><g class=\"mark-rule role-mark concat_1_layer_1_marks\"><line transform=\"translate(150,60.23465209837474)\" x2=\"0\" y2=\"-35.44153996675834\" style=\"fill: none; stroke: red;\"></line><line transform=\"translate(50,37.66590048204415)\" x2=\"0\" y2=\"-27.90452353696992\" style=\"fill: none; stroke: red;\"></line></g><g class=\"mark-text role-title\" style=\"pointer-events: none;\"><text text-anchor=\"middle\" transform=\"translate(100,-14)\" style=\"font-family: sans-serif; font-size: 16px; font-weight: bold; fill: #000; opacity: 1;\">Medium diversity</text></g></g></g></g><g class=\"mark-group role-scope concat_2_group\"><g transform=\"translate(542,0)\"><path class=\"background\" d=\"M0.5,0.5h200v350h-200Z\" style=\"fill: none; stroke: #ddd;\"></path><g><g class=\"mark-group role-axis\"><g transform=\"translate(0.5,0.5)\"><path class=\"background\" d=\"M0,0h0v0h0Z\" style=\"pointer-events: none; fill: none;\"></path><g><g class=\"mark-rule role-axis-grid\" style=\"pointer-events: none;\"><line transform=\"translate(0,350)\" x2=\"200\" y2=\"0\" style=\"fill: none; stroke: #ddd; stroke-width: 1; opacity: 1;\"></line><line transform=\"translate(0,300)\" x2=\"200\" y2=\"0\" style=\"fill: none; stroke: #ddd; stroke-width: 1; opacity: 1;\"></line><line transform=\"translate(0,250)\" x2=\"200\" y2=\"0\" style=\"fill: none; stroke: #ddd; stroke-width: 1; opacity: 1;\"></line><line transform=\"translate(0,200)\" x2=\"200\" y2=\"0\" style=\"fill: none; stroke: #ddd; stroke-width: 1; opacity: 1;\"></line><line transform=\"translate(0,150)\" x2=\"200\" y2=\"0\" style=\"fill: none; stroke: #ddd; stroke-width: 1; opacity: 1;\"></line><line transform=\"translate(0,100)\" x2=\"200\" y2=\"0\" style=\"fill: none; stroke: #ddd; stroke-width: 1; opacity: 1;\"></line><line transform=\"translate(0,50)\" x2=\"200\" y2=\"0\" style=\"fill: none; stroke: #ddd; stroke-width: 1; opacity: 1;\"></line><line transform=\"translate(0,0)\" x2=\"200\" y2=\"0\" style=\"fill: none; stroke: #ddd; stroke-width: 1; opacity: 1;\"></line></g></g></g></g><g class=\"mark-group role-axis\"><g transform=\"translate(0.5,350.5)\"><path class=\"background\" d=\"M0,0h0v0h0Z\" style=\"pointer-events: none; fill: none;\"></path><g><g class=\"mark-rule role-axis-tick\" style=\"pointer-events: none;\"><line transform=\"translate(49,0)\" x2=\"0\" y2=\"5\" style=\"fill: none; stroke: #888; stroke-width: 1; opacity: 1;\"></line><line transform=\"translate(149,0)\" x2=\"0\" y2=\"5\" style=\"fill: none; stroke: #888; stroke-width: 1; opacity: 1;\"></line></g><g class=\"mark-text role-axis-label\" style=\"pointer-events: none;\"><text text-anchor=\"middle\" transform=\"translate(49,20)\" style=\"font-family: sans-serif; font-size: 17px; fill: #000; opacity: 1;\">Known</text><text text-anchor=\"middle\" transform=\"translate(149,20)\" style=\"font-family: sans-serif; font-size: 17px; fill: #000; opacity: 1;\">Unknown</text></g><g class=\"mark-rule role-axis-domain\" style=\"pointer-events: none;\"><line transform=\"translate(0,0)\" x2=\"200\" y2=\"0\" style=\"fill: none; stroke: #888; stroke-width: 1; opacity: 1;\"></line></g><g class=\"mark-text role-axis-title\" style=\"pointer-events: none;\"><text text-anchor=\"middle\" transform=\"translate(100,40)\" style=\"font-family: sans-serif; font-size: 17px; font-weight: bold; fill: #000; opacity: 1;\">Test Set</text></g></g></g></g><g class=\"mark-group role-axis\"><g transform=\"translate(0.5,0.5)\"><path class=\"background\" d=\"M0,0h0v0h0Z\" style=\"pointer-events: none; fill: none;\"></path><g><g class=\"mark-rule role-axis-tick\" style=\"pointer-events: none;\"><line transform=\"translate(0,350)\" x2=\"-5\" y2=\"0\" style=\"fill: none; stroke: #888; stroke-width: 1; opacity: 1;\"></line><line transform=\"translate(0,300)\" x2=\"-5\" y2=\"0\" style=\"fill: none; stroke: #888; stroke-width: 1; opacity: 1;\"></line><line transform=\"translate(0,250)\" x2=\"-5\" y2=\"0\" style=\"fill: none; stroke: #888; stroke-width: 1; opacity: 1;\"></line><line transform=\"translate(0,200)\" x2=\"-5\" y2=\"0\" style=\"fill: none; stroke: #888; stroke-width: 1; opacity: 1;\"></line><line transform=\"translate(0,150)\" x2=\"-5\" y2=\"0\" style=\"fill: none; stroke: #888; stroke-width: 1; opacity: 1;\"></line><line transform=\"translate(0,100)\" x2=\"-5\" y2=\"0\" style=\"fill: none; stroke: #888; stroke-width: 1; opacity: 1;\"></line><line transform=\"translate(0,50)\" x2=\"-5\" y2=\"0\" style=\"fill: none; stroke: #888; stroke-width: 1; opacity: 1;\"></line><line transform=\"translate(0,0)\" x2=\"-5\" y2=\"0\" style=\"fill: none; stroke: #888; stroke-width: 1; opacity: 1;\"></line></g><g class=\"mark-text role-axis-label\" style=\"pointer-events: none;\"><text text-anchor=\"end\" transform=\"translate(-7,355)\" style=\"font-family: sans-serif; font-size: 15px; fill: #000; opacity: 1;\">0.0</text><text text-anchor=\"end\" transform=\"translate(-7,305)\" style=\"font-family: sans-serif; font-size: 15px; fill: #000; opacity: 1;\">0.1</text><text text-anchor=\"end\" transform=\"translate(-7,255)\" style=\"font-family: sans-serif; font-size: 15px; fill: #000; opacity: 1;\">0.2</text><text text-anchor=\"end\" transform=\"translate(-7,205)\" style=\"font-family: sans-serif; font-size: 15px; fill: #000; opacity: 1;\">0.3</text><text text-anchor=\"end\" transform=\"translate(-7,154.99999999999997)\" style=\"font-family: sans-serif; font-size: 15px; fill: #000; opacity: 1;\">0.4</text><text text-anchor=\"end\" transform=\"translate(-7,105)\" style=\"font-family: sans-serif; font-size: 15px; fill: #000; opacity: 1;\">0.5</text><text text-anchor=\"end\" transform=\"translate(-7,55)\" style=\"font-family: sans-serif; font-size: 15px; fill: #000; opacity: 1;\">0.6</text><text text-anchor=\"end\" transform=\"translate(-7,5)\" style=\"font-family: sans-serif; font-size: 15px; fill: #000; opacity: 1;\">0.7</text></g><g class=\"mark-rule role-axis-domain\" style=\"pointer-events: none;\"><line transform=\"translate(0,350)\" x2=\"0\" y2=\"-350\" style=\"fill: none; stroke: #888; stroke-width: 1; opacity: 1;\"></line></g><g class=\"mark-text role-axis-title\" style=\"pointer-events: none;\"><text text-anchor=\"middle\" transform=\"translate(-31.853515625,175) rotate(-90) translate(0,-4)\" style=\"font-family: sans-serif; font-size: 17px; font-weight: bold; fill: #000; opacity: 1;\">F-Score</text></g></g></g></g><g class=\"mark-rect role-mark concat_2_layer_0_marks\"><path d=\"M5,20.6466010835656h90v329.3533989164344h-90Z\" style=\"fill: url(#pattern_1);\"></path><path d=\"M105,22.211657950862445h90v327.78834204913755h-90Z\" style=\"fill: url(#pattern_2);\"></path></g><g class=\"mark-rule role-mark concat_2_layer_1_marks\"><line transform=\"translate(150,32.91081420901753)\" x2=\"0\" y2=\"-22.835956586352722\" style=\"fill: none; stroke: red;\"></line><line transform=\"translate(50,27.545868688137205)\" x2=\"0\" y2=\"-14.194278877802162\" style=\"fill: none; stroke: red;\"></line></g><g class=\"mark-text role-title\" style=\"pointer-events: none;\"><text text-anchor=\"middle\" transform=\"translate(100,-14)\" style=\"font-family: sans-serif; font-size: 16px; font-weight: bold; fill: #000; opacity: 1;\">High diversity</text></g></g></g></g></g></g></g></g></svg>"
      ],
      "text/plain": [
       "alt.HConcatChart(...)"
      ]
     },
     "execution_count": 35,
     "metadata": {},
     "output_type": "execute_result"
    }
   ],
   "source": [
    "charts"
   ]
  },
  {
   "cell_type": "markdown",
   "metadata": {},
   "source": [
    "# Parameters Tuning"
   ]
  },
  {
   "cell_type": "code",
   "execution_count": 36,
   "metadata": {},
   "outputs": [],
   "source": [
    "df = pd.read_csv('Data/no_attr/test_results/all_results_parameters.csv')\n",
    "\n",
    "df['harmo'] = df['precision']+df['diversity']\n",
    "df['harmo'] = (2*df['precision']*df['diversity'])/df['harmo']\n",
    "\n",
    "df_dqn = df\n",
    "df_dqn = df_dqn.groupby(['batch_size','state_size','l_r']).mean().reset_index()"
   ]
  },
  {
   "cell_type": "code",
   "execution_count": 37,
   "metadata": {},
   "outputs": [],
   "source": [
    "df_dqn = df_dqn.astype({'state_size':str,'l_r':str, 'batch_size':str, 'decay/worker':str})\n",
    "df_dqn['Method'] = df_dqn.batch_size + '_' + df_dqn.state_size + '_' +df_dqn.l_r + '_'+df_dqn['decay/worker']"
   ]
  },
  {
   "cell_type": "markdown",
   "metadata": {},
   "source": [
    "Diversity"
   ]
  },
  {
   "cell_type": "code",
   "execution_count": 38,
   "metadata": {},
   "outputs": [],
   "source": [
    "wdth = 550\n",
    "heit = 250\n",
    "\n",
    "graph_div = alt.Chart(df_dqn).mark_bar().encode(\n",
    "    alt.X('Method:N', axis=alt.Axis(title=\"Method\")),\n",
    "    alt.Y('diversity', axis=alt.Axis(title=\"Intra Diversity\"),scale=alt.Scale(zero=False)),\n",
    "    color=alt.Color('Method',title='')\n",
    ").properties(\n",
    "    width = wdth,\n",
    "    height = heit\n",
    ")"
   ]
  },
  {
   "cell_type": "code",
   "execution_count": 39,
   "metadata": {},
   "outputs": [
    {
     "data": {
      "image/svg+xml": [
       "<svg class=\"marks\" width=\"737\" height=\"382\" viewBox=\"0 0 737 382\" version=\"1.1\" xmlns=\"http://www.w3.org/2000/svg\" xmlns:xlink=\"http://www.w3.org/1999/xlink\"><rect width=\"737\" height=\"382\" style=\"fill: white;\"></rect><g transform=\"translate(53,10)\"><g class=\"mark-group role-frame root\"><g transform=\"translate(0,0)\"><path class=\"background\" d=\"M0.5,0.5h550v250h-550Z\" style=\"fill: none; stroke: #ddd;\"></path><g><g class=\"mark-group role-axis\"><g transform=\"translate(0.5,0.5)\"><path class=\"background\" d=\"M0,0h0v0h0Z\" style=\"pointer-events: none; fill: none;\"></path><g><g class=\"mark-rule role-axis-grid\" style=\"pointer-events: none;\"><line transform=\"translate(0,250)\" x2=\"550\" y2=\"0\" style=\"fill: none; stroke: #ddd; stroke-width: 1; opacity: 1;\"></line><line transform=\"translate(0,227)\" x2=\"550\" y2=\"0\" style=\"fill: none; stroke: #ddd; stroke-width: 1; opacity: 1;\"></line><line transform=\"translate(0,205)\" x2=\"550\" y2=\"0\" style=\"fill: none; stroke: #ddd; stroke-width: 1; opacity: 1;\"></line><line transform=\"translate(0,182)\" x2=\"550\" y2=\"0\" style=\"fill: none; stroke: #ddd; stroke-width: 1; opacity: 1;\"></line><line transform=\"translate(0,159)\" x2=\"550\" y2=\"0\" style=\"fill: none; stroke: #ddd; stroke-width: 1; opacity: 1;\"></line><line transform=\"translate(0,136)\" x2=\"550\" y2=\"0\" style=\"fill: none; stroke: #ddd; stroke-width: 1; opacity: 1;\"></line><line transform=\"translate(0,114)\" x2=\"550\" y2=\"0\" style=\"fill: none; stroke: #ddd; stroke-width: 1; opacity: 1;\"></line><line transform=\"translate(0,91)\" x2=\"550\" y2=\"0\" style=\"fill: none; stroke: #ddd; stroke-width: 1; opacity: 1;\"></line><line transform=\"translate(0,68)\" x2=\"550\" y2=\"0\" style=\"fill: none; stroke: #ddd; stroke-width: 1; opacity: 1;\"></line><line transform=\"translate(0,45)\" x2=\"550\" y2=\"0\" style=\"fill: none; stroke: #ddd; stroke-width: 1; opacity: 1;\"></line><line transform=\"translate(0,23)\" x2=\"550\" y2=\"0\" style=\"fill: none; stroke: #ddd; stroke-width: 1; opacity: 1;\"></line><line transform=\"translate(0,0)\" x2=\"550\" y2=\"0\" style=\"fill: none; stroke: #ddd; stroke-width: 1; opacity: 1;\"></line></g></g></g></g><g class=\"mark-group role-axis\"><g transform=\"translate(0.5,250.5)\"><path class=\"background\" d=\"M0,0h0v0h0Z\" style=\"pointer-events: none; fill: none;\"></path><g><g class=\"mark-rule role-axis-tick\" style=\"pointer-events: none;\"><line transform=\"translate(10,0)\" x2=\"0\" y2=\"5\" style=\"fill: none; stroke: #888; stroke-width: 1; opacity: 1;\"></line><line transform=\"translate(33,0)\" x2=\"0\" y2=\"5\" style=\"fill: none; stroke: #888; stroke-width: 1; opacity: 1;\"></line><line transform=\"translate(56,0)\" x2=\"0\" y2=\"5\" style=\"fill: none; stroke: #888; stroke-width: 1; opacity: 1;\"></line><line transform=\"translate(79,0)\" x2=\"0\" y2=\"5\" style=\"fill: none; stroke: #888; stroke-width: 1; opacity: 1;\"></line><line transform=\"translate(102,0)\" x2=\"0\" y2=\"5\" style=\"fill: none; stroke: #888; stroke-width: 1; opacity: 1;\"></line><line transform=\"translate(125,0)\" x2=\"0\" y2=\"5\" style=\"fill: none; stroke: #888; stroke-width: 1; opacity: 1;\"></line><line transform=\"translate(148,0)\" x2=\"0\" y2=\"5\" style=\"fill: none; stroke: #888; stroke-width: 1; opacity: 1;\"></line><line transform=\"translate(171,0)\" x2=\"0\" y2=\"5\" style=\"fill: none; stroke: #888; stroke-width: 1; opacity: 1;\"></line><line transform=\"translate(194,0)\" x2=\"0\" y2=\"5\" style=\"fill: none; stroke: #888; stroke-width: 1; opacity: 1;\"></line><line transform=\"translate(217,0)\" x2=\"0\" y2=\"5\" style=\"fill: none; stroke: #888; stroke-width: 1; opacity: 1;\"></line><line transform=\"translate(240,0)\" x2=\"0\" y2=\"5\" style=\"fill: none; stroke: #888; stroke-width: 1; opacity: 1;\"></line><line transform=\"translate(263,0)\" x2=\"0\" y2=\"5\" style=\"fill: none; stroke: #888; stroke-width: 1; opacity: 1;\"></line><line transform=\"translate(285,0)\" x2=\"0\" y2=\"5\" style=\"fill: none; stroke: #888; stroke-width: 1; opacity: 1;\"></line><line transform=\"translate(308,0)\" x2=\"0\" y2=\"5\" style=\"fill: none; stroke: #888; stroke-width: 1; opacity: 1;\"></line><line transform=\"translate(331,0)\" x2=\"0\" y2=\"5\" style=\"fill: none; stroke: #888; stroke-width: 1; opacity: 1;\"></line><line transform=\"translate(354,0)\" x2=\"0\" y2=\"5\" style=\"fill: none; stroke: #888; stroke-width: 1; opacity: 1;\"></line><line transform=\"translate(377,0)\" x2=\"0\" y2=\"5\" style=\"fill: none; stroke: #888; stroke-width: 1; opacity: 1;\"></line><line transform=\"translate(400,0)\" x2=\"0\" y2=\"5\" style=\"fill: none; stroke: #888; stroke-width: 1; opacity: 1;\"></line><line transform=\"translate(423,0)\" x2=\"0\" y2=\"5\" style=\"fill: none; stroke: #888; stroke-width: 1; opacity: 1;\"></line><line transform=\"translate(446,0)\" x2=\"0\" y2=\"5\" style=\"fill: none; stroke: #888; stroke-width: 1; opacity: 1;\"></line><line transform=\"translate(469,0)\" x2=\"0\" y2=\"5\" style=\"fill: none; stroke: #888; stroke-width: 1; opacity: 1;\"></line><line transform=\"translate(492,0)\" x2=\"0\" y2=\"5\" style=\"fill: none; stroke: #888; stroke-width: 1; opacity: 1;\"></line><line transform=\"translate(515,0)\" x2=\"0\" y2=\"5\" style=\"fill: none; stroke: #888; stroke-width: 1; opacity: 1;\"></line><line transform=\"translate(538,0)\" x2=\"0\" y2=\"5\" style=\"fill: none; stroke: #888; stroke-width: 1; opacity: 1;\"></line></g><g class=\"mark-text role-axis-label\" style=\"pointer-events: none;\"><text text-anchor=\"end\" transform=\"translate(10.458333333333314,7) rotate(270) translate(0,3)\" style=\"font-family: sans-serif; font-size: 10px; fill: #000; opacity: 1;\">256_100_0.0001_7.5</text><text text-anchor=\"end\" transform=\"translate(33.374999999999986,7) rotate(270) translate(0,3)\" style=\"font-family: sans-serif; font-size: 10px; fill: #000; opacity: 1;\">256_100_0.0003_7.5</text><text text-anchor=\"end\" transform=\"translate(56.29166666666665,7) rotate(270) translate(0,3)\" style=\"font-family: sans-serif; font-size: 10px; fill: #000; opacity: 1;\">256_100_0.001_7.5</text><text text-anchor=\"end\" transform=\"translate(79.20833333333331,7) rotate(270) translate(0,3)\" style=\"font-family: sans-serif; font-size: 10px; fill: #000; opacity: 1;\">256_100_0.003_7.5</text><text text-anchor=\"end\" transform=\"translate(102.12499999999999,7) rotate(270) translate(0,3)\" style=\"font-family: sans-serif; font-size: 10px; fill: #000; opacity: 1;\">256_200_0.0001_7.5</text><text text-anchor=\"end\" transform=\"translate(125.04166666666666,7) rotate(270) translate(0,3)\" style=\"font-family: sans-serif; font-size: 10px; fill: #000; opacity: 1;\">256_200_0.0003_7.5</text><text text-anchor=\"end\" transform=\"translate(147.95833333333331,7) rotate(270) translate(0,3)\" style=\"font-family: sans-serif; font-size: 10px; fill: #000; opacity: 1;\">256_200_0.001_7.5</text><text text-anchor=\"end\" transform=\"translate(170.875,7) rotate(270) translate(0,3)\" style=\"font-family: sans-serif; font-size: 10px; fill: #000; opacity: 1;\">256_200_0.003_7.5</text><text text-anchor=\"end\" transform=\"translate(193.79166666666666,7) rotate(270) translate(0,3)\" style=\"font-family: sans-serif; font-size: 10px; fill: #000; opacity: 1;\">256_500_0.0001_7.5</text><text text-anchor=\"end\" transform=\"translate(216.70833333333331,7) rotate(270) translate(0,3)\" style=\"font-family: sans-serif; font-size: 10px; fill: #000; opacity: 1;\">256_500_0.0003_7.5</text><text text-anchor=\"end\" transform=\"translate(239.625,7) rotate(270) translate(0,3)\" style=\"font-family: sans-serif; font-size: 10px; fill: #000; opacity: 1;\">256_500_0.001_7.5</text><text text-anchor=\"end\" transform=\"translate(262.54166666666663,7) rotate(270) translate(0,3)\" style=\"font-family: sans-serif; font-size: 10px; fill: #000; opacity: 1;\">256_500_0.003_7.5</text><text text-anchor=\"end\" transform=\"translate(285.4583333333333,7) rotate(270) translate(0,3)\" style=\"font-family: sans-serif; font-size: 10px; fill: #000; opacity: 1;\">64_100_0.0001_7.5</text><text text-anchor=\"end\" transform=\"translate(308.375,7) rotate(270) translate(0,3)\" style=\"font-family: sans-serif; font-size: 10px; fill: #000; opacity: 1;\">64_100_0.0003_7.5</text><text text-anchor=\"end\" transform=\"translate(331.2916666666667,7) rotate(270) translate(0,3)\" style=\"font-family: sans-serif; font-size: 10px; fill: #000; opacity: 1;\">64_100_0.001_7.5</text><text text-anchor=\"end\" transform=\"translate(354.2083333333333,7) rotate(270) translate(0,3)\" style=\"font-family: sans-serif; font-size: 10px; fill: #000; opacity: 1;\">64_100_0.003_7.5</text><text text-anchor=\"end\" transform=\"translate(377.125,7) rotate(270) translate(0,3)\" style=\"font-family: sans-serif; font-size: 10px; fill: #000; opacity: 1;\">64_200_0.0001_7.5</text><text text-anchor=\"end\" transform=\"translate(400.0416666666667,7) rotate(270) translate(0,3)\" style=\"font-family: sans-serif; font-size: 10px; fill: #000; opacity: 1;\">64_200_0.0003_7.5</text><text text-anchor=\"end\" transform=\"translate(422.9583333333333,7) rotate(270) translate(0,3)\" style=\"font-family: sans-serif; font-size: 10px; fill: #000; opacity: 1;\">64_200_0.001_7.5</text><text text-anchor=\"end\" transform=\"translate(445.875,7) rotate(270) translate(0,3)\" style=\"font-family: sans-serif; font-size: 10px; fill: #000; opacity: 1;\">64_200_0.003_7.5</text><text text-anchor=\"end\" transform=\"translate(468.7916666666667,7) rotate(270) translate(0,3)\" style=\"font-family: sans-serif; font-size: 10px; fill: #000; opacity: 1;\">64_500_0.0001_7.5</text><text text-anchor=\"end\" transform=\"translate(491.7083333333333,7) rotate(270) translate(0,3)\" style=\"font-family: sans-serif; font-size: 10px; fill: #000; opacity: 1;\">64_500_0.0003_7.5</text><text text-anchor=\"end\" transform=\"translate(514.625,7) rotate(270) translate(0,3)\" style=\"font-family: sans-serif; font-size: 10px; fill: #000; opacity: 1;\">64_500_0.001_7.5</text><text text-anchor=\"end\" transform=\"translate(537.5416666666667,7) rotate(270) translate(0,3)\" style=\"font-family: sans-serif; font-size: 10px; fill: #000; opacity: 1;\">64_500_0.003_7.5</text></g><g class=\"mark-rule role-axis-domain\" style=\"pointer-events: none;\"><line transform=\"translate(0,0)\" x2=\"550\" y2=\"0\" style=\"fill: none; stroke: #888; stroke-width: 1; opacity: 1;\"></line></g><g class=\"mark-text role-axis-title\" style=\"pointer-events: none;\"><text text-anchor=\"middle\" transform=\"translate(275,114.541015625)\" style=\"font-family: sans-serif; font-size: 11px; font-weight: bold; fill: #000; opacity: 1;\">Method</text></g></g></g></g><g class=\"mark-group role-axis\"><g transform=\"translate(0.5,0.5)\"><path class=\"background\" d=\"M0,0h0v0h0Z\" style=\"pointer-events: none; fill: none;\"></path><g><g class=\"mark-rule role-axis-tick\" style=\"pointer-events: none;\"><line transform=\"translate(0,250)\" x2=\"-5\" y2=\"0\" style=\"fill: none; stroke: #888; stroke-width: 1; opacity: 1;\"></line><line transform=\"translate(0,227)\" x2=\"-5\" y2=\"0\" style=\"fill: none; stroke: #888; stroke-width: 1; opacity: 1;\"></line><line transform=\"translate(0,205)\" x2=\"-5\" y2=\"0\" style=\"fill: none; stroke: #888; stroke-width: 1; opacity: 1;\"></line><line transform=\"translate(0,182)\" x2=\"-5\" y2=\"0\" style=\"fill: none; stroke: #888; stroke-width: 1; opacity: 1;\"></line><line transform=\"translate(0,159)\" x2=\"-5\" y2=\"0\" style=\"fill: none; stroke: #888; stroke-width: 1; opacity: 1;\"></line><line transform=\"translate(0,136)\" x2=\"-5\" y2=\"0\" style=\"fill: none; stroke: #888; stroke-width: 1; opacity: 1;\"></line><line transform=\"translate(0,114)\" x2=\"-5\" y2=\"0\" style=\"fill: none; stroke: #888; stroke-width: 1; opacity: 1;\"></line><line transform=\"translate(0,91)\" x2=\"-5\" y2=\"0\" style=\"fill: none; stroke: #888; stroke-width: 1; opacity: 1;\"></line><line transform=\"translate(0,68)\" x2=\"-5\" y2=\"0\" style=\"fill: none; stroke: #888; stroke-width: 1; opacity: 1;\"></line><line transform=\"translate(0,45)\" x2=\"-5\" y2=\"0\" style=\"fill: none; stroke: #888; stroke-width: 1; opacity: 1;\"></line><line transform=\"translate(0,23)\" x2=\"-5\" y2=\"0\" style=\"fill: none; stroke: #888; stroke-width: 1; opacity: 1;\"></line><line transform=\"translate(0,0)\" x2=\"-5\" y2=\"0\" style=\"fill: none; stroke: #888; stroke-width: 1; opacity: 1;\"></line></g><g class=\"mark-text role-axis-label\" style=\"pointer-events: none;\"><text text-anchor=\"end\" transform=\"translate(-7,253)\" style=\"font-family: sans-serif; font-size: 10px; fill: #000; opacity: 1;\">0.492</text><text text-anchor=\"end\" transform=\"translate(-7,230.27272727272728)\" style=\"font-family: sans-serif; font-size: 10px; fill: #000; opacity: 1;\">0.494</text><text text-anchor=\"end\" transform=\"translate(-7,207.54545454545456)\" style=\"font-family: sans-serif; font-size: 10px; fill: #000; opacity: 1;\">0.496</text><text text-anchor=\"end\" transform=\"translate(-7,184.8181818181818)\" style=\"font-family: sans-serif; font-size: 10px; fill: #000; opacity: 1;\">0.498</text><text text-anchor=\"end\" transform=\"translate(-7,162.0909090909091)\" style=\"font-family: sans-serif; font-size: 10px; fill: #000; opacity: 1;\">0.500</text><text text-anchor=\"end\" transform=\"translate(-7,139.36363636363637)\" style=\"font-family: sans-serif; font-size: 10px; fill: #000; opacity: 1;\">0.502</text><text text-anchor=\"end\" transform=\"translate(-7,116.63636363636365)\" style=\"font-family: sans-serif; font-size: 10px; fill: #000; opacity: 1;\">0.504</text><text text-anchor=\"end\" transform=\"translate(-7,93.9090909090909)\" style=\"font-family: sans-serif; font-size: 10px; fill: #000; opacity: 1;\">0.506</text><text text-anchor=\"end\" transform=\"translate(-7,71.18181818181819)\" style=\"font-family: sans-serif; font-size: 10px; fill: #000; opacity: 1;\">0.508</text><text text-anchor=\"end\" transform=\"translate(-7,48.45454545454544)\" style=\"font-family: sans-serif; font-size: 10px; fill: #000; opacity: 1;\">0.510</text><text text-anchor=\"end\" transform=\"translate(-7,25.727272727272748)\" style=\"font-family: sans-serif; font-size: 10px; fill: #000; opacity: 1;\">0.512</text><text text-anchor=\"end\" transform=\"translate(-7,3)\" style=\"font-family: sans-serif; font-size: 10px; fill: #000; opacity: 1;\">0.514</text></g><g class=\"mark-rule role-axis-domain\" style=\"pointer-events: none;\"><line transform=\"translate(0,250)\" x2=\"0\" y2=\"-250\" style=\"fill: none; stroke: #888; stroke-width: 1; opacity: 1;\"></line></g><g class=\"mark-text role-axis-title\" style=\"pointer-events: none;\"><text text-anchor=\"middle\" transform=\"translate(-36.0244140625,125) rotate(-90) translate(0,-2)\" style=\"font-family: sans-serif; font-size: 11px; font-weight: bold; fill: #000; opacity: 1;\">Intra Diversity</text></g></g></g></g><g class=\"mark-rect role-mark marks\"><path d=\"M276.1458333333333,212.2830762110461h20.625v37.71692378895389h-20.625Z\" style=\"fill: #e45756;\"></path><path d=\"M299.0625,146.6675544266313h20.625v103.33244557336869h-20.625Z\" style=\"fill: #72b7b2;\"></path><path d=\"M321.9791666666667,94.47664223472484h20.625v155.52335776527516h-20.625Z\" style=\"fill: #54a24b;\"></path><path d=\"M344.8958333333333,125.14289850813627h20.625v124.85710149186373h-20.625Z\" style=\"fill: #eeca3b;\"></path><path d=\"M367.8125,15.120715580055844h20.625v234.87928441994416h-20.625Z\" style=\"fill: #b279a2;\"></path><path d=\"M390.7291666666667,141.8619616090455h20.625v108.1380383909545h-20.625Z\" style=\"fill: #ff9da6;\"></path><path d=\"M413.6458333333333,123.51672615412437h20.625v126.48327384587563h-20.625Z\" style=\"fill: #9d755d;\"></path><path d=\"M436.5625,187.45462430152423h20.625v62.545375698475766h-20.625Z\" style=\"fill: #bab0ac;\"></path><path d=\"M459.4791666666667,146.78764681733742h20.625v103.21235318266258h-20.625Z\" style=\"fill: #4c78a8;\"></path><path d=\"M482.3958333333333,140.75247800733717h20.625v109.24752199266283h-20.625Z\" style=\"fill: #f58518;\"></path><path d=\"M505.3125,137.55859892129223h20.625v112.44140107870777h-20.625Z\" style=\"fill: #e45756;\"></path><path d=\"M528.2291666666667,227.9742181771713h20.625v22.02578182282869h-20.625Z\" style=\"fill: #72b7b2;\"></path><path d=\"M1.1458333333333144,83.23121409524578h20.625v166.76878590475422h-20.625Z\" style=\"fill: #4c78a8;\"></path><path d=\"M24.062499999999982,121.49634492778065h20.625v128.50365507221935h-20.625Z\" style=\"fill: #f58518;\"></path><path d=\"M46.97916666666665,145.28936265502756h20.625v104.71063734497244h-20.625Z\" style=\"fill: #e45756;\"></path><path d=\"M69.89583333333331,154.87696428526465h20.625v95.12303571473535h-20.625Z\" style=\"fill: #72b7b2;\"></path><path d=\"M92.81249999999999,229.51176491650662h20.625v20.48823508349338h-20.625Z\" style=\"fill: #54a24b;\"></path><path d=\"M115.72916666666666,128.22542413335282h20.625v121.77457586664718h-20.625Z\" style=\"fill: #eeca3b;\"></path><path d=\"M138.64583333333331,146.20798116916518h20.625v103.79201883083482h-20.625Z\" style=\"fill: #b279a2;\"></path><path d=\"M161.5625,160.11878248421442h20.625v89.88121751578558h-20.625Z\" style=\"fill: #ff9da6;\"></path><path d=\"M184.47916666666666,128.67797401859926h20.625v121.32202598140074h-20.625Z\" style=\"fill: #9d755d;\"></path><path d=\"M207.39583333333331,144.65582663651654h20.625v105.34417336348346h-20.625Z\" style=\"fill: #bab0ac;\"></path><path d=\"M230.3125,150.6646672981874h20.625v99.3353327018126h-20.625Z\" style=\"fill: #4c78a8;\"></path><path d=\"M253.22916666666666,163.45525222819447h20.625v86.54474777180553h-20.625Z\" style=\"fill: #f58518;\"></path></g><g class=\"mark-group role-legend\"><g transform=\"translate(568,0)\"><path class=\"background\" d=\"M0,0h111v310h-111Z\" style=\"pointer-events: none; fill: none;\"></path><g><g class=\"mark-group role-legend-entry\"><g transform=\"translate(0,0)\"><path class=\"background\" d=\"M0,0h0v0h0Z\" style=\"pointer-events: none; fill: none;\"></path><g><g class=\"mark-group role-scope\"><g transform=\"translate(0,0)\"><path class=\"background\" d=\"M0,0h110.541015625v11h-110.541015625Z\" style=\"pointer-events: none; fill: none; opacity: 1;\"></path><g><g class=\"mark-symbol role-legend-symbol\" style=\"pointer-events: none;\"><path transform=\"translate(6,6)\" d=\"M-5,-5h10v10h-10Z\" style=\"fill: #4c78a8; stroke-width: 1.5; opacity: 1;\"></path></g><g class=\"mark-text role-legend-label\" style=\"pointer-events: none;\"><text text-anchor=\"start\" transform=\"translate(16,9)\" style=\"font-family: sans-serif; font-size: 10px; fill: #000; opacity: 1;\">256_100_0.0001_7.5</text></g></g></g><g transform=\"translate(0,13)\"><path class=\"background\" d=\"M0,0h110.541015625v11h-110.541015625Z\" style=\"pointer-events: none; fill: none; opacity: 1;\"></path><g><g class=\"mark-symbol role-legend-symbol\" style=\"pointer-events: none;\"><path transform=\"translate(6,6)\" d=\"M-5,-5h10v10h-10Z\" style=\"fill: #f58518; stroke-width: 1.5; opacity: 1;\"></path></g><g class=\"mark-text role-legend-label\" style=\"pointer-events: none;\"><text text-anchor=\"start\" transform=\"translate(16,9)\" style=\"font-family: sans-serif; font-size: 10px; fill: #000; opacity: 1;\">256_100_0.0003_7.5</text></g></g></g><g transform=\"translate(0,26)\"><path class=\"background\" d=\"M0,0h110.541015625v11h-110.541015625Z\" style=\"pointer-events: none; fill: none; opacity: 1;\"></path><g><g class=\"mark-symbol role-legend-symbol\" style=\"pointer-events: none;\"><path transform=\"translate(6,6)\" d=\"M-5,-5h10v10h-10Z\" style=\"fill: #e45756; stroke-width: 1.5; opacity: 1;\"></path></g><g class=\"mark-text role-legend-label\" style=\"pointer-events: none;\"><text text-anchor=\"start\" transform=\"translate(16,9)\" style=\"font-family: sans-serif; font-size: 10px; fill: #000; opacity: 1;\">256_100_0.001_7.5</text></g></g></g><g transform=\"translate(0,39)\"><path class=\"background\" d=\"M0,0h110.541015625v11h-110.541015625Z\" style=\"pointer-events: none; fill: none; opacity: 1;\"></path><g><g class=\"mark-symbol role-legend-symbol\" style=\"pointer-events: none;\"><path transform=\"translate(6,6)\" d=\"M-5,-5h10v10h-10Z\" style=\"fill: #72b7b2; stroke-width: 1.5; opacity: 1;\"></path></g><g class=\"mark-text role-legend-label\" style=\"pointer-events: none;\"><text text-anchor=\"start\" transform=\"translate(16,9)\" style=\"font-family: sans-serif; font-size: 10px; fill: #000; opacity: 1;\">256_100_0.003_7.5</text></g></g></g><g transform=\"translate(0,52)\"><path class=\"background\" d=\"M0,0h110.541015625v11h-110.541015625Z\" style=\"pointer-events: none; fill: none; opacity: 1;\"></path><g><g class=\"mark-symbol role-legend-symbol\" style=\"pointer-events: none;\"><path transform=\"translate(6,6)\" d=\"M-5,-5h10v10h-10Z\" style=\"fill: #54a24b; stroke-width: 1.5; opacity: 1;\"></path></g><g class=\"mark-text role-legend-label\" style=\"pointer-events: none;\"><text text-anchor=\"start\" transform=\"translate(16,9)\" style=\"font-family: sans-serif; font-size: 10px; fill: #000; opacity: 1;\">256_200_0.0001_7.5</text></g></g></g><g transform=\"translate(0,65)\"><path class=\"background\" d=\"M0,0h110.541015625v11h-110.541015625Z\" style=\"pointer-events: none; fill: none; opacity: 1;\"></path><g><g class=\"mark-symbol role-legend-symbol\" style=\"pointer-events: none;\"><path transform=\"translate(6,6)\" d=\"M-5,-5h10v10h-10Z\" style=\"fill: #eeca3b; stroke-width: 1.5; opacity: 1;\"></path></g><g class=\"mark-text role-legend-label\" style=\"pointer-events: none;\"><text text-anchor=\"start\" transform=\"translate(16,9)\" style=\"font-family: sans-serif; font-size: 10px; fill: #000; opacity: 1;\">256_200_0.0003_7.5</text></g></g></g><g transform=\"translate(0,78)\"><path class=\"background\" d=\"M0,0h110.541015625v11h-110.541015625Z\" style=\"pointer-events: none; fill: none; opacity: 1;\"></path><g><g class=\"mark-symbol role-legend-symbol\" style=\"pointer-events: none;\"><path transform=\"translate(6,6)\" d=\"M-5,-5h10v10h-10Z\" style=\"fill: #b279a2; stroke-width: 1.5; opacity: 1;\"></path></g><g class=\"mark-text role-legend-label\" style=\"pointer-events: none;\"><text text-anchor=\"start\" transform=\"translate(16,9)\" style=\"font-family: sans-serif; font-size: 10px; fill: #000; opacity: 1;\">256_200_0.001_7.5</text></g></g></g><g transform=\"translate(0,91)\"><path class=\"background\" d=\"M0,0h110.541015625v11h-110.541015625Z\" style=\"pointer-events: none; fill: none; opacity: 1;\"></path><g><g class=\"mark-symbol role-legend-symbol\" style=\"pointer-events: none;\"><path transform=\"translate(6,6)\" d=\"M-5,-5h10v10h-10Z\" style=\"fill: #ff9da6; stroke-width: 1.5; opacity: 1;\"></path></g><g class=\"mark-text role-legend-label\" style=\"pointer-events: none;\"><text text-anchor=\"start\" transform=\"translate(16,9)\" style=\"font-family: sans-serif; font-size: 10px; fill: #000; opacity: 1;\">256_200_0.003_7.5</text></g></g></g><g transform=\"translate(0,104)\"><path class=\"background\" d=\"M0,0h110.541015625v11h-110.541015625Z\" style=\"pointer-events: none; fill: none; opacity: 1;\"></path><g><g class=\"mark-symbol role-legend-symbol\" style=\"pointer-events: none;\"><path transform=\"translate(6,6)\" d=\"M-5,-5h10v10h-10Z\" style=\"fill: #9d755d; stroke-width: 1.5; opacity: 1;\"></path></g><g class=\"mark-text role-legend-label\" style=\"pointer-events: none;\"><text text-anchor=\"start\" transform=\"translate(16,9)\" style=\"font-family: sans-serif; font-size: 10px; fill: #000; opacity: 1;\">256_500_0.0001_7.5</text></g></g></g><g transform=\"translate(0,117)\"><path class=\"background\" d=\"M0,0h110.541015625v11h-110.541015625Z\" style=\"pointer-events: none; fill: none; opacity: 1;\"></path><g><g class=\"mark-symbol role-legend-symbol\" style=\"pointer-events: none;\"><path transform=\"translate(6,6)\" d=\"M-5,-5h10v10h-10Z\" style=\"fill: #bab0ac; stroke-width: 1.5; opacity: 1;\"></path></g><g class=\"mark-text role-legend-label\" style=\"pointer-events: none;\"><text text-anchor=\"start\" transform=\"translate(16,9)\" style=\"font-family: sans-serif; font-size: 10px; fill: #000; opacity: 1;\">256_500_0.0003_7.5</text></g></g></g><g transform=\"translate(0,130)\"><path class=\"background\" d=\"M0,0h110.541015625v11h-110.541015625Z\" style=\"pointer-events: none; fill: none; opacity: 1;\"></path><g><g class=\"mark-symbol role-legend-symbol\" style=\"pointer-events: none;\"><path transform=\"translate(6,6)\" d=\"M-5,-5h10v10h-10Z\" style=\"fill: #4c78a8; stroke-width: 1.5; opacity: 1;\"></path></g><g class=\"mark-text role-legend-label\" style=\"pointer-events: none;\"><text text-anchor=\"start\" transform=\"translate(16,9)\" style=\"font-family: sans-serif; font-size: 10px; fill: #000; opacity: 1;\">256_500_0.001_7.5</text></g></g></g><g transform=\"translate(0,143)\"><path class=\"background\" d=\"M0,0h110.541015625v11h-110.541015625Z\" style=\"pointer-events: none; fill: none; opacity: 1;\"></path><g><g class=\"mark-symbol role-legend-symbol\" style=\"pointer-events: none;\"><path transform=\"translate(6,6)\" d=\"M-5,-5h10v10h-10Z\" style=\"fill: #f58518; stroke-width: 1.5; opacity: 1;\"></path></g><g class=\"mark-text role-legend-label\" style=\"pointer-events: none;\"><text text-anchor=\"start\" transform=\"translate(16,9)\" style=\"font-family: sans-serif; font-size: 10px; fill: #000; opacity: 1;\">256_500_0.003_7.5</text></g></g></g><g transform=\"translate(0,156)\"><path class=\"background\" d=\"M0,0h110.541015625v11h-110.541015625Z\" style=\"pointer-events: none; fill: none; opacity: 1;\"></path><g><g class=\"mark-symbol role-legend-symbol\" style=\"pointer-events: none;\"><path transform=\"translate(6,6)\" d=\"M-5,-5h10v10h-10Z\" style=\"fill: #e45756; stroke-width: 1.5; opacity: 1;\"></path></g><g class=\"mark-text role-legend-label\" style=\"pointer-events: none;\"><text text-anchor=\"start\" transform=\"translate(16,9)\" style=\"font-family: sans-serif; font-size: 10px; fill: #000; opacity: 1;\">64_100_0.0001_7.5</text></g></g></g><g transform=\"translate(0,169)\"><path class=\"background\" d=\"M0,0h110.541015625v11h-110.541015625Z\" style=\"pointer-events: none; fill: none; opacity: 1;\"></path><g><g class=\"mark-symbol role-legend-symbol\" style=\"pointer-events: none;\"><path transform=\"translate(6,6)\" d=\"M-5,-5h10v10h-10Z\" style=\"fill: #72b7b2; stroke-width: 1.5; opacity: 1;\"></path></g><g class=\"mark-text role-legend-label\" style=\"pointer-events: none;\"><text text-anchor=\"start\" transform=\"translate(16,9)\" style=\"font-family: sans-serif; font-size: 10px; fill: #000; opacity: 1;\">64_100_0.0003_7.5</text></g></g></g><g transform=\"translate(0,182)\"><path class=\"background\" d=\"M0,0h110.541015625v11h-110.541015625Z\" style=\"pointer-events: none; fill: none; opacity: 1;\"></path><g><g class=\"mark-symbol role-legend-symbol\" style=\"pointer-events: none;\"><path transform=\"translate(6,6)\" d=\"M-5,-5h10v10h-10Z\" style=\"fill: #54a24b; stroke-width: 1.5; opacity: 1;\"></path></g><g class=\"mark-text role-legend-label\" style=\"pointer-events: none;\"><text text-anchor=\"start\" transform=\"translate(16,9)\" style=\"font-family: sans-serif; font-size: 10px; fill: #000; opacity: 1;\">64_100_0.001_7.5</text></g></g></g><g transform=\"translate(0,195)\"><path class=\"background\" d=\"M0,0h110.541015625v11h-110.541015625Z\" style=\"pointer-events: none; fill: none; opacity: 1;\"></path><g><g class=\"mark-symbol role-legend-symbol\" style=\"pointer-events: none;\"><path transform=\"translate(6,6)\" d=\"M-5,-5h10v10h-10Z\" style=\"fill: #eeca3b; stroke-width: 1.5; opacity: 1;\"></path></g><g class=\"mark-text role-legend-label\" style=\"pointer-events: none;\"><text text-anchor=\"start\" transform=\"translate(16,9)\" style=\"font-family: sans-serif; font-size: 10px; fill: #000; opacity: 1;\">64_100_0.003_7.5</text></g></g></g><g transform=\"translate(0,208)\"><path class=\"background\" d=\"M0,0h110.541015625v11h-110.541015625Z\" style=\"pointer-events: none; fill: none; opacity: 1;\"></path><g><g class=\"mark-symbol role-legend-symbol\" style=\"pointer-events: none;\"><path transform=\"translate(6,6)\" d=\"M-5,-5h10v10h-10Z\" style=\"fill: #b279a2; stroke-width: 1.5; opacity: 1;\"></path></g><g class=\"mark-text role-legend-label\" style=\"pointer-events: none;\"><text text-anchor=\"start\" transform=\"translate(16,9)\" style=\"font-family: sans-serif; font-size: 10px; fill: #000; opacity: 1;\">64_200_0.0001_7.5</text></g></g></g><g transform=\"translate(0,221)\"><path class=\"background\" d=\"M0,0h110.541015625v11h-110.541015625Z\" style=\"pointer-events: none; fill: none; opacity: 1;\"></path><g><g class=\"mark-symbol role-legend-symbol\" style=\"pointer-events: none;\"><path transform=\"translate(6,6)\" d=\"M-5,-5h10v10h-10Z\" style=\"fill: #ff9da6; stroke-width: 1.5; opacity: 1;\"></path></g><g class=\"mark-text role-legend-label\" style=\"pointer-events: none;\"><text text-anchor=\"start\" transform=\"translate(16,9)\" style=\"font-family: sans-serif; font-size: 10px; fill: #000; opacity: 1;\">64_200_0.0003_7.5</text></g></g></g><g transform=\"translate(0,234)\"><path class=\"background\" d=\"M0,0h110.541015625v11h-110.541015625Z\" style=\"pointer-events: none; fill: none; opacity: 1;\"></path><g><g class=\"mark-symbol role-legend-symbol\" style=\"pointer-events: none;\"><path transform=\"translate(6,6)\" d=\"M-5,-5h10v10h-10Z\" style=\"fill: #9d755d; stroke-width: 1.5; opacity: 1;\"></path></g><g class=\"mark-text role-legend-label\" style=\"pointer-events: none;\"><text text-anchor=\"start\" transform=\"translate(16,9)\" style=\"font-family: sans-serif; font-size: 10px; fill: #000; opacity: 1;\">64_200_0.001_7.5</text></g></g></g><g transform=\"translate(0,247)\"><path class=\"background\" d=\"M0,0h110.541015625v11h-110.541015625Z\" style=\"pointer-events: none; fill: none; opacity: 1;\"></path><g><g class=\"mark-symbol role-legend-symbol\" style=\"pointer-events: none;\"><path transform=\"translate(6,6)\" d=\"M-5,-5h10v10h-10Z\" style=\"fill: #bab0ac; stroke-width: 1.5; opacity: 1;\"></path></g><g class=\"mark-text role-legend-label\" style=\"pointer-events: none;\"><text text-anchor=\"start\" transform=\"translate(16,9)\" style=\"font-family: sans-serif; font-size: 10px; fill: #000; opacity: 1;\">64_200_0.003_7.5</text></g></g></g><g transform=\"translate(0,260)\"><path class=\"background\" d=\"M0,0h110.541015625v11h-110.541015625Z\" style=\"pointer-events: none; fill: none; opacity: 1;\"></path><g><g class=\"mark-symbol role-legend-symbol\" style=\"pointer-events: none;\"><path transform=\"translate(6,6)\" d=\"M-5,-5h10v10h-10Z\" style=\"fill: #4c78a8; stroke-width: 1.5; opacity: 1;\"></path></g><g class=\"mark-text role-legend-label\" style=\"pointer-events: none;\"><text text-anchor=\"start\" transform=\"translate(16,9)\" style=\"font-family: sans-serif; font-size: 10px; fill: #000; opacity: 1;\">64_500_0.0001_7.5</text></g></g></g><g transform=\"translate(0,273)\"><path class=\"background\" d=\"M0,0h110.541015625v11h-110.541015625Z\" style=\"pointer-events: none; fill: none; opacity: 1;\"></path><g><g class=\"mark-symbol role-legend-symbol\" style=\"pointer-events: none;\"><path transform=\"translate(6,6)\" d=\"M-5,-5h10v10h-10Z\" style=\"fill: #f58518; stroke-width: 1.5; opacity: 1;\"></path></g><g class=\"mark-text role-legend-label\" style=\"pointer-events: none;\"><text text-anchor=\"start\" transform=\"translate(16,9)\" style=\"font-family: sans-serif; font-size: 10px; fill: #000; opacity: 1;\">64_500_0.0003_7.5</text></g></g></g><g transform=\"translate(0,286)\"><path class=\"background\" d=\"M0,0h110.541015625v11h-110.541015625Z\" style=\"pointer-events: none; fill: none; opacity: 1;\"></path><g><g class=\"mark-symbol role-legend-symbol\" style=\"pointer-events: none;\"><path transform=\"translate(6,6)\" d=\"M-5,-5h10v10h-10Z\" style=\"fill: #e45756; stroke-width: 1.5; opacity: 1;\"></path></g><g class=\"mark-text role-legend-label\" style=\"pointer-events: none;\"><text text-anchor=\"start\" transform=\"translate(16,9)\" style=\"font-family: sans-serif; font-size: 10px; fill: #000; opacity: 1;\">64_500_0.001_7.5</text></g></g></g><g transform=\"translate(0,299)\"><path class=\"background\" d=\"M0,0h110.541015625v11h-110.541015625Z\" style=\"pointer-events: none; fill: none; opacity: 1;\"></path><g><g class=\"mark-symbol role-legend-symbol\" style=\"pointer-events: none;\"><path transform=\"translate(6,6)\" d=\"M-5,-5h10v10h-10Z\" style=\"fill: #72b7b2; stroke-width: 1.5; opacity: 1;\"></path></g><g class=\"mark-text role-legend-label\" style=\"pointer-events: none;\"><text text-anchor=\"start\" transform=\"translate(16,9)\" style=\"font-family: sans-serif; font-size: 10px; fill: #000; opacity: 1;\">64_500_0.003_7.5</text></g></g></g></g></g></g></g></g></g></g></g></g></g></g></svg>"
      ],
      "text/plain": [
       "alt.Chart(...)"
      ]
     },
     "execution_count": 39,
     "metadata": {},
     "output_type": "execute_result"
    }
   ],
   "source": [
    "graph_div"
   ]
  },
  {
   "cell_type": "markdown",
   "metadata": {},
   "source": [
    "Precision"
   ]
  },
  {
   "cell_type": "code",
   "execution_count": 40,
   "metadata": {},
   "outputs": [],
   "source": [
    "wdth = 550\n",
    "heit = 250\n",
    "\n",
    "graph_prec = alt.Chart(df_dqn).mark_bar().encode(\n",
    "    alt.X('Method:N', axis=alt.Axis(title=\"Method\")),\n",
    "    alt.Y('precision', axis=alt.Axis(title=\"Precision\"),scale=alt.Scale(zero=False)),\n",
    "    color=alt.Color('Method',title='')\n",
    ").properties(\n",
    "    width = wdth,\n",
    "    height = heit\n",
    ")"
   ]
  },
  {
   "cell_type": "code",
   "execution_count": 41,
   "metadata": {},
   "outputs": [
    {
     "data": {
      "image/svg+xml": [
       "<svg class=\"marks\" width=\"725\" height=\"382\" viewBox=\"0 0 725 382\" version=\"1.1\" xmlns=\"http://www.w3.org/2000/svg\" xmlns:xlink=\"http://www.w3.org/1999/xlink\"><rect width=\"725\" height=\"382\" style=\"fill: white;\"></rect><g transform=\"translate(41,10)\"><g class=\"mark-group role-frame root\"><g transform=\"translate(0,0)\"><path class=\"background\" d=\"M0.5,0.5h550v250h-550Z\" style=\"fill: none; stroke: #ddd;\"></path><g><g class=\"mark-group role-axis\"><g transform=\"translate(0.5,0.5)\"><path class=\"background\" d=\"M0,0h0v0h0Z\" style=\"pointer-events: none; fill: none;\"></path><g><g class=\"mark-rule role-axis-grid\" style=\"pointer-events: none;\"><line transform=\"translate(0,250)\" x2=\"550\" y2=\"0\" style=\"fill: none; stroke: #ddd; stroke-width: 1; opacity: 1;\"></line><line transform=\"translate(0,222)\" x2=\"550\" y2=\"0\" style=\"fill: none; stroke: #ddd; stroke-width: 1; opacity: 1;\"></line><line transform=\"translate(0,194)\" x2=\"550\" y2=\"0\" style=\"fill: none; stroke: #ddd; stroke-width: 1; opacity: 1;\"></line><line transform=\"translate(0,167)\" x2=\"550\" y2=\"0\" style=\"fill: none; stroke: #ddd; stroke-width: 1; opacity: 1;\"></line><line transform=\"translate(0,139)\" x2=\"550\" y2=\"0\" style=\"fill: none; stroke: #ddd; stroke-width: 1; opacity: 1;\"></line><line transform=\"translate(0,111)\" x2=\"550\" y2=\"0\" style=\"fill: none; stroke: #ddd; stroke-width: 1; opacity: 1;\"></line><line transform=\"translate(0,83)\" x2=\"550\" y2=\"0\" style=\"fill: none; stroke: #ddd; stroke-width: 1; opacity: 1;\"></line><line transform=\"translate(0,56)\" x2=\"550\" y2=\"0\" style=\"fill: none; stroke: #ddd; stroke-width: 1; opacity: 1;\"></line><line transform=\"translate(0,28)\" x2=\"550\" y2=\"0\" style=\"fill: none; stroke: #ddd; stroke-width: 1; opacity: 1;\"></line><line transform=\"translate(0,0)\" x2=\"550\" y2=\"0\" style=\"fill: none; stroke: #ddd; stroke-width: 1; opacity: 1;\"></line></g></g></g></g><g class=\"mark-group role-axis\"><g transform=\"translate(0.5,250.5)\"><path class=\"background\" d=\"M0,0h0v0h0Z\" style=\"pointer-events: none; fill: none;\"></path><g><g class=\"mark-rule role-axis-tick\" style=\"pointer-events: none;\"><line transform=\"translate(10,0)\" x2=\"0\" y2=\"5\" style=\"fill: none; stroke: #888; stroke-width: 1; opacity: 1;\"></line><line transform=\"translate(33,0)\" x2=\"0\" y2=\"5\" style=\"fill: none; stroke: #888; stroke-width: 1; opacity: 1;\"></line><line transform=\"translate(56,0)\" x2=\"0\" y2=\"5\" style=\"fill: none; stroke: #888; stroke-width: 1; opacity: 1;\"></line><line transform=\"translate(79,0)\" x2=\"0\" y2=\"5\" style=\"fill: none; stroke: #888; stroke-width: 1; opacity: 1;\"></line><line transform=\"translate(102,0)\" x2=\"0\" y2=\"5\" style=\"fill: none; stroke: #888; stroke-width: 1; opacity: 1;\"></line><line transform=\"translate(125,0)\" x2=\"0\" y2=\"5\" style=\"fill: none; stroke: #888; stroke-width: 1; opacity: 1;\"></line><line transform=\"translate(148,0)\" x2=\"0\" y2=\"5\" style=\"fill: none; stroke: #888; stroke-width: 1; opacity: 1;\"></line><line transform=\"translate(171,0)\" x2=\"0\" y2=\"5\" style=\"fill: none; stroke: #888; stroke-width: 1; opacity: 1;\"></line><line transform=\"translate(194,0)\" x2=\"0\" y2=\"5\" style=\"fill: none; stroke: #888; stroke-width: 1; opacity: 1;\"></line><line transform=\"translate(217,0)\" x2=\"0\" y2=\"5\" style=\"fill: none; stroke: #888; stroke-width: 1; opacity: 1;\"></line><line transform=\"translate(240,0)\" x2=\"0\" y2=\"5\" style=\"fill: none; stroke: #888; stroke-width: 1; opacity: 1;\"></line><line transform=\"translate(263,0)\" x2=\"0\" y2=\"5\" style=\"fill: none; stroke: #888; stroke-width: 1; opacity: 1;\"></line><line transform=\"translate(285,0)\" x2=\"0\" y2=\"5\" style=\"fill: none; stroke: #888; stroke-width: 1; opacity: 1;\"></line><line transform=\"translate(308,0)\" x2=\"0\" y2=\"5\" style=\"fill: none; stroke: #888; stroke-width: 1; opacity: 1;\"></line><line transform=\"translate(331,0)\" x2=\"0\" y2=\"5\" style=\"fill: none; stroke: #888; stroke-width: 1; opacity: 1;\"></line><line transform=\"translate(354,0)\" x2=\"0\" y2=\"5\" style=\"fill: none; stroke: #888; stroke-width: 1; opacity: 1;\"></line><line transform=\"translate(377,0)\" x2=\"0\" y2=\"5\" style=\"fill: none; stroke: #888; stroke-width: 1; opacity: 1;\"></line><line transform=\"translate(400,0)\" x2=\"0\" y2=\"5\" style=\"fill: none; stroke: #888; stroke-width: 1; opacity: 1;\"></line><line transform=\"translate(423,0)\" x2=\"0\" y2=\"5\" style=\"fill: none; stroke: #888; stroke-width: 1; opacity: 1;\"></line><line transform=\"translate(446,0)\" x2=\"0\" y2=\"5\" style=\"fill: none; stroke: #888; stroke-width: 1; opacity: 1;\"></line><line transform=\"translate(469,0)\" x2=\"0\" y2=\"5\" style=\"fill: none; stroke: #888; stroke-width: 1; opacity: 1;\"></line><line transform=\"translate(492,0)\" x2=\"0\" y2=\"5\" style=\"fill: none; stroke: #888; stroke-width: 1; opacity: 1;\"></line><line transform=\"translate(515,0)\" x2=\"0\" y2=\"5\" style=\"fill: none; stroke: #888; stroke-width: 1; opacity: 1;\"></line><line transform=\"translate(538,0)\" x2=\"0\" y2=\"5\" style=\"fill: none; stroke: #888; stroke-width: 1; opacity: 1;\"></line></g><g class=\"mark-text role-axis-label\" style=\"pointer-events: none;\"><text text-anchor=\"end\" transform=\"translate(10.458333333333314,7) rotate(270) translate(0,3)\" style=\"font-family: sans-serif; font-size: 10px; fill: #000; opacity: 1;\">256_100_0.0001_7.5</text><text text-anchor=\"end\" transform=\"translate(33.374999999999986,7) rotate(270) translate(0,3)\" style=\"font-family: sans-serif; font-size: 10px; fill: #000; opacity: 1;\">256_100_0.0003_7.5</text><text text-anchor=\"end\" transform=\"translate(56.29166666666665,7) rotate(270) translate(0,3)\" style=\"font-family: sans-serif; font-size: 10px; fill: #000; opacity: 1;\">256_100_0.001_7.5</text><text text-anchor=\"end\" transform=\"translate(79.20833333333331,7) rotate(270) translate(0,3)\" style=\"font-family: sans-serif; font-size: 10px; fill: #000; opacity: 1;\">256_100_0.003_7.5</text><text text-anchor=\"end\" transform=\"translate(102.12499999999999,7) rotate(270) translate(0,3)\" style=\"font-family: sans-serif; font-size: 10px; fill: #000; opacity: 1;\">256_200_0.0001_7.5</text><text text-anchor=\"end\" transform=\"translate(125.04166666666666,7) rotate(270) translate(0,3)\" style=\"font-family: sans-serif; font-size: 10px; fill: #000; opacity: 1;\">256_200_0.0003_7.5</text><text text-anchor=\"end\" transform=\"translate(147.95833333333331,7) rotate(270) translate(0,3)\" style=\"font-family: sans-serif; font-size: 10px; fill: #000; opacity: 1;\">256_200_0.001_7.5</text><text text-anchor=\"end\" transform=\"translate(170.875,7) rotate(270) translate(0,3)\" style=\"font-family: sans-serif; font-size: 10px; fill: #000; opacity: 1;\">256_200_0.003_7.5</text><text text-anchor=\"end\" transform=\"translate(193.79166666666666,7) rotate(270) translate(0,3)\" style=\"font-family: sans-serif; font-size: 10px; fill: #000; opacity: 1;\">256_500_0.0001_7.5</text><text text-anchor=\"end\" transform=\"translate(216.70833333333331,7) rotate(270) translate(0,3)\" style=\"font-family: sans-serif; font-size: 10px; fill: #000; opacity: 1;\">256_500_0.0003_7.5</text><text text-anchor=\"end\" transform=\"translate(239.625,7) rotate(270) translate(0,3)\" style=\"font-family: sans-serif; font-size: 10px; fill: #000; opacity: 1;\">256_500_0.001_7.5</text><text text-anchor=\"end\" transform=\"translate(262.54166666666663,7) rotate(270) translate(0,3)\" style=\"font-family: sans-serif; font-size: 10px; fill: #000; opacity: 1;\">256_500_0.003_7.5</text><text text-anchor=\"end\" transform=\"translate(285.4583333333333,7) rotate(270) translate(0,3)\" style=\"font-family: sans-serif; font-size: 10px; fill: #000; opacity: 1;\">64_100_0.0001_7.5</text><text text-anchor=\"end\" transform=\"translate(308.375,7) rotate(270) translate(0,3)\" style=\"font-family: sans-serif; font-size: 10px; fill: #000; opacity: 1;\">64_100_0.0003_7.5</text><text text-anchor=\"end\" transform=\"translate(331.2916666666667,7) rotate(270) translate(0,3)\" style=\"font-family: sans-serif; font-size: 10px; fill: #000; opacity: 1;\">64_100_0.001_7.5</text><text text-anchor=\"end\" transform=\"translate(354.2083333333333,7) rotate(270) translate(0,3)\" style=\"font-family: sans-serif; font-size: 10px; fill: #000; opacity: 1;\">64_100_0.003_7.5</text><text text-anchor=\"end\" transform=\"translate(377.125,7) rotate(270) translate(0,3)\" style=\"font-family: sans-serif; font-size: 10px; fill: #000; opacity: 1;\">64_200_0.0001_7.5</text><text text-anchor=\"end\" transform=\"translate(400.0416666666667,7) rotate(270) translate(0,3)\" style=\"font-family: sans-serif; font-size: 10px; fill: #000; opacity: 1;\">64_200_0.0003_7.5</text><text text-anchor=\"end\" transform=\"translate(422.9583333333333,7) rotate(270) translate(0,3)\" style=\"font-family: sans-serif; font-size: 10px; fill: #000; opacity: 1;\">64_200_0.001_7.5</text><text text-anchor=\"end\" transform=\"translate(445.875,7) rotate(270) translate(0,3)\" style=\"font-family: sans-serif; font-size: 10px; fill: #000; opacity: 1;\">64_200_0.003_7.5</text><text text-anchor=\"end\" transform=\"translate(468.7916666666667,7) rotate(270) translate(0,3)\" style=\"font-family: sans-serif; font-size: 10px; fill: #000; opacity: 1;\">64_500_0.0001_7.5</text><text text-anchor=\"end\" transform=\"translate(491.7083333333333,7) rotate(270) translate(0,3)\" style=\"font-family: sans-serif; font-size: 10px; fill: #000; opacity: 1;\">64_500_0.0003_7.5</text><text text-anchor=\"end\" transform=\"translate(514.625,7) rotate(270) translate(0,3)\" style=\"font-family: sans-serif; font-size: 10px; fill: #000; opacity: 1;\">64_500_0.001_7.5</text><text text-anchor=\"end\" transform=\"translate(537.5416666666667,7) rotate(270) translate(0,3)\" style=\"font-family: sans-serif; font-size: 10px; fill: #000; opacity: 1;\">64_500_0.003_7.5</text></g><g class=\"mark-rule role-axis-domain\" style=\"pointer-events: none;\"><line transform=\"translate(0,0)\" x2=\"550\" y2=\"0\" style=\"fill: none; stroke: #888; stroke-width: 1; opacity: 1;\"></line></g><g class=\"mark-text role-axis-title\" style=\"pointer-events: none;\"><text text-anchor=\"middle\" transform=\"translate(275,114.541015625)\" style=\"font-family: sans-serif; font-size: 11px; font-weight: bold; fill: #000; opacity: 1;\">Method</text></g></g></g></g><g class=\"mark-group role-axis\"><g transform=\"translate(0.5,0.5)\"><path class=\"background\" d=\"M0,0h0v0h0Z\" style=\"pointer-events: none; fill: none;\"></path><g><g class=\"mark-rule role-axis-tick\" style=\"pointer-events: none;\"><line transform=\"translate(0,250)\" x2=\"-5\" y2=\"0\" style=\"fill: none; stroke: #888; stroke-width: 1; opacity: 1;\"></line><line transform=\"translate(0,222)\" x2=\"-5\" y2=\"0\" style=\"fill: none; stroke: #888; stroke-width: 1; opacity: 1;\"></line><line transform=\"translate(0,194)\" x2=\"-5\" y2=\"0\" style=\"fill: none; stroke: #888; stroke-width: 1; opacity: 1;\"></line><line transform=\"translate(0,167)\" x2=\"-5\" y2=\"0\" style=\"fill: none; stroke: #888; stroke-width: 1; opacity: 1;\"></line><line transform=\"translate(0,139)\" x2=\"-5\" y2=\"0\" style=\"fill: none; stroke: #888; stroke-width: 1; opacity: 1;\"></line><line transform=\"translate(0,111)\" x2=\"-5\" y2=\"0\" style=\"fill: none; stroke: #888; stroke-width: 1; opacity: 1;\"></line><line transform=\"translate(0,83)\" x2=\"-5\" y2=\"0\" style=\"fill: none; stroke: #888; stroke-width: 1; opacity: 1;\"></line><line transform=\"translate(0,56)\" x2=\"-5\" y2=\"0\" style=\"fill: none; stroke: #888; stroke-width: 1; opacity: 1;\"></line><line transform=\"translate(0,28)\" x2=\"-5\" y2=\"0\" style=\"fill: none; stroke: #888; stroke-width: 1; opacity: 1;\"></line><line transform=\"translate(0,0)\" x2=\"-5\" y2=\"0\" style=\"fill: none; stroke: #888; stroke-width: 1; opacity: 1;\"></line></g><g class=\"mark-text role-axis-label\" style=\"pointer-events: none;\"><text text-anchor=\"end\" transform=\"translate(-7,253)\" style=\"font-family: sans-serif; font-size: 10px; fill: #000; opacity: 1;\">1.0</text><text text-anchor=\"end\" transform=\"translate(-7,225.22222222222223)\" style=\"font-family: sans-serif; font-size: 10px; fill: #000; opacity: 1;\">1.2</text><text text-anchor=\"end\" transform=\"translate(-7,197.44444444444446)\" style=\"font-family: sans-serif; font-size: 10px; fill: #000; opacity: 1;\">1.4</text><text text-anchor=\"end\" transform=\"translate(-7,169.66666666666663)\" style=\"font-family: sans-serif; font-size: 10px; fill: #000; opacity: 1;\">1.6</text><text text-anchor=\"end\" transform=\"translate(-7,141.88888888888886)\" style=\"font-family: sans-serif; font-size: 10px; fill: #000; opacity: 1;\">1.8</text><text text-anchor=\"end\" transform=\"translate(-7,114.11111111111111)\" style=\"font-family: sans-serif; font-size: 10px; fill: #000; opacity: 1;\">2.0</text><text text-anchor=\"end\" transform=\"translate(-7,86.33333333333329)\" style=\"font-family: sans-serif; font-size: 10px; fill: #000; opacity: 1;\">2.2</text><text text-anchor=\"end\" transform=\"translate(-7,58.55555555555554)\" style=\"font-family: sans-serif; font-size: 10px; fill: #000; opacity: 1;\">2.4</text><text text-anchor=\"end\" transform=\"translate(-7,30.777777777777743)\" style=\"font-family: sans-serif; font-size: 10px; fill: #000; opacity: 1;\">2.6</text><text text-anchor=\"end\" transform=\"translate(-7,3)\" style=\"font-family: sans-serif; font-size: 10px; fill: #000; opacity: 1;\">2.8</text></g><g class=\"mark-rule role-axis-domain\" style=\"pointer-events: none;\"><line transform=\"translate(0,250)\" x2=\"0\" y2=\"-250\" style=\"fill: none; stroke: #888; stroke-width: 1; opacity: 1;\"></line></g><g class=\"mark-text role-axis-title\" style=\"pointer-events: none;\"><text text-anchor=\"middle\" transform=\"translate(-24.9013671875,125) rotate(-90) translate(0,-2)\" style=\"font-family: sans-serif; font-size: 11px; font-weight: bold; fill: #000; opacity: 1;\">Precision</text></g></g></g></g><g class=\"mark-rect role-mark marks\"><path d=\"M276.1458333333333,203.01441596079792h20.625v46.98558403920208h-20.625Z\" style=\"fill: #e45756;\"></path><path d=\"M299.0625,219.57286963444156h20.625v30.42713036555844h-20.625Z\" style=\"fill: #72b7b2;\"></path><path d=\"M321.9791666666667,178.52656193639444h20.625v71.47343806360556h-20.625Z\" style=\"fill: #54a24b;\"></path><path d=\"M344.8958333333333,136.08094829409652h20.625v113.91905170590348h-20.625Z\" style=\"fill: #eeca3b;\"></path><path d=\"M367.8125,242.03950396159206h20.625v7.960496038407939h-20.625Z\" style=\"fill: #b279a2;\"></path><path d=\"M390.7291666666667,177.04951677301813h20.625v72.95048322698187h-20.625Z\" style=\"fill: #ff9da6;\"></path><path d=\"M413.6458333333333,99.3102976479297h20.625v150.6897023520703h-20.625Z\" style=\"fill: #9d755d;\"></path><path d=\"M436.5625,116.02422975982375h20.625v133.97577024017625h-20.625Z\" style=\"fill: #bab0ac;\"></path><path d=\"M459.4791666666667,212.2653830366835h20.625v37.73461696331651h-20.625Z\" style=\"fill: #4c78a8;\"></path><path d=\"M482.3958333333333,204.02502580942382h20.625v45.97497419057618h-20.625Z\" style=\"fill: #f58518;\"></path><path d=\"M505.3125,21.337860865462915h20.625v228.66213913453709h-20.625Z\" style=\"fill: #e45756;\"></path><path d=\"M528.2291666666667,160.95749841412461h20.625v89.04250158587539h-20.625Z\" style=\"fill: #72b7b2;\"></path><path d=\"M1.1458333333333144,184.9011779046519h20.625v65.09882209534811h-20.625Z\" style=\"fill: #4c78a8;\"></path><path d=\"M24.062499999999982,187.0778760401547h20.625v62.922123959845294h-20.625Z\" style=\"fill: #f58518;\"></path><path d=\"M46.97916666666665,141.4449544137275h20.625v108.55504558627251h-20.625Z\" style=\"fill: #e45756;\"></path><path d=\"M69.89583333333331,181.09195616752282h20.625v68.90804383247718h-20.625Z\" style=\"fill: #72b7b2;\"></path><path d=\"M92.81249999999999,193.60797044666168h20.625v56.39202955333832h-20.625Z\" style=\"fill: #54a24b;\"></path><path d=\"M115.72916666666666,165.77732999988046h20.625v84.22267000011954h-20.625Z\" style=\"fill: #eeca3b;\"></path><path d=\"M138.64583333333331,155.43801385624388h20.625v94.56198614375612h-20.625Z\" style=\"fill: #b279a2;\"></path><path d=\"M161.5625,101.02056046868171h20.625v148.9794395313183h-20.625Z\" style=\"fill: #ff9da6;\"></path><path d=\"M184.47916666666666,195.78466858216441h20.625v54.215331417835586h-20.625Z\" style=\"fill: #9d755d;\"></path><path d=\"M207.39583333333331,163.0564573305022h20.625v86.94354266949779h-20.625Z\" style=\"fill: #bab0ac;\"></path><path d=\"M230.3125,105.37395673968672h20.625v144.62604326031328h-20.625Z\" style=\"fill: #4c78a8;\"></path><path d=\"M253.22916666666666,16.362550841450144h20.625v233.63744915854986h-20.625Z\" style=\"fill: #f58518;\"></path></g><g class=\"mark-group role-legend\"><g transform=\"translate(568,0)\"><path class=\"background\" d=\"M0,0h111v310h-111Z\" style=\"pointer-events: none; fill: none;\"></path><g><g class=\"mark-group role-legend-entry\"><g transform=\"translate(0,0)\"><path class=\"background\" d=\"M0,0h0v0h0Z\" style=\"pointer-events: none; fill: none;\"></path><g><g class=\"mark-group role-scope\"><g transform=\"translate(0,0)\"><path class=\"background\" d=\"M0,0h110.541015625v11h-110.541015625Z\" style=\"pointer-events: none; fill: none; opacity: 1;\"></path><g><g class=\"mark-symbol role-legend-symbol\" style=\"pointer-events: none;\"><path transform=\"translate(6,6)\" d=\"M-5,-5h10v10h-10Z\" style=\"fill: #4c78a8; stroke-width: 1.5; opacity: 1;\"></path></g><g class=\"mark-text role-legend-label\" style=\"pointer-events: none;\"><text text-anchor=\"start\" transform=\"translate(16,9)\" style=\"font-family: sans-serif; font-size: 10px; fill: #000; opacity: 1;\">256_100_0.0001_7.5</text></g></g></g><g transform=\"translate(0,13)\"><path class=\"background\" d=\"M0,0h110.541015625v11h-110.541015625Z\" style=\"pointer-events: none; fill: none; opacity: 1;\"></path><g><g class=\"mark-symbol role-legend-symbol\" style=\"pointer-events: none;\"><path transform=\"translate(6,6)\" d=\"M-5,-5h10v10h-10Z\" style=\"fill: #f58518; stroke-width: 1.5; opacity: 1;\"></path></g><g class=\"mark-text role-legend-label\" style=\"pointer-events: none;\"><text text-anchor=\"start\" transform=\"translate(16,9)\" style=\"font-family: sans-serif; font-size: 10px; fill: #000; opacity: 1;\">256_100_0.0003_7.5</text></g></g></g><g transform=\"translate(0,26)\"><path class=\"background\" d=\"M0,0h110.541015625v11h-110.541015625Z\" style=\"pointer-events: none; fill: none; opacity: 1;\"></path><g><g class=\"mark-symbol role-legend-symbol\" style=\"pointer-events: none;\"><path transform=\"translate(6,6)\" d=\"M-5,-5h10v10h-10Z\" style=\"fill: #e45756; stroke-width: 1.5; opacity: 1;\"></path></g><g class=\"mark-text role-legend-label\" style=\"pointer-events: none;\"><text text-anchor=\"start\" transform=\"translate(16,9)\" style=\"font-family: sans-serif; font-size: 10px; fill: #000; opacity: 1;\">256_100_0.001_7.5</text></g></g></g><g transform=\"translate(0,39)\"><path class=\"background\" d=\"M0,0h110.541015625v11h-110.541015625Z\" style=\"pointer-events: none; fill: none; opacity: 1;\"></path><g><g class=\"mark-symbol role-legend-symbol\" style=\"pointer-events: none;\"><path transform=\"translate(6,6)\" d=\"M-5,-5h10v10h-10Z\" style=\"fill: #72b7b2; stroke-width: 1.5; opacity: 1;\"></path></g><g class=\"mark-text role-legend-label\" style=\"pointer-events: none;\"><text text-anchor=\"start\" transform=\"translate(16,9)\" style=\"font-family: sans-serif; font-size: 10px; fill: #000; opacity: 1;\">256_100_0.003_7.5</text></g></g></g><g transform=\"translate(0,52)\"><path class=\"background\" d=\"M0,0h110.541015625v11h-110.541015625Z\" style=\"pointer-events: none; fill: none; opacity: 1;\"></path><g><g class=\"mark-symbol role-legend-symbol\" style=\"pointer-events: none;\"><path transform=\"translate(6,6)\" d=\"M-5,-5h10v10h-10Z\" style=\"fill: #54a24b; stroke-width: 1.5; opacity: 1;\"></path></g><g class=\"mark-text role-legend-label\" style=\"pointer-events: none;\"><text text-anchor=\"start\" transform=\"translate(16,9)\" style=\"font-family: sans-serif; font-size: 10px; fill: #000; opacity: 1;\">256_200_0.0001_7.5</text></g></g></g><g transform=\"translate(0,65)\"><path class=\"background\" d=\"M0,0h110.541015625v11h-110.541015625Z\" style=\"pointer-events: none; fill: none; opacity: 1;\"></path><g><g class=\"mark-symbol role-legend-symbol\" style=\"pointer-events: none;\"><path transform=\"translate(6,6)\" d=\"M-5,-5h10v10h-10Z\" style=\"fill: #eeca3b; stroke-width: 1.5; opacity: 1;\"></path></g><g class=\"mark-text role-legend-label\" style=\"pointer-events: none;\"><text text-anchor=\"start\" transform=\"translate(16,9)\" style=\"font-family: sans-serif; font-size: 10px; fill: #000; opacity: 1;\">256_200_0.0003_7.5</text></g></g></g><g transform=\"translate(0,78)\"><path class=\"background\" d=\"M0,0h110.541015625v11h-110.541015625Z\" style=\"pointer-events: none; fill: none; opacity: 1;\"></path><g><g class=\"mark-symbol role-legend-symbol\" style=\"pointer-events: none;\"><path transform=\"translate(6,6)\" d=\"M-5,-5h10v10h-10Z\" style=\"fill: #b279a2; stroke-width: 1.5; opacity: 1;\"></path></g><g class=\"mark-text role-legend-label\" style=\"pointer-events: none;\"><text text-anchor=\"start\" transform=\"translate(16,9)\" style=\"font-family: sans-serif; font-size: 10px; fill: #000; opacity: 1;\">256_200_0.001_7.5</text></g></g></g><g transform=\"translate(0,91)\"><path class=\"background\" d=\"M0,0h110.541015625v11h-110.541015625Z\" style=\"pointer-events: none; fill: none; opacity: 1;\"></path><g><g class=\"mark-symbol role-legend-symbol\" style=\"pointer-events: none;\"><path transform=\"translate(6,6)\" d=\"M-5,-5h10v10h-10Z\" style=\"fill: #ff9da6; stroke-width: 1.5; opacity: 1;\"></path></g><g class=\"mark-text role-legend-label\" style=\"pointer-events: none;\"><text text-anchor=\"start\" transform=\"translate(16,9)\" style=\"font-family: sans-serif; font-size: 10px; fill: #000; opacity: 1;\">256_200_0.003_7.5</text></g></g></g><g transform=\"translate(0,104)\"><path class=\"background\" d=\"M0,0h110.541015625v11h-110.541015625Z\" style=\"pointer-events: none; fill: none; opacity: 1;\"></path><g><g class=\"mark-symbol role-legend-symbol\" style=\"pointer-events: none;\"><path transform=\"translate(6,6)\" d=\"M-5,-5h10v10h-10Z\" style=\"fill: #9d755d; stroke-width: 1.5; opacity: 1;\"></path></g><g class=\"mark-text role-legend-label\" style=\"pointer-events: none;\"><text text-anchor=\"start\" transform=\"translate(16,9)\" style=\"font-family: sans-serif; font-size: 10px; fill: #000; opacity: 1;\">256_500_0.0001_7.5</text></g></g></g><g transform=\"translate(0,117)\"><path class=\"background\" d=\"M0,0h110.541015625v11h-110.541015625Z\" style=\"pointer-events: none; fill: none; opacity: 1;\"></path><g><g class=\"mark-symbol role-legend-symbol\" style=\"pointer-events: none;\"><path transform=\"translate(6,6)\" d=\"M-5,-5h10v10h-10Z\" style=\"fill: #bab0ac; stroke-width: 1.5; opacity: 1;\"></path></g><g class=\"mark-text role-legend-label\" style=\"pointer-events: none;\"><text text-anchor=\"start\" transform=\"translate(16,9)\" style=\"font-family: sans-serif; font-size: 10px; fill: #000; opacity: 1;\">256_500_0.0003_7.5</text></g></g></g><g transform=\"translate(0,130)\"><path class=\"background\" d=\"M0,0h110.541015625v11h-110.541015625Z\" style=\"pointer-events: none; fill: none; opacity: 1;\"></path><g><g class=\"mark-symbol role-legend-symbol\" style=\"pointer-events: none;\"><path transform=\"translate(6,6)\" d=\"M-5,-5h10v10h-10Z\" style=\"fill: #4c78a8; stroke-width: 1.5; opacity: 1;\"></path></g><g class=\"mark-text role-legend-label\" style=\"pointer-events: none;\"><text text-anchor=\"start\" transform=\"translate(16,9)\" style=\"font-family: sans-serif; font-size: 10px; fill: #000; opacity: 1;\">256_500_0.001_7.5</text></g></g></g><g transform=\"translate(0,143)\"><path class=\"background\" d=\"M0,0h110.541015625v11h-110.541015625Z\" style=\"pointer-events: none; fill: none; opacity: 1;\"></path><g><g class=\"mark-symbol role-legend-symbol\" style=\"pointer-events: none;\"><path transform=\"translate(6,6)\" d=\"M-5,-5h10v10h-10Z\" style=\"fill: #f58518; stroke-width: 1.5; opacity: 1;\"></path></g><g class=\"mark-text role-legend-label\" style=\"pointer-events: none;\"><text text-anchor=\"start\" transform=\"translate(16,9)\" style=\"font-family: sans-serif; font-size: 10px; fill: #000; opacity: 1;\">256_500_0.003_7.5</text></g></g></g><g transform=\"translate(0,156)\"><path class=\"background\" d=\"M0,0h110.541015625v11h-110.541015625Z\" style=\"pointer-events: none; fill: none; opacity: 1;\"></path><g><g class=\"mark-symbol role-legend-symbol\" style=\"pointer-events: none;\"><path transform=\"translate(6,6)\" d=\"M-5,-5h10v10h-10Z\" style=\"fill: #e45756; stroke-width: 1.5; opacity: 1;\"></path></g><g class=\"mark-text role-legend-label\" style=\"pointer-events: none;\"><text text-anchor=\"start\" transform=\"translate(16,9)\" style=\"font-family: sans-serif; font-size: 10px; fill: #000; opacity: 1;\">64_100_0.0001_7.5</text></g></g></g><g transform=\"translate(0,169)\"><path class=\"background\" d=\"M0,0h110.541015625v11h-110.541015625Z\" style=\"pointer-events: none; fill: none; opacity: 1;\"></path><g><g class=\"mark-symbol role-legend-symbol\" style=\"pointer-events: none;\"><path transform=\"translate(6,6)\" d=\"M-5,-5h10v10h-10Z\" style=\"fill: #72b7b2; stroke-width: 1.5; opacity: 1;\"></path></g><g class=\"mark-text role-legend-label\" style=\"pointer-events: none;\"><text text-anchor=\"start\" transform=\"translate(16,9)\" style=\"font-family: sans-serif; font-size: 10px; fill: #000; opacity: 1;\">64_100_0.0003_7.5</text></g></g></g><g transform=\"translate(0,182)\"><path class=\"background\" d=\"M0,0h110.541015625v11h-110.541015625Z\" style=\"pointer-events: none; fill: none; opacity: 1;\"></path><g><g class=\"mark-symbol role-legend-symbol\" style=\"pointer-events: none;\"><path transform=\"translate(6,6)\" d=\"M-5,-5h10v10h-10Z\" style=\"fill: #54a24b; stroke-width: 1.5; opacity: 1;\"></path></g><g class=\"mark-text role-legend-label\" style=\"pointer-events: none;\"><text text-anchor=\"start\" transform=\"translate(16,9)\" style=\"font-family: sans-serif; font-size: 10px; fill: #000; opacity: 1;\">64_100_0.001_7.5</text></g></g></g><g transform=\"translate(0,195)\"><path class=\"background\" d=\"M0,0h110.541015625v11h-110.541015625Z\" style=\"pointer-events: none; fill: none; opacity: 1;\"></path><g><g class=\"mark-symbol role-legend-symbol\" style=\"pointer-events: none;\"><path transform=\"translate(6,6)\" d=\"M-5,-5h10v10h-10Z\" style=\"fill: #eeca3b; stroke-width: 1.5; opacity: 1;\"></path></g><g class=\"mark-text role-legend-label\" style=\"pointer-events: none;\"><text text-anchor=\"start\" transform=\"translate(16,9)\" style=\"font-family: sans-serif; font-size: 10px; fill: #000; opacity: 1;\">64_100_0.003_7.5</text></g></g></g><g transform=\"translate(0,208)\"><path class=\"background\" d=\"M0,0h110.541015625v11h-110.541015625Z\" style=\"pointer-events: none; fill: none; opacity: 1;\"></path><g><g class=\"mark-symbol role-legend-symbol\" style=\"pointer-events: none;\"><path transform=\"translate(6,6)\" d=\"M-5,-5h10v10h-10Z\" style=\"fill: #b279a2; stroke-width: 1.5; opacity: 1;\"></path></g><g class=\"mark-text role-legend-label\" style=\"pointer-events: none;\"><text text-anchor=\"start\" transform=\"translate(16,9)\" style=\"font-family: sans-serif; font-size: 10px; fill: #000; opacity: 1;\">64_200_0.0001_7.5</text></g></g></g><g transform=\"translate(0,221)\"><path class=\"background\" d=\"M0,0h110.541015625v11h-110.541015625Z\" style=\"pointer-events: none; fill: none; opacity: 1;\"></path><g><g class=\"mark-symbol role-legend-symbol\" style=\"pointer-events: none;\"><path transform=\"translate(6,6)\" d=\"M-5,-5h10v10h-10Z\" style=\"fill: #ff9da6; stroke-width: 1.5; opacity: 1;\"></path></g><g class=\"mark-text role-legend-label\" style=\"pointer-events: none;\"><text text-anchor=\"start\" transform=\"translate(16,9)\" style=\"font-family: sans-serif; font-size: 10px; fill: #000; opacity: 1;\">64_200_0.0003_7.5</text></g></g></g><g transform=\"translate(0,234)\"><path class=\"background\" d=\"M0,0h110.541015625v11h-110.541015625Z\" style=\"pointer-events: none; fill: none; opacity: 1;\"></path><g><g class=\"mark-symbol role-legend-symbol\" style=\"pointer-events: none;\"><path transform=\"translate(6,6)\" d=\"M-5,-5h10v10h-10Z\" style=\"fill: #9d755d; stroke-width: 1.5; opacity: 1;\"></path></g><g class=\"mark-text role-legend-label\" style=\"pointer-events: none;\"><text text-anchor=\"start\" transform=\"translate(16,9)\" style=\"font-family: sans-serif; font-size: 10px; fill: #000; opacity: 1;\">64_200_0.001_7.5</text></g></g></g><g transform=\"translate(0,247)\"><path class=\"background\" d=\"M0,0h110.541015625v11h-110.541015625Z\" style=\"pointer-events: none; fill: none; opacity: 1;\"></path><g><g class=\"mark-symbol role-legend-symbol\" style=\"pointer-events: none;\"><path transform=\"translate(6,6)\" d=\"M-5,-5h10v10h-10Z\" style=\"fill: #bab0ac; stroke-width: 1.5; opacity: 1;\"></path></g><g class=\"mark-text role-legend-label\" style=\"pointer-events: none;\"><text text-anchor=\"start\" transform=\"translate(16,9)\" style=\"font-family: sans-serif; font-size: 10px; fill: #000; opacity: 1;\">64_200_0.003_7.5</text></g></g></g><g transform=\"translate(0,260)\"><path class=\"background\" d=\"M0,0h110.541015625v11h-110.541015625Z\" style=\"pointer-events: none; fill: none; opacity: 1;\"></path><g><g class=\"mark-symbol role-legend-symbol\" style=\"pointer-events: none;\"><path transform=\"translate(6,6)\" d=\"M-5,-5h10v10h-10Z\" style=\"fill: #4c78a8; stroke-width: 1.5; opacity: 1;\"></path></g><g class=\"mark-text role-legend-label\" style=\"pointer-events: none;\"><text text-anchor=\"start\" transform=\"translate(16,9)\" style=\"font-family: sans-serif; font-size: 10px; fill: #000; opacity: 1;\">64_500_0.0001_7.5</text></g></g></g><g transform=\"translate(0,273)\"><path class=\"background\" d=\"M0,0h110.541015625v11h-110.541015625Z\" style=\"pointer-events: none; fill: none; opacity: 1;\"></path><g><g class=\"mark-symbol role-legend-symbol\" style=\"pointer-events: none;\"><path transform=\"translate(6,6)\" d=\"M-5,-5h10v10h-10Z\" style=\"fill: #f58518; stroke-width: 1.5; opacity: 1;\"></path></g><g class=\"mark-text role-legend-label\" style=\"pointer-events: none;\"><text text-anchor=\"start\" transform=\"translate(16,9)\" style=\"font-family: sans-serif; font-size: 10px; fill: #000; opacity: 1;\">64_500_0.0003_7.5</text></g></g></g><g transform=\"translate(0,286)\"><path class=\"background\" d=\"M0,0h110.541015625v11h-110.541015625Z\" style=\"pointer-events: none; fill: none; opacity: 1;\"></path><g><g class=\"mark-symbol role-legend-symbol\" style=\"pointer-events: none;\"><path transform=\"translate(6,6)\" d=\"M-5,-5h10v10h-10Z\" style=\"fill: #e45756; stroke-width: 1.5; opacity: 1;\"></path></g><g class=\"mark-text role-legend-label\" style=\"pointer-events: none;\"><text text-anchor=\"start\" transform=\"translate(16,9)\" style=\"font-family: sans-serif; font-size: 10px; fill: #000; opacity: 1;\">64_500_0.001_7.5</text></g></g></g><g transform=\"translate(0,299)\"><path class=\"background\" d=\"M0,0h110.541015625v11h-110.541015625Z\" style=\"pointer-events: none; fill: none; opacity: 1;\"></path><g><g class=\"mark-symbol role-legend-symbol\" style=\"pointer-events: none;\"><path transform=\"translate(6,6)\" d=\"M-5,-5h10v10h-10Z\" style=\"fill: #72b7b2; stroke-width: 1.5; opacity: 1;\"></path></g><g class=\"mark-text role-legend-label\" style=\"pointer-events: none;\"><text text-anchor=\"start\" transform=\"translate(16,9)\" style=\"font-family: sans-serif; font-size: 10px; fill: #000; opacity: 1;\">64_500_0.003_7.5</text></g></g></g></g></g></g></g></g></g></g></g></g></g></g></svg>"
      ],
      "text/plain": [
       "alt.Chart(...)"
      ]
     },
     "execution_count": 41,
     "metadata": {},
     "output_type": "execute_result"
    }
   ],
   "source": [
    "graph_prec"
   ]
  },
  {
   "cell_type": "markdown",
   "metadata": {},
   "source": [
    "αnDCG"
   ]
  },
  {
   "cell_type": "code",
   "execution_count": 42,
   "metadata": {},
   "outputs": [],
   "source": [
    "wdth = 550\n",
    "heit = 250\n",
    "\n",
    "graph_ndcg = alt.Chart(df_dqn).mark_bar().encode(\n",
    "    alt.X('Method:N', axis=alt.Axis(title=\"Method\")),\n",
    "    alt.Y('alpha_ndcg', axis=alt.Axis(title=\"alpha_ndcg\"),scale=alt.Scale(zero=False)),\n",
    "    color=alt.Color('Method',title='')\n",
    ").properties(\n",
    "    width = wdth,\n",
    "    height = heit\n",
    ")"
   ]
  },
  {
   "cell_type": "code",
   "execution_count": 43,
   "metadata": {},
   "outputs": [
    {
     "data": {
      "image/svg+xml": [
       "<svg class=\"marks\" width=\"725\" height=\"382\" viewBox=\"0 0 725 382\" version=\"1.1\" xmlns=\"http://www.w3.org/2000/svg\" xmlns:xlink=\"http://www.w3.org/1999/xlink\"><rect width=\"725\" height=\"382\" style=\"fill: white;\"></rect><g transform=\"translate(41,10)\"><g class=\"mark-group role-frame root\"><g transform=\"translate(0,0)\"><path class=\"background\" d=\"M0.5,0.5h550v250h-550Z\" style=\"fill: none; stroke: #ddd;\"></path><g><g class=\"mark-group role-axis\"><g transform=\"translate(0.5,0.5)\"><path class=\"background\" d=\"M0,0h0v0h0Z\" style=\"pointer-events: none; fill: none;\"></path><g><g class=\"mark-rule role-axis-grid\" style=\"pointer-events: none;\"><line transform=\"translate(0,250)\" x2=\"550\" y2=\"0\" style=\"fill: none; stroke: #ddd; stroke-width: 1; opacity: 1;\"></line><line transform=\"translate(0,219)\" x2=\"550\" y2=\"0\" style=\"fill: none; stroke: #ddd; stroke-width: 1; opacity: 1;\"></line><line transform=\"translate(0,188)\" x2=\"550\" y2=\"0\" style=\"fill: none; stroke: #ddd; stroke-width: 1; opacity: 1;\"></line><line transform=\"translate(0,156)\" x2=\"550\" y2=\"0\" style=\"fill: none; stroke: #ddd; stroke-width: 1; opacity: 1;\"></line><line transform=\"translate(0,125)\" x2=\"550\" y2=\"0\" style=\"fill: none; stroke: #ddd; stroke-width: 1; opacity: 1;\"></line><line transform=\"translate(0,94)\" x2=\"550\" y2=\"0\" style=\"fill: none; stroke: #ddd; stroke-width: 1; opacity: 1;\"></line><line transform=\"translate(0,63)\" x2=\"550\" y2=\"0\" style=\"fill: none; stroke: #ddd; stroke-width: 1; opacity: 1;\"></line><line transform=\"translate(0,31)\" x2=\"550\" y2=\"0\" style=\"fill: none; stroke: #ddd; stroke-width: 1; opacity: 1;\"></line><line transform=\"translate(0,0)\" x2=\"550\" y2=\"0\" style=\"fill: none; stroke: #ddd; stroke-width: 1; opacity: 1;\"></line></g></g></g></g><g class=\"mark-group role-axis\"><g transform=\"translate(0.5,250.5)\"><path class=\"background\" d=\"M0,0h0v0h0Z\" style=\"pointer-events: none; fill: none;\"></path><g><g class=\"mark-rule role-axis-tick\" style=\"pointer-events: none;\"><line transform=\"translate(10,0)\" x2=\"0\" y2=\"5\" style=\"fill: none; stroke: #888; stroke-width: 1; opacity: 1;\"></line><line transform=\"translate(33,0)\" x2=\"0\" y2=\"5\" style=\"fill: none; stroke: #888; stroke-width: 1; opacity: 1;\"></line><line transform=\"translate(56,0)\" x2=\"0\" y2=\"5\" style=\"fill: none; stroke: #888; stroke-width: 1; opacity: 1;\"></line><line transform=\"translate(79,0)\" x2=\"0\" y2=\"5\" style=\"fill: none; stroke: #888; stroke-width: 1; opacity: 1;\"></line><line transform=\"translate(102,0)\" x2=\"0\" y2=\"5\" style=\"fill: none; stroke: #888; stroke-width: 1; opacity: 1;\"></line><line transform=\"translate(125,0)\" x2=\"0\" y2=\"5\" style=\"fill: none; stroke: #888; stroke-width: 1; opacity: 1;\"></line><line transform=\"translate(148,0)\" x2=\"0\" y2=\"5\" style=\"fill: none; stroke: #888; stroke-width: 1; opacity: 1;\"></line><line transform=\"translate(171,0)\" x2=\"0\" y2=\"5\" style=\"fill: none; stroke: #888; stroke-width: 1; opacity: 1;\"></line><line transform=\"translate(194,0)\" x2=\"0\" y2=\"5\" style=\"fill: none; stroke: #888; stroke-width: 1; opacity: 1;\"></line><line transform=\"translate(217,0)\" x2=\"0\" y2=\"5\" style=\"fill: none; stroke: #888; stroke-width: 1; opacity: 1;\"></line><line transform=\"translate(240,0)\" x2=\"0\" y2=\"5\" style=\"fill: none; stroke: #888; stroke-width: 1; opacity: 1;\"></line><line transform=\"translate(263,0)\" x2=\"0\" y2=\"5\" style=\"fill: none; stroke: #888; stroke-width: 1; opacity: 1;\"></line><line transform=\"translate(285,0)\" x2=\"0\" y2=\"5\" style=\"fill: none; stroke: #888; stroke-width: 1; opacity: 1;\"></line><line transform=\"translate(308,0)\" x2=\"0\" y2=\"5\" style=\"fill: none; stroke: #888; stroke-width: 1; opacity: 1;\"></line><line transform=\"translate(331,0)\" x2=\"0\" y2=\"5\" style=\"fill: none; stroke: #888; stroke-width: 1; opacity: 1;\"></line><line transform=\"translate(354,0)\" x2=\"0\" y2=\"5\" style=\"fill: none; stroke: #888; stroke-width: 1; opacity: 1;\"></line><line transform=\"translate(377,0)\" x2=\"0\" y2=\"5\" style=\"fill: none; stroke: #888; stroke-width: 1; opacity: 1;\"></line><line transform=\"translate(400,0)\" x2=\"0\" y2=\"5\" style=\"fill: none; stroke: #888; stroke-width: 1; opacity: 1;\"></line><line transform=\"translate(423,0)\" x2=\"0\" y2=\"5\" style=\"fill: none; stroke: #888; stroke-width: 1; opacity: 1;\"></line><line transform=\"translate(446,0)\" x2=\"0\" y2=\"5\" style=\"fill: none; stroke: #888; stroke-width: 1; opacity: 1;\"></line><line transform=\"translate(469,0)\" x2=\"0\" y2=\"5\" style=\"fill: none; stroke: #888; stroke-width: 1; opacity: 1;\"></line><line transform=\"translate(492,0)\" x2=\"0\" y2=\"5\" style=\"fill: none; stroke: #888; stroke-width: 1; opacity: 1;\"></line><line transform=\"translate(515,0)\" x2=\"0\" y2=\"5\" style=\"fill: none; stroke: #888; stroke-width: 1; opacity: 1;\"></line><line transform=\"translate(538,0)\" x2=\"0\" y2=\"5\" style=\"fill: none; stroke: #888; stroke-width: 1; opacity: 1;\"></line></g><g class=\"mark-text role-axis-label\" style=\"pointer-events: none;\"><text text-anchor=\"end\" transform=\"translate(10.458333333333314,7) rotate(270) translate(0,3)\" style=\"font-family: sans-serif; font-size: 10px; fill: #000; opacity: 1;\">256_100_0.0001_7.5</text><text text-anchor=\"end\" transform=\"translate(33.374999999999986,7) rotate(270) translate(0,3)\" style=\"font-family: sans-serif; font-size: 10px; fill: #000; opacity: 1;\">256_100_0.0003_7.5</text><text text-anchor=\"end\" transform=\"translate(56.29166666666665,7) rotate(270) translate(0,3)\" style=\"font-family: sans-serif; font-size: 10px; fill: #000; opacity: 1;\">256_100_0.001_7.5</text><text text-anchor=\"end\" transform=\"translate(79.20833333333331,7) rotate(270) translate(0,3)\" style=\"font-family: sans-serif; font-size: 10px; fill: #000; opacity: 1;\">256_100_0.003_7.5</text><text text-anchor=\"end\" transform=\"translate(102.12499999999999,7) rotate(270) translate(0,3)\" style=\"font-family: sans-serif; font-size: 10px; fill: #000; opacity: 1;\">256_200_0.0001_7.5</text><text text-anchor=\"end\" transform=\"translate(125.04166666666666,7) rotate(270) translate(0,3)\" style=\"font-family: sans-serif; font-size: 10px; fill: #000; opacity: 1;\">256_200_0.0003_7.5</text><text text-anchor=\"end\" transform=\"translate(147.95833333333331,7) rotate(270) translate(0,3)\" style=\"font-family: sans-serif; font-size: 10px; fill: #000; opacity: 1;\">256_200_0.001_7.5</text><text text-anchor=\"end\" transform=\"translate(170.875,7) rotate(270) translate(0,3)\" style=\"font-family: sans-serif; font-size: 10px; fill: #000; opacity: 1;\">256_200_0.003_7.5</text><text text-anchor=\"end\" transform=\"translate(193.79166666666666,7) rotate(270) translate(0,3)\" style=\"font-family: sans-serif; font-size: 10px; fill: #000; opacity: 1;\">256_500_0.0001_7.5</text><text text-anchor=\"end\" transform=\"translate(216.70833333333331,7) rotate(270) translate(0,3)\" style=\"font-family: sans-serif; font-size: 10px; fill: #000; opacity: 1;\">256_500_0.0003_7.5</text><text text-anchor=\"end\" transform=\"translate(239.625,7) rotate(270) translate(0,3)\" style=\"font-family: sans-serif; font-size: 10px; fill: #000; opacity: 1;\">256_500_0.001_7.5</text><text text-anchor=\"end\" transform=\"translate(262.54166666666663,7) rotate(270) translate(0,3)\" style=\"font-family: sans-serif; font-size: 10px; fill: #000; opacity: 1;\">256_500_0.003_7.5</text><text text-anchor=\"end\" transform=\"translate(285.4583333333333,7) rotate(270) translate(0,3)\" style=\"font-family: sans-serif; font-size: 10px; fill: #000; opacity: 1;\">64_100_0.0001_7.5</text><text text-anchor=\"end\" transform=\"translate(308.375,7) rotate(270) translate(0,3)\" style=\"font-family: sans-serif; font-size: 10px; fill: #000; opacity: 1;\">64_100_0.0003_7.5</text><text text-anchor=\"end\" transform=\"translate(331.2916666666667,7) rotate(270) translate(0,3)\" style=\"font-family: sans-serif; font-size: 10px; fill: #000; opacity: 1;\">64_100_0.001_7.5</text><text text-anchor=\"end\" transform=\"translate(354.2083333333333,7) rotate(270) translate(0,3)\" style=\"font-family: sans-serif; font-size: 10px; fill: #000; opacity: 1;\">64_100_0.003_7.5</text><text text-anchor=\"end\" transform=\"translate(377.125,7) rotate(270) translate(0,3)\" style=\"font-family: sans-serif; font-size: 10px; fill: #000; opacity: 1;\">64_200_0.0001_7.5</text><text text-anchor=\"end\" transform=\"translate(400.0416666666667,7) rotate(270) translate(0,3)\" style=\"font-family: sans-serif; font-size: 10px; fill: #000; opacity: 1;\">64_200_0.0003_7.5</text><text text-anchor=\"end\" transform=\"translate(422.9583333333333,7) rotate(270) translate(0,3)\" style=\"font-family: sans-serif; font-size: 10px; fill: #000; opacity: 1;\">64_200_0.001_7.5</text><text text-anchor=\"end\" transform=\"translate(445.875,7) rotate(270) translate(0,3)\" style=\"font-family: sans-serif; font-size: 10px; fill: #000; opacity: 1;\">64_200_0.003_7.5</text><text text-anchor=\"end\" transform=\"translate(468.7916666666667,7) rotate(270) translate(0,3)\" style=\"font-family: sans-serif; font-size: 10px; fill: #000; opacity: 1;\">64_500_0.0001_7.5</text><text text-anchor=\"end\" transform=\"translate(491.7083333333333,7) rotate(270) translate(0,3)\" style=\"font-family: sans-serif; font-size: 10px; fill: #000; opacity: 1;\">64_500_0.0003_7.5</text><text text-anchor=\"end\" transform=\"translate(514.625,7) rotate(270) translate(0,3)\" style=\"font-family: sans-serif; font-size: 10px; fill: #000; opacity: 1;\">64_500_0.001_7.5</text><text text-anchor=\"end\" transform=\"translate(537.5416666666667,7) rotate(270) translate(0,3)\" style=\"font-family: sans-serif; font-size: 10px; fill: #000; opacity: 1;\">64_500_0.003_7.5</text></g><g class=\"mark-rule role-axis-domain\" style=\"pointer-events: none;\"><line transform=\"translate(0,0)\" x2=\"550\" y2=\"0\" style=\"fill: none; stroke: #888; stroke-width: 1; opacity: 1;\"></line></g><g class=\"mark-text role-axis-title\" style=\"pointer-events: none;\"><text text-anchor=\"middle\" transform=\"translate(275,114.541015625)\" style=\"font-family: sans-serif; font-size: 11px; font-weight: bold; fill: #000; opacity: 1;\">Method</text></g></g></g></g><g class=\"mark-group role-axis\"><g transform=\"translate(0.5,0.5)\"><path class=\"background\" d=\"M0,0h0v0h0Z\" style=\"pointer-events: none; fill: none;\"></path><g><g class=\"mark-rule role-axis-tick\" style=\"pointer-events: none;\"><line transform=\"translate(0,250)\" x2=\"-5\" y2=\"0\" style=\"fill: none; stroke: #888; stroke-width: 1; opacity: 1;\"></line><line transform=\"translate(0,219)\" x2=\"-5\" y2=\"0\" style=\"fill: none; stroke: #888; stroke-width: 1; opacity: 1;\"></line><line transform=\"translate(0,188)\" x2=\"-5\" y2=\"0\" style=\"fill: none; stroke: #888; stroke-width: 1; opacity: 1;\"></line><line transform=\"translate(0,156)\" x2=\"-5\" y2=\"0\" style=\"fill: none; stroke: #888; stroke-width: 1; opacity: 1;\"></line><line transform=\"translate(0,125)\" x2=\"-5\" y2=\"0\" style=\"fill: none; stroke: #888; stroke-width: 1; opacity: 1;\"></line><line transform=\"translate(0,94)\" x2=\"-5\" y2=\"0\" style=\"fill: none; stroke: #888; stroke-width: 1; opacity: 1;\"></line><line transform=\"translate(0,63)\" x2=\"-5\" y2=\"0\" style=\"fill: none; stroke: #888; stroke-width: 1; opacity: 1;\"></line><line transform=\"translate(0,31)\" x2=\"-5\" y2=\"0\" style=\"fill: none; stroke: #888; stroke-width: 1; opacity: 1;\"></line><line transform=\"translate(0,0)\" x2=\"-5\" y2=\"0\" style=\"fill: none; stroke: #888; stroke-width: 1; opacity: 1;\"></line></g><g class=\"mark-text role-axis-label\" style=\"pointer-events: none;\"><text text-anchor=\"end\" transform=\"translate(-7,253)\" style=\"font-family: sans-serif; font-size: 10px; fill: #000; opacity: 1;\">3.0</text><text text-anchor=\"end\" transform=\"translate(-7,221.75)\" style=\"font-family: sans-serif; font-size: 10px; fill: #000; opacity: 1;\">3.5</text><text text-anchor=\"end\" transform=\"translate(-7,190.5)\" style=\"font-family: sans-serif; font-size: 10px; fill: #000; opacity: 1;\">4.0</text><text text-anchor=\"end\" transform=\"translate(-7,159.25)\" style=\"font-family: sans-serif; font-size: 10px; fill: #000; opacity: 1;\">4.5</text><text text-anchor=\"end\" transform=\"translate(-7,128)\" style=\"font-family: sans-serif; font-size: 10px; fill: #000; opacity: 1;\">5.0</text><text text-anchor=\"end\" transform=\"translate(-7,96.75)\" style=\"font-family: sans-serif; font-size: 10px; fill: #000; opacity: 1;\">5.5</text><text text-anchor=\"end\" transform=\"translate(-7,65.5)\" style=\"font-family: sans-serif; font-size: 10px; fill: #000; opacity: 1;\">6.0</text><text text-anchor=\"end\" transform=\"translate(-7,34.25)\" style=\"font-family: sans-serif; font-size: 10px; fill: #000; opacity: 1;\">6.5</text><text text-anchor=\"end\" transform=\"translate(-7,3)\" style=\"font-family: sans-serif; font-size: 10px; fill: #000; opacity: 1;\">7.0</text></g><g class=\"mark-rule role-axis-domain\" style=\"pointer-events: none;\"><line transform=\"translate(0,250)\" x2=\"0\" y2=\"-250\" style=\"fill: none; stroke: #888; stroke-width: 1; opacity: 1;\"></line></g><g class=\"mark-text role-axis-title\" style=\"pointer-events: none;\"><text text-anchor=\"middle\" transform=\"translate(-24.9013671875,125) rotate(-90) translate(0,-2)\" style=\"font-family: sans-serif; font-size: 11px; font-weight: bold; fill: #000; opacity: 1;\">alpha_ndcg</text></g></g></g></g><g class=\"mark-rect role-mark marks\"><path d=\"M276.1458333333333,200.36032105080142h20.625v49.63967894919858h-20.625Z\" style=\"fill: #e45756;\"></path><path d=\"M299.0625,211.29510723618472h20.625v38.70489276381528h-20.625Z\" style=\"fill: #72b7b2;\"></path><path d=\"M321.9791666666667,184.64099382694832h20.625v65.35900617305168h-20.625Z\" style=\"fill: #54a24b;\"></path><path d=\"M344.8958333333333,139.3171776456349h20.625v110.6828223543651h-20.625Z\" style=\"fill: #eeca3b;\"></path><path d=\"M367.8125,240.5703130962697h20.625v9.4296869037303h-20.625Z\" style=\"fill: #b279a2;\"></path><path d=\"M390.7291666666667,181.53409487381933h20.625v68.46590512618067h-20.625Z\" style=\"fill: #ff9da6;\"></path><path d=\"M413.6458333333333,95.6940729369712h20.625v154.3059270630288h-20.625Z\" style=\"fill: #9d755d;\"></path><path d=\"M436.5625,110.02332338700117h20.625v139.97667661299883h-20.625Z\" style=\"fill: #bab0ac;\"></path><path d=\"M459.4791666666667,225.86253228043478h20.625v24.137467719565223h-20.625Z\" style=\"fill: #4c78a8;\"></path><path d=\"M482.3958333333333,209.88424894479215h20.625v40.11575105520785h-20.625Z\" style=\"fill: #f58518;\"></path><path d=\"M505.3125,5.59231351377133h20.625v244.40768648622867h-20.625Z\" style=\"fill: #e45756;\"></path><path d=\"M528.2291666666667,165.43027127531406h20.625v84.56972872468594h-20.625Z\" style=\"fill: #72b7b2;\"></path><path d=\"M1.1458333333333144,189.56075313993574h20.625v60.43924686006426h-20.625Z\" style=\"fill: #4c78a8;\"></path><path d=\"M24.062499999999982,183.5468816719138h20.625v66.45311832808619h-20.625Z\" style=\"fill: #f58518;\"></path><path d=\"M46.97916666666665,138.9176360105435h20.625v111.0823639894565h-20.625Z\" style=\"fill: #e45756;\"></path><path d=\"M69.89583333333331,176.4823275401013h20.625v73.5176724598987h-20.625Z\" style=\"fill: #72b7b2;\"></path><path d=\"M92.81249999999999,197.90626527990128h20.625v52.09373472009872h-20.625Z\" style=\"fill: #54a24b;\"></path><path d=\"M115.72916666666666,163.8893752363597h20.625v86.11062476364029h-20.625Z\" style=\"fill: #eeca3b;\"></path><path d=\"M138.64583333333331,149.18867971607025h20.625v100.81132028392975h-20.625Z\" style=\"fill: #b279a2;\"></path><path d=\"M161.5625,97.46200696234015h20.625v152.53799303765985h-20.625Z\" style=\"fill: #ff9da6;\"></path><path d=\"M184.47916666666666,200.3697661059154h20.625v49.6302338940846h-20.625Z\" style=\"fill: #9d755d;\"></path><path d=\"M207.39583333333331,162.1357962172083h20.625v87.86420378279169h-20.625Z\" style=\"fill: #bab0ac;\"></path><path d=\"M230.3125,100.88801039097328h20.625v149.11198960902672h-20.625Z\" style=\"fill: #4c78a8;\"></path><path d=\"M253.22916666666666,6.5429959079267235h20.625v243.45700409207328h-20.625Z\" style=\"fill: #f58518;\"></path></g><g class=\"mark-group role-legend\"><g transform=\"translate(568,0)\"><path class=\"background\" d=\"M0,0h111v310h-111Z\" style=\"pointer-events: none; fill: none;\"></path><g><g class=\"mark-group role-legend-entry\"><g transform=\"translate(0,0)\"><path class=\"background\" d=\"M0,0h0v0h0Z\" style=\"pointer-events: none; fill: none;\"></path><g><g class=\"mark-group role-scope\"><g transform=\"translate(0,0)\"><path class=\"background\" d=\"M0,0h110.541015625v11h-110.541015625Z\" style=\"pointer-events: none; fill: none; opacity: 1;\"></path><g><g class=\"mark-symbol role-legend-symbol\" style=\"pointer-events: none;\"><path transform=\"translate(6,6)\" d=\"M-5,-5h10v10h-10Z\" style=\"fill: #4c78a8; stroke-width: 1.5; opacity: 1;\"></path></g><g class=\"mark-text role-legend-label\" style=\"pointer-events: none;\"><text text-anchor=\"start\" transform=\"translate(16,9)\" style=\"font-family: sans-serif; font-size: 10px; fill: #000; opacity: 1;\">256_100_0.0001_7.5</text></g></g></g><g transform=\"translate(0,13)\"><path class=\"background\" d=\"M0,0h110.541015625v11h-110.541015625Z\" style=\"pointer-events: none; fill: none; opacity: 1;\"></path><g><g class=\"mark-symbol role-legend-symbol\" style=\"pointer-events: none;\"><path transform=\"translate(6,6)\" d=\"M-5,-5h10v10h-10Z\" style=\"fill: #f58518; stroke-width: 1.5; opacity: 1;\"></path></g><g class=\"mark-text role-legend-label\" style=\"pointer-events: none;\"><text text-anchor=\"start\" transform=\"translate(16,9)\" style=\"font-family: sans-serif; font-size: 10px; fill: #000; opacity: 1;\">256_100_0.0003_7.5</text></g></g></g><g transform=\"translate(0,26)\"><path class=\"background\" d=\"M0,0h110.541015625v11h-110.541015625Z\" style=\"pointer-events: none; fill: none; opacity: 1;\"></path><g><g class=\"mark-symbol role-legend-symbol\" style=\"pointer-events: none;\"><path transform=\"translate(6,6)\" d=\"M-5,-5h10v10h-10Z\" style=\"fill: #e45756; stroke-width: 1.5; opacity: 1;\"></path></g><g class=\"mark-text role-legend-label\" style=\"pointer-events: none;\"><text text-anchor=\"start\" transform=\"translate(16,9)\" style=\"font-family: sans-serif; font-size: 10px; fill: #000; opacity: 1;\">256_100_0.001_7.5</text></g></g></g><g transform=\"translate(0,39)\"><path class=\"background\" d=\"M0,0h110.541015625v11h-110.541015625Z\" style=\"pointer-events: none; fill: none; opacity: 1;\"></path><g><g class=\"mark-symbol role-legend-symbol\" style=\"pointer-events: none;\"><path transform=\"translate(6,6)\" d=\"M-5,-5h10v10h-10Z\" style=\"fill: #72b7b2; stroke-width: 1.5; opacity: 1;\"></path></g><g class=\"mark-text role-legend-label\" style=\"pointer-events: none;\"><text text-anchor=\"start\" transform=\"translate(16,9)\" style=\"font-family: sans-serif; font-size: 10px; fill: #000; opacity: 1;\">256_100_0.003_7.5</text></g></g></g><g transform=\"translate(0,52)\"><path class=\"background\" d=\"M0,0h110.541015625v11h-110.541015625Z\" style=\"pointer-events: none; fill: none; opacity: 1;\"></path><g><g class=\"mark-symbol role-legend-symbol\" style=\"pointer-events: none;\"><path transform=\"translate(6,6)\" d=\"M-5,-5h10v10h-10Z\" style=\"fill: #54a24b; stroke-width: 1.5; opacity: 1;\"></path></g><g class=\"mark-text role-legend-label\" style=\"pointer-events: none;\"><text text-anchor=\"start\" transform=\"translate(16,9)\" style=\"font-family: sans-serif; font-size: 10px; fill: #000; opacity: 1;\">256_200_0.0001_7.5</text></g></g></g><g transform=\"translate(0,65)\"><path class=\"background\" d=\"M0,0h110.541015625v11h-110.541015625Z\" style=\"pointer-events: none; fill: none; opacity: 1;\"></path><g><g class=\"mark-symbol role-legend-symbol\" style=\"pointer-events: none;\"><path transform=\"translate(6,6)\" d=\"M-5,-5h10v10h-10Z\" style=\"fill: #eeca3b; stroke-width: 1.5; opacity: 1;\"></path></g><g class=\"mark-text role-legend-label\" style=\"pointer-events: none;\"><text text-anchor=\"start\" transform=\"translate(16,9)\" style=\"font-family: sans-serif; font-size: 10px; fill: #000; opacity: 1;\">256_200_0.0003_7.5</text></g></g></g><g transform=\"translate(0,78)\"><path class=\"background\" d=\"M0,0h110.541015625v11h-110.541015625Z\" style=\"pointer-events: none; fill: none; opacity: 1;\"></path><g><g class=\"mark-symbol role-legend-symbol\" style=\"pointer-events: none;\"><path transform=\"translate(6,6)\" d=\"M-5,-5h10v10h-10Z\" style=\"fill: #b279a2; stroke-width: 1.5; opacity: 1;\"></path></g><g class=\"mark-text role-legend-label\" style=\"pointer-events: none;\"><text text-anchor=\"start\" transform=\"translate(16,9)\" style=\"font-family: sans-serif; font-size: 10px; fill: #000; opacity: 1;\">256_200_0.001_7.5</text></g></g></g><g transform=\"translate(0,91)\"><path class=\"background\" d=\"M0,0h110.541015625v11h-110.541015625Z\" style=\"pointer-events: none; fill: none; opacity: 1;\"></path><g><g class=\"mark-symbol role-legend-symbol\" style=\"pointer-events: none;\"><path transform=\"translate(6,6)\" d=\"M-5,-5h10v10h-10Z\" style=\"fill: #ff9da6; stroke-width: 1.5; opacity: 1;\"></path></g><g class=\"mark-text role-legend-label\" style=\"pointer-events: none;\"><text text-anchor=\"start\" transform=\"translate(16,9)\" style=\"font-family: sans-serif; font-size: 10px; fill: #000; opacity: 1;\">256_200_0.003_7.5</text></g></g></g><g transform=\"translate(0,104)\"><path class=\"background\" d=\"M0,0h110.541015625v11h-110.541015625Z\" style=\"pointer-events: none; fill: none; opacity: 1;\"></path><g><g class=\"mark-symbol role-legend-symbol\" style=\"pointer-events: none;\"><path transform=\"translate(6,6)\" d=\"M-5,-5h10v10h-10Z\" style=\"fill: #9d755d; stroke-width: 1.5; opacity: 1;\"></path></g><g class=\"mark-text role-legend-label\" style=\"pointer-events: none;\"><text text-anchor=\"start\" transform=\"translate(16,9)\" style=\"font-family: sans-serif; font-size: 10px; fill: #000; opacity: 1;\">256_500_0.0001_7.5</text></g></g></g><g transform=\"translate(0,117)\"><path class=\"background\" d=\"M0,0h110.541015625v11h-110.541015625Z\" style=\"pointer-events: none; fill: none; opacity: 1;\"></path><g><g class=\"mark-symbol role-legend-symbol\" style=\"pointer-events: none;\"><path transform=\"translate(6,6)\" d=\"M-5,-5h10v10h-10Z\" style=\"fill: #bab0ac; stroke-width: 1.5; opacity: 1;\"></path></g><g class=\"mark-text role-legend-label\" style=\"pointer-events: none;\"><text text-anchor=\"start\" transform=\"translate(16,9)\" style=\"font-family: sans-serif; font-size: 10px; fill: #000; opacity: 1;\">256_500_0.0003_7.5</text></g></g></g><g transform=\"translate(0,130)\"><path class=\"background\" d=\"M0,0h110.541015625v11h-110.541015625Z\" style=\"pointer-events: none; fill: none; opacity: 1;\"></path><g><g class=\"mark-symbol role-legend-symbol\" style=\"pointer-events: none;\"><path transform=\"translate(6,6)\" d=\"M-5,-5h10v10h-10Z\" style=\"fill: #4c78a8; stroke-width: 1.5; opacity: 1;\"></path></g><g class=\"mark-text role-legend-label\" style=\"pointer-events: none;\"><text text-anchor=\"start\" transform=\"translate(16,9)\" style=\"font-family: sans-serif; font-size: 10px; fill: #000; opacity: 1;\">256_500_0.001_7.5</text></g></g></g><g transform=\"translate(0,143)\"><path class=\"background\" d=\"M0,0h110.541015625v11h-110.541015625Z\" style=\"pointer-events: none; fill: none; opacity: 1;\"></path><g><g class=\"mark-symbol role-legend-symbol\" style=\"pointer-events: none;\"><path transform=\"translate(6,6)\" d=\"M-5,-5h10v10h-10Z\" style=\"fill: #f58518; stroke-width: 1.5; opacity: 1;\"></path></g><g class=\"mark-text role-legend-label\" style=\"pointer-events: none;\"><text text-anchor=\"start\" transform=\"translate(16,9)\" style=\"font-family: sans-serif; font-size: 10px; fill: #000; opacity: 1;\">256_500_0.003_7.5</text></g></g></g><g transform=\"translate(0,156)\"><path class=\"background\" d=\"M0,0h110.541015625v11h-110.541015625Z\" style=\"pointer-events: none; fill: none; opacity: 1;\"></path><g><g class=\"mark-symbol role-legend-symbol\" style=\"pointer-events: none;\"><path transform=\"translate(6,6)\" d=\"M-5,-5h10v10h-10Z\" style=\"fill: #e45756; stroke-width: 1.5; opacity: 1;\"></path></g><g class=\"mark-text role-legend-label\" style=\"pointer-events: none;\"><text text-anchor=\"start\" transform=\"translate(16,9)\" style=\"font-family: sans-serif; font-size: 10px; fill: #000; opacity: 1;\">64_100_0.0001_7.5</text></g></g></g><g transform=\"translate(0,169)\"><path class=\"background\" d=\"M0,0h110.541015625v11h-110.541015625Z\" style=\"pointer-events: none; fill: none; opacity: 1;\"></path><g><g class=\"mark-symbol role-legend-symbol\" style=\"pointer-events: none;\"><path transform=\"translate(6,6)\" d=\"M-5,-5h10v10h-10Z\" style=\"fill: #72b7b2; stroke-width: 1.5; opacity: 1;\"></path></g><g class=\"mark-text role-legend-label\" style=\"pointer-events: none;\"><text text-anchor=\"start\" transform=\"translate(16,9)\" style=\"font-family: sans-serif; font-size: 10px; fill: #000; opacity: 1;\">64_100_0.0003_7.5</text></g></g></g><g transform=\"translate(0,182)\"><path class=\"background\" d=\"M0,0h110.541015625v11h-110.541015625Z\" style=\"pointer-events: none; fill: none; opacity: 1;\"></path><g><g class=\"mark-symbol role-legend-symbol\" style=\"pointer-events: none;\"><path transform=\"translate(6,6)\" d=\"M-5,-5h10v10h-10Z\" style=\"fill: #54a24b; stroke-width: 1.5; opacity: 1;\"></path></g><g class=\"mark-text role-legend-label\" style=\"pointer-events: none;\"><text text-anchor=\"start\" transform=\"translate(16,9)\" style=\"font-family: sans-serif; font-size: 10px; fill: #000; opacity: 1;\">64_100_0.001_7.5</text></g></g></g><g transform=\"translate(0,195)\"><path class=\"background\" d=\"M0,0h110.541015625v11h-110.541015625Z\" style=\"pointer-events: none; fill: none; opacity: 1;\"></path><g><g class=\"mark-symbol role-legend-symbol\" style=\"pointer-events: none;\"><path transform=\"translate(6,6)\" d=\"M-5,-5h10v10h-10Z\" style=\"fill: #eeca3b; stroke-width: 1.5; opacity: 1;\"></path></g><g class=\"mark-text role-legend-label\" style=\"pointer-events: none;\"><text text-anchor=\"start\" transform=\"translate(16,9)\" style=\"font-family: sans-serif; font-size: 10px; fill: #000; opacity: 1;\">64_100_0.003_7.5</text></g></g></g><g transform=\"translate(0,208)\"><path class=\"background\" d=\"M0,0h110.541015625v11h-110.541015625Z\" style=\"pointer-events: none; fill: none; opacity: 1;\"></path><g><g class=\"mark-symbol role-legend-symbol\" style=\"pointer-events: none;\"><path transform=\"translate(6,6)\" d=\"M-5,-5h10v10h-10Z\" style=\"fill: #b279a2; stroke-width: 1.5; opacity: 1;\"></path></g><g class=\"mark-text role-legend-label\" style=\"pointer-events: none;\"><text text-anchor=\"start\" transform=\"translate(16,9)\" style=\"font-family: sans-serif; font-size: 10px; fill: #000; opacity: 1;\">64_200_0.0001_7.5</text></g></g></g><g transform=\"translate(0,221)\"><path class=\"background\" d=\"M0,0h110.541015625v11h-110.541015625Z\" style=\"pointer-events: none; fill: none; opacity: 1;\"></path><g><g class=\"mark-symbol role-legend-symbol\" style=\"pointer-events: none;\"><path transform=\"translate(6,6)\" d=\"M-5,-5h10v10h-10Z\" style=\"fill: #ff9da6; stroke-width: 1.5; opacity: 1;\"></path></g><g class=\"mark-text role-legend-label\" style=\"pointer-events: none;\"><text text-anchor=\"start\" transform=\"translate(16,9)\" style=\"font-family: sans-serif; font-size: 10px; fill: #000; opacity: 1;\">64_200_0.0003_7.5</text></g></g></g><g transform=\"translate(0,234)\"><path class=\"background\" d=\"M0,0h110.541015625v11h-110.541015625Z\" style=\"pointer-events: none; fill: none; opacity: 1;\"></path><g><g class=\"mark-symbol role-legend-symbol\" style=\"pointer-events: none;\"><path transform=\"translate(6,6)\" d=\"M-5,-5h10v10h-10Z\" style=\"fill: #9d755d; stroke-width: 1.5; opacity: 1;\"></path></g><g class=\"mark-text role-legend-label\" style=\"pointer-events: none;\"><text text-anchor=\"start\" transform=\"translate(16,9)\" style=\"font-family: sans-serif; font-size: 10px; fill: #000; opacity: 1;\">64_200_0.001_7.5</text></g></g></g><g transform=\"translate(0,247)\"><path class=\"background\" d=\"M0,0h110.541015625v11h-110.541015625Z\" style=\"pointer-events: none; fill: none; opacity: 1;\"></path><g><g class=\"mark-symbol role-legend-symbol\" style=\"pointer-events: none;\"><path transform=\"translate(6,6)\" d=\"M-5,-5h10v10h-10Z\" style=\"fill: #bab0ac; stroke-width: 1.5; opacity: 1;\"></path></g><g class=\"mark-text role-legend-label\" style=\"pointer-events: none;\"><text text-anchor=\"start\" transform=\"translate(16,9)\" style=\"font-family: sans-serif; font-size: 10px; fill: #000; opacity: 1;\">64_200_0.003_7.5</text></g></g></g><g transform=\"translate(0,260)\"><path class=\"background\" d=\"M0,0h110.541015625v11h-110.541015625Z\" style=\"pointer-events: none; fill: none; opacity: 1;\"></path><g><g class=\"mark-symbol role-legend-symbol\" style=\"pointer-events: none;\"><path transform=\"translate(6,6)\" d=\"M-5,-5h10v10h-10Z\" style=\"fill: #4c78a8; stroke-width: 1.5; opacity: 1;\"></path></g><g class=\"mark-text role-legend-label\" style=\"pointer-events: none;\"><text text-anchor=\"start\" transform=\"translate(16,9)\" style=\"font-family: sans-serif; font-size: 10px; fill: #000; opacity: 1;\">64_500_0.0001_7.5</text></g></g></g><g transform=\"translate(0,273)\"><path class=\"background\" d=\"M0,0h110.541015625v11h-110.541015625Z\" style=\"pointer-events: none; fill: none; opacity: 1;\"></path><g><g class=\"mark-symbol role-legend-symbol\" style=\"pointer-events: none;\"><path transform=\"translate(6,6)\" d=\"M-5,-5h10v10h-10Z\" style=\"fill: #f58518; stroke-width: 1.5; opacity: 1;\"></path></g><g class=\"mark-text role-legend-label\" style=\"pointer-events: none;\"><text text-anchor=\"start\" transform=\"translate(16,9)\" style=\"font-family: sans-serif; font-size: 10px; fill: #000; opacity: 1;\">64_500_0.0003_7.5</text></g></g></g><g transform=\"translate(0,286)\"><path class=\"background\" d=\"M0,0h110.541015625v11h-110.541015625Z\" style=\"pointer-events: none; fill: none; opacity: 1;\"></path><g><g class=\"mark-symbol role-legend-symbol\" style=\"pointer-events: none;\"><path transform=\"translate(6,6)\" d=\"M-5,-5h10v10h-10Z\" style=\"fill: #e45756; stroke-width: 1.5; opacity: 1;\"></path></g><g class=\"mark-text role-legend-label\" style=\"pointer-events: none;\"><text text-anchor=\"start\" transform=\"translate(16,9)\" style=\"font-family: sans-serif; font-size: 10px; fill: #000; opacity: 1;\">64_500_0.001_7.5</text></g></g></g><g transform=\"translate(0,299)\"><path class=\"background\" d=\"M0,0h110.541015625v11h-110.541015625Z\" style=\"pointer-events: none; fill: none; opacity: 1;\"></path><g><g class=\"mark-symbol role-legend-symbol\" style=\"pointer-events: none;\"><path transform=\"translate(6,6)\" d=\"M-5,-5h10v10h-10Z\" style=\"fill: #72b7b2; stroke-width: 1.5; opacity: 1;\"></path></g><g class=\"mark-text role-legend-label\" style=\"pointer-events: none;\"><text text-anchor=\"start\" transform=\"translate(16,9)\" style=\"font-family: sans-serif; font-size: 10px; fill: #000; opacity: 1;\">64_500_0.003_7.5</text></g></g></g></g></g></g></g></g></g></g></g></g></g></g></svg>"
      ],
      "text/plain": [
       "alt.Chart(...)"
      ]
     },
     "execution_count": 43,
     "metadata": {},
     "output_type": "execute_result"
    }
   ],
   "source": [
    "graph_ndcg"
   ]
  },
  {
   "cell_type": "markdown",
   "metadata": {},
   "source": [
    "F-Score"
   ]
  },
  {
   "cell_type": "code",
   "execution_count": 44,
   "metadata": {},
   "outputs": [],
   "source": [
    "wdth = 550\n",
    "heit = 250\n",
    "\n",
    "graph_f1 = alt.Chart(df_dqn).mark_bar().encode(\n",
    "    alt.X('Method:N', axis=alt.Axis(title=\"Method\")),\n",
    "    alt.Y('harmo', axis=alt.Axis(title=\"F1 Score\"),scale=alt.Scale(zero=False)),\n",
    "    color=alt.Color('Method',title='')\n",
    ").properties(\n",
    "    width = wdth,\n",
    "    height = heit\n",
    ")"
   ]
  },
  {
   "cell_type": "code",
   "execution_count": 45,
   "metadata": {},
   "outputs": [
    {
     "data": {
      "image/svg+xml": [
       "<svg class=\"marks\" width=\"731\" height=\"382\" viewBox=\"0 0 731 382\" version=\"1.1\" xmlns=\"http://www.w3.org/2000/svg\" xmlns:xlink=\"http://www.w3.org/1999/xlink\"><rect width=\"731\" height=\"382\" style=\"fill: white;\"></rect><g transform=\"translate(47,10)\"><g class=\"mark-group role-frame root\"><g transform=\"translate(0,0)\"><path class=\"background\" d=\"M0.5,0.5h550v250h-550Z\" style=\"fill: none; stroke: #ddd;\"></path><g><g class=\"mark-group role-axis\"><g transform=\"translate(0.5,0.5)\"><path class=\"background\" d=\"M0,0h0v0h0Z\" style=\"pointer-events: none; fill: none;\"></path><g><g class=\"mark-rule role-axis-grid\" style=\"pointer-events: none;\"><line transform=\"translate(0,250)\" x2=\"550\" y2=\"0\" style=\"fill: none; stroke: #ddd; stroke-width: 1; opacity: 1;\"></line><line transform=\"translate(0,219)\" x2=\"550\" y2=\"0\" style=\"fill: none; stroke: #ddd; stroke-width: 1; opacity: 1;\"></line><line transform=\"translate(0,188)\" x2=\"550\" y2=\"0\" style=\"fill: none; stroke: #ddd; stroke-width: 1; opacity: 1;\"></line><line transform=\"translate(0,156)\" x2=\"550\" y2=\"0\" style=\"fill: none; stroke: #ddd; stroke-width: 1; opacity: 1;\"></line><line transform=\"translate(0,125)\" x2=\"550\" y2=\"0\" style=\"fill: none; stroke: #ddd; stroke-width: 1; opacity: 1;\"></line><line transform=\"translate(0,94)\" x2=\"550\" y2=\"0\" style=\"fill: none; stroke: #ddd; stroke-width: 1; opacity: 1;\"></line><line transform=\"translate(0,62)\" x2=\"550\" y2=\"0\" style=\"fill: none; stroke: #ddd; stroke-width: 1; opacity: 1;\"></line><line transform=\"translate(0,31)\" x2=\"550\" y2=\"0\" style=\"fill: none; stroke: #ddd; stroke-width: 1; opacity: 1;\"></line><line transform=\"translate(0,0)\" x2=\"550\" y2=\"0\" style=\"fill: none; stroke: #ddd; stroke-width: 1; opacity: 1;\"></line></g></g></g></g><g class=\"mark-group role-axis\"><g transform=\"translate(0.5,250.5)\"><path class=\"background\" d=\"M0,0h0v0h0Z\" style=\"pointer-events: none; fill: none;\"></path><g><g class=\"mark-rule role-axis-tick\" style=\"pointer-events: none;\"><line transform=\"translate(10,0)\" x2=\"0\" y2=\"5\" style=\"fill: none; stroke: #888; stroke-width: 1; opacity: 1;\"></line><line transform=\"translate(33,0)\" x2=\"0\" y2=\"5\" style=\"fill: none; stroke: #888; stroke-width: 1; opacity: 1;\"></line><line transform=\"translate(56,0)\" x2=\"0\" y2=\"5\" style=\"fill: none; stroke: #888; stroke-width: 1; opacity: 1;\"></line><line transform=\"translate(79,0)\" x2=\"0\" y2=\"5\" style=\"fill: none; stroke: #888; stroke-width: 1; opacity: 1;\"></line><line transform=\"translate(102,0)\" x2=\"0\" y2=\"5\" style=\"fill: none; stroke: #888; stroke-width: 1; opacity: 1;\"></line><line transform=\"translate(125,0)\" x2=\"0\" y2=\"5\" style=\"fill: none; stroke: #888; stroke-width: 1; opacity: 1;\"></line><line transform=\"translate(148,0)\" x2=\"0\" y2=\"5\" style=\"fill: none; stroke: #888; stroke-width: 1; opacity: 1;\"></line><line transform=\"translate(171,0)\" x2=\"0\" y2=\"5\" style=\"fill: none; stroke: #888; stroke-width: 1; opacity: 1;\"></line><line transform=\"translate(194,0)\" x2=\"0\" y2=\"5\" style=\"fill: none; stroke: #888; stroke-width: 1; opacity: 1;\"></line><line transform=\"translate(217,0)\" x2=\"0\" y2=\"5\" style=\"fill: none; stroke: #888; stroke-width: 1; opacity: 1;\"></line><line transform=\"translate(240,0)\" x2=\"0\" y2=\"5\" style=\"fill: none; stroke: #888; stroke-width: 1; opacity: 1;\"></line><line transform=\"translate(263,0)\" x2=\"0\" y2=\"5\" style=\"fill: none; stroke: #888; stroke-width: 1; opacity: 1;\"></line><line transform=\"translate(285,0)\" x2=\"0\" y2=\"5\" style=\"fill: none; stroke: #888; stroke-width: 1; opacity: 1;\"></line><line transform=\"translate(308,0)\" x2=\"0\" y2=\"5\" style=\"fill: none; stroke: #888; stroke-width: 1; opacity: 1;\"></line><line transform=\"translate(331,0)\" x2=\"0\" y2=\"5\" style=\"fill: none; stroke: #888; stroke-width: 1; opacity: 1;\"></line><line transform=\"translate(354,0)\" x2=\"0\" y2=\"5\" style=\"fill: none; stroke: #888; stroke-width: 1; opacity: 1;\"></line><line transform=\"translate(377,0)\" x2=\"0\" y2=\"5\" style=\"fill: none; stroke: #888; stroke-width: 1; opacity: 1;\"></line><line transform=\"translate(400,0)\" x2=\"0\" y2=\"5\" style=\"fill: none; stroke: #888; stroke-width: 1; opacity: 1;\"></line><line transform=\"translate(423,0)\" x2=\"0\" y2=\"5\" style=\"fill: none; stroke: #888; stroke-width: 1; opacity: 1;\"></line><line transform=\"translate(446,0)\" x2=\"0\" y2=\"5\" style=\"fill: none; stroke: #888; stroke-width: 1; opacity: 1;\"></line><line transform=\"translate(469,0)\" x2=\"0\" y2=\"5\" style=\"fill: none; stroke: #888; stroke-width: 1; opacity: 1;\"></line><line transform=\"translate(492,0)\" x2=\"0\" y2=\"5\" style=\"fill: none; stroke: #888; stroke-width: 1; opacity: 1;\"></line><line transform=\"translate(515,0)\" x2=\"0\" y2=\"5\" style=\"fill: none; stroke: #888; stroke-width: 1; opacity: 1;\"></line><line transform=\"translate(538,0)\" x2=\"0\" y2=\"5\" style=\"fill: none; stroke: #888; stroke-width: 1; opacity: 1;\"></line></g><g class=\"mark-text role-axis-label\" style=\"pointer-events: none;\"><text text-anchor=\"end\" transform=\"translate(10.458333333333314,7) rotate(270) translate(0,3)\" style=\"font-family: sans-serif; font-size: 10px; fill: #000; opacity: 1;\">256_100_0.0001_7.5</text><text text-anchor=\"end\" transform=\"translate(33.374999999999986,7) rotate(270) translate(0,3)\" style=\"font-family: sans-serif; font-size: 10px; fill: #000; opacity: 1;\">256_100_0.0003_7.5</text><text text-anchor=\"end\" transform=\"translate(56.29166666666665,7) rotate(270) translate(0,3)\" style=\"font-family: sans-serif; font-size: 10px; fill: #000; opacity: 1;\">256_100_0.001_7.5</text><text text-anchor=\"end\" transform=\"translate(79.20833333333331,7) rotate(270) translate(0,3)\" style=\"font-family: sans-serif; font-size: 10px; fill: #000; opacity: 1;\">256_100_0.003_7.5</text><text text-anchor=\"end\" transform=\"translate(102.12499999999999,7) rotate(270) translate(0,3)\" style=\"font-family: sans-serif; font-size: 10px; fill: #000; opacity: 1;\">256_200_0.0001_7.5</text><text text-anchor=\"end\" transform=\"translate(125.04166666666666,7) rotate(270) translate(0,3)\" style=\"font-family: sans-serif; font-size: 10px; fill: #000; opacity: 1;\">256_200_0.0003_7.5</text><text text-anchor=\"end\" transform=\"translate(147.95833333333331,7) rotate(270) translate(0,3)\" style=\"font-family: sans-serif; font-size: 10px; fill: #000; opacity: 1;\">256_200_0.001_7.5</text><text text-anchor=\"end\" transform=\"translate(170.875,7) rotate(270) translate(0,3)\" style=\"font-family: sans-serif; font-size: 10px; fill: #000; opacity: 1;\">256_200_0.003_7.5</text><text text-anchor=\"end\" transform=\"translate(193.79166666666666,7) rotate(270) translate(0,3)\" style=\"font-family: sans-serif; font-size: 10px; fill: #000; opacity: 1;\">256_500_0.0001_7.5</text><text text-anchor=\"end\" transform=\"translate(216.70833333333331,7) rotate(270) translate(0,3)\" style=\"font-family: sans-serif; font-size: 10px; fill: #000; opacity: 1;\">256_500_0.0003_7.5</text><text text-anchor=\"end\" transform=\"translate(239.625,7) rotate(270) translate(0,3)\" style=\"font-family: sans-serif; font-size: 10px; fill: #000; opacity: 1;\">256_500_0.001_7.5</text><text text-anchor=\"end\" transform=\"translate(262.54166666666663,7) rotate(270) translate(0,3)\" style=\"font-family: sans-serif; font-size: 10px; fill: #000; opacity: 1;\">256_500_0.003_7.5</text><text text-anchor=\"end\" transform=\"translate(285.4583333333333,7) rotate(270) translate(0,3)\" style=\"font-family: sans-serif; font-size: 10px; fill: #000; opacity: 1;\">64_100_0.0001_7.5</text><text text-anchor=\"end\" transform=\"translate(308.375,7) rotate(270) translate(0,3)\" style=\"font-family: sans-serif; font-size: 10px; fill: #000; opacity: 1;\">64_100_0.0003_7.5</text><text text-anchor=\"end\" transform=\"translate(331.2916666666667,7) rotate(270) translate(0,3)\" style=\"font-family: sans-serif; font-size: 10px; fill: #000; opacity: 1;\">64_100_0.001_7.5</text><text text-anchor=\"end\" transform=\"translate(354.2083333333333,7) rotate(270) translate(0,3)\" style=\"font-family: sans-serif; font-size: 10px; fill: #000; opacity: 1;\">64_100_0.003_7.5</text><text text-anchor=\"end\" transform=\"translate(377.125,7) rotate(270) translate(0,3)\" style=\"font-family: sans-serif; font-size: 10px; fill: #000; opacity: 1;\">64_200_0.0001_7.5</text><text text-anchor=\"end\" transform=\"translate(400.0416666666667,7) rotate(270) translate(0,3)\" style=\"font-family: sans-serif; font-size: 10px; fill: #000; opacity: 1;\">64_200_0.0003_7.5</text><text text-anchor=\"end\" transform=\"translate(422.9583333333333,7) rotate(270) translate(0,3)\" style=\"font-family: sans-serif; font-size: 10px; fill: #000; opacity: 1;\">64_200_0.001_7.5</text><text text-anchor=\"end\" transform=\"translate(445.875,7) rotate(270) translate(0,3)\" style=\"font-family: sans-serif; font-size: 10px; fill: #000; opacity: 1;\">64_200_0.003_7.5</text><text text-anchor=\"end\" transform=\"translate(468.7916666666667,7) rotate(270) translate(0,3)\" style=\"font-family: sans-serif; font-size: 10px; fill: #000; opacity: 1;\">64_500_0.0001_7.5</text><text text-anchor=\"end\" transform=\"translate(491.7083333333333,7) rotate(270) translate(0,3)\" style=\"font-family: sans-serif; font-size: 10px; fill: #000; opacity: 1;\">64_500_0.0003_7.5</text><text text-anchor=\"end\" transform=\"translate(514.625,7) rotate(270) translate(0,3)\" style=\"font-family: sans-serif; font-size: 10px; fill: #000; opacity: 1;\">64_500_0.001_7.5</text><text text-anchor=\"end\" transform=\"translate(537.5416666666667,7) rotate(270) translate(0,3)\" style=\"font-family: sans-serif; font-size: 10px; fill: #000; opacity: 1;\">64_500_0.003_7.5</text></g><g class=\"mark-rule role-axis-domain\" style=\"pointer-events: none;\"><line transform=\"translate(0,0)\" x2=\"550\" y2=\"0\" style=\"fill: none; stroke: #888; stroke-width: 1; opacity: 1;\"></line></g><g class=\"mark-text role-axis-title\" style=\"pointer-events: none;\"><text text-anchor=\"middle\" transform=\"translate(275,114.541015625)\" style=\"font-family: sans-serif; font-size: 11px; font-weight: bold; fill: #000; opacity: 1;\">Method</text></g></g></g></g><g class=\"mark-group role-axis\"><g transform=\"translate(0.5,0.5)\"><path class=\"background\" d=\"M0,0h0v0h0Z\" style=\"pointer-events: none; fill: none;\"></path><g><g class=\"mark-rule role-axis-tick\" style=\"pointer-events: none;\"><line transform=\"translate(0,250)\" x2=\"-5\" y2=\"0\" style=\"fill: none; stroke: #888; stroke-width: 1; opacity: 1;\"></line><line transform=\"translate(0,219)\" x2=\"-5\" y2=\"0\" style=\"fill: none; stroke: #888; stroke-width: 1; opacity: 1;\"></line><line transform=\"translate(0,188)\" x2=\"-5\" y2=\"0\" style=\"fill: none; stroke: #888; stroke-width: 1; opacity: 1;\"></line><line transform=\"translate(0,156)\" x2=\"-5\" y2=\"0\" style=\"fill: none; stroke: #888; stroke-width: 1; opacity: 1;\"></line><line transform=\"translate(0,125)\" x2=\"-5\" y2=\"0\" style=\"fill: none; stroke: #888; stroke-width: 1; opacity: 1;\"></line><line transform=\"translate(0,94)\" x2=\"-5\" y2=\"0\" style=\"fill: none; stroke: #888; stroke-width: 1; opacity: 1;\"></line><line transform=\"translate(0,62)\" x2=\"-5\" y2=\"0\" style=\"fill: none; stroke: #888; stroke-width: 1; opacity: 1;\"></line><line transform=\"translate(0,31)\" x2=\"-5\" y2=\"0\" style=\"fill: none; stroke: #888; stroke-width: 1; opacity: 1;\"></line><line transform=\"translate(0,0)\" x2=\"-5\" y2=\"0\" style=\"fill: none; stroke: #888; stroke-width: 1; opacity: 1;\"></line></g><g class=\"mark-text role-axis-label\" style=\"pointer-events: none;\"><text text-anchor=\"end\" transform=\"translate(-7,253)\" style=\"font-family: sans-serif; font-size: 10px; fill: #000; opacity: 1;\">0.68</text><text text-anchor=\"end\" transform=\"translate(-7,221.75000000000014)\" style=\"font-family: sans-serif; font-size: 10px; fill: #000; opacity: 1;\">0.70</text><text text-anchor=\"end\" transform=\"translate(-7,190.50000000000009)\" style=\"font-family: sans-serif; font-size: 10px; fill: #000; opacity: 1;\">0.72</text><text text-anchor=\"end\" transform=\"translate(-7,159.25000000000006)\" style=\"font-family: sans-serif; font-size: 10px; fill: #000; opacity: 1;\">0.74</text><text text-anchor=\"end\" transform=\"translate(-7,128)\" style=\"font-family: sans-serif; font-size: 10px; fill: #000; opacity: 1;\">0.76</text><text text-anchor=\"end\" transform=\"translate(-7,96.74999999999994)\" style=\"font-family: sans-serif; font-size: 10px; fill: #000; opacity: 1;\">0.78</text><text text-anchor=\"end\" transform=\"translate(-7,65.49999999999991)\" style=\"font-family: sans-serif; font-size: 10px; fill: #000; opacity: 1;\">0.80</text><text text-anchor=\"end\" transform=\"translate(-7,34.25000000000006)\" style=\"font-family: sans-serif; font-size: 10px; fill: #000; opacity: 1;\">0.82</text><text text-anchor=\"end\" transform=\"translate(-7,3)\" style=\"font-family: sans-serif; font-size: 10px; fill: #000; opacity: 1;\">0.84</text></g><g class=\"mark-rule role-axis-domain\" style=\"pointer-events: none;\"><line transform=\"translate(0,250)\" x2=\"0\" y2=\"-250\" style=\"fill: none; stroke: #888; stroke-width: 1; opacity: 1;\"></line></g><g class=\"mark-text role-axis-title\" style=\"pointer-events: none;\"><text text-anchor=\"middle\" transform=\"translate(-30.462890625,125) rotate(-90) translate(0,-2)\" style=\"font-family: sans-serif; font-size: 11px; font-weight: bold; fill: #000; opacity: 1;\">F1 Score</text></g></g></g></g><g class=\"mark-rect role-mark marks\"><path d=\"M276.1458333333333,185.11167033743214h20.625v64.88832966256786h-20.625Z\" style=\"fill: #e45756;\"></path><path d=\"M299.0625,230.67193764767958h20.625v19.328062352320416h-20.625Z\" style=\"fill: #72b7b2;\"></path><path d=\"M321.9791666666667,127.92062621577647h20.625v122.07937378422353h-20.625Z\" style=\"fill: #54a24b;\"></path><path d=\"M344.8958333333333,81.30600991929501h20.625v168.693990080705h-20.625Z\" style=\"fill: #eeca3b;\"></path><path d=\"M367.8125,234.93020630439196h20.625v15.069793695608041h-20.625Z\" style=\"fill: #b279a2;\"></path><path d=\"M390.7291666666667,137.71840039360552h20.625v112.28159960639448h-20.625Z\" style=\"fill: #ff9da6;\"></path><path d=\"M413.6458333333333,57.699364403372186h20.625v192.3006355966278h-20.625Z\" style=\"fill: #9d755d;\"></path><path d=\"M436.5625,77.83157651153326h20.625v172.16842348846674h-20.625Z\" style=\"fill: #bab0ac;\"></path><path d=\"M459.4791666666667,189.3241787445851h20.625v60.67582125541489h-20.625Z\" style=\"fill: #4c78a8;\"></path><path d=\"M482.3958333333333,180.94612288338902h20.625v69.05387711661098h-20.625Z\" style=\"fill: #f58518;\"></path><path d=\"M505.3125,0.020317066657014493h20.625v249.97968293334299h-20.625Z\" style=\"fill: #e45756;\"></path><path d=\"M528.2291666666667,126.88333941440501h20.625v123.11666058559499h-20.625Z\" style=\"fill: #72b7b2;\"></path><path d=\"M1.1458333333333144,135.36015553978234h20.625v114.63984446021766h-20.625Z\" style=\"fill: #4c78a8;\"></path><path d=\"M24.062499999999982,144.86845128406392h20.625v105.13154871593608h-20.625Z\" style=\"fill: #f58518;\"></path><path d=\"M46.97916666666665,90.10448319189214h20.625v159.89551680810786h-20.625Z\" style=\"fill: #e45756;\"></path><path d=\"M69.89583333333331,140.7299005098699h20.625v109.2700994901301h-20.625Z\" style=\"fill: #72b7b2;\"></path><path d=\"M92.81249999999999,170.48036620049876h20.625v79.51963379950124h-20.625Z\" style=\"fill: #54a24b;\"></path><path d=\"M115.72916666666666,115.99135713466444h20.625v134.00864286533556h-20.625Z\" style=\"fill: #eeca3b;\"></path><path d=\"M138.64583333333331,107.25619526829067h20.625v142.74380473170933h-20.625Z\" style=\"fill: #b279a2;\"></path><path d=\"M161.5625,57.4662371581542h20.625v192.5337628418458h-20.625Z\" style=\"fill: #ff9da6;\"></path><path d=\"M184.47916666666666,161.29614548123496h20.625v88.70385451876504h-20.625Z\" style=\"fill: #9d755d;\"></path><path d=\"M207.39583333333331,115.15463168766175h20.625v134.84536831233825h-20.625Z\" style=\"fill: #bab0ac;\"></path><path d=\"M230.3125,59.92755949631223h20.625v190.07244050368777h-20.625Z\" style=\"fill: #4c78a8;\"></path><path d=\"M253.22916666666666,19.674456611515183h20.625v230.32554338848482h-20.625Z\" style=\"fill: #f58518;\"></path></g><g class=\"mark-group role-legend\"><g transform=\"translate(568,0)\"><path class=\"background\" d=\"M0,0h111v310h-111Z\" style=\"pointer-events: none; fill: none;\"></path><g><g class=\"mark-group role-legend-entry\"><g transform=\"translate(0,0)\"><path class=\"background\" d=\"M0,0h0v0h0Z\" style=\"pointer-events: none; fill: none;\"></path><g><g class=\"mark-group role-scope\"><g transform=\"translate(0,0)\"><path class=\"background\" d=\"M0,0h110.541015625v11h-110.541015625Z\" style=\"pointer-events: none; fill: none; opacity: 1;\"></path><g><g class=\"mark-symbol role-legend-symbol\" style=\"pointer-events: none;\"><path transform=\"translate(6,6)\" d=\"M-5,-5h10v10h-10Z\" style=\"fill: #4c78a8; stroke-width: 1.5; opacity: 1;\"></path></g><g class=\"mark-text role-legend-label\" style=\"pointer-events: none;\"><text text-anchor=\"start\" transform=\"translate(16,9)\" style=\"font-family: sans-serif; font-size: 10px; fill: #000; opacity: 1;\">256_100_0.0001_7.5</text></g></g></g><g transform=\"translate(0,13)\"><path class=\"background\" d=\"M0,0h110.541015625v11h-110.541015625Z\" style=\"pointer-events: none; fill: none; opacity: 1;\"></path><g><g class=\"mark-symbol role-legend-symbol\" style=\"pointer-events: none;\"><path transform=\"translate(6,6)\" d=\"M-5,-5h10v10h-10Z\" style=\"fill: #f58518; stroke-width: 1.5; opacity: 1;\"></path></g><g class=\"mark-text role-legend-label\" style=\"pointer-events: none;\"><text text-anchor=\"start\" transform=\"translate(16,9)\" style=\"font-family: sans-serif; font-size: 10px; fill: #000; opacity: 1;\">256_100_0.0003_7.5</text></g></g></g><g transform=\"translate(0,26)\"><path class=\"background\" d=\"M0,0h110.541015625v11h-110.541015625Z\" style=\"pointer-events: none; fill: none; opacity: 1;\"></path><g><g class=\"mark-symbol role-legend-symbol\" style=\"pointer-events: none;\"><path transform=\"translate(6,6)\" d=\"M-5,-5h10v10h-10Z\" style=\"fill: #e45756; stroke-width: 1.5; opacity: 1;\"></path></g><g class=\"mark-text role-legend-label\" style=\"pointer-events: none;\"><text text-anchor=\"start\" transform=\"translate(16,9)\" style=\"font-family: sans-serif; font-size: 10px; fill: #000; opacity: 1;\">256_100_0.001_7.5</text></g></g></g><g transform=\"translate(0,39)\"><path class=\"background\" d=\"M0,0h110.541015625v11h-110.541015625Z\" style=\"pointer-events: none; fill: none; opacity: 1;\"></path><g><g class=\"mark-symbol role-legend-symbol\" style=\"pointer-events: none;\"><path transform=\"translate(6,6)\" d=\"M-5,-5h10v10h-10Z\" style=\"fill: #72b7b2; stroke-width: 1.5; opacity: 1;\"></path></g><g class=\"mark-text role-legend-label\" style=\"pointer-events: none;\"><text text-anchor=\"start\" transform=\"translate(16,9)\" style=\"font-family: sans-serif; font-size: 10px; fill: #000; opacity: 1;\">256_100_0.003_7.5</text></g></g></g><g transform=\"translate(0,52)\"><path class=\"background\" d=\"M0,0h110.541015625v11h-110.541015625Z\" style=\"pointer-events: none; fill: none; opacity: 1;\"></path><g><g class=\"mark-symbol role-legend-symbol\" style=\"pointer-events: none;\"><path transform=\"translate(6,6)\" d=\"M-5,-5h10v10h-10Z\" style=\"fill: #54a24b; stroke-width: 1.5; opacity: 1;\"></path></g><g class=\"mark-text role-legend-label\" style=\"pointer-events: none;\"><text text-anchor=\"start\" transform=\"translate(16,9)\" style=\"font-family: sans-serif; font-size: 10px; fill: #000; opacity: 1;\">256_200_0.0001_7.5</text></g></g></g><g transform=\"translate(0,65)\"><path class=\"background\" d=\"M0,0h110.541015625v11h-110.541015625Z\" style=\"pointer-events: none; fill: none; opacity: 1;\"></path><g><g class=\"mark-symbol role-legend-symbol\" style=\"pointer-events: none;\"><path transform=\"translate(6,6)\" d=\"M-5,-5h10v10h-10Z\" style=\"fill: #eeca3b; stroke-width: 1.5; opacity: 1;\"></path></g><g class=\"mark-text role-legend-label\" style=\"pointer-events: none;\"><text text-anchor=\"start\" transform=\"translate(16,9)\" style=\"font-family: sans-serif; font-size: 10px; fill: #000; opacity: 1;\">256_200_0.0003_7.5</text></g></g></g><g transform=\"translate(0,78)\"><path class=\"background\" d=\"M0,0h110.541015625v11h-110.541015625Z\" style=\"pointer-events: none; fill: none; opacity: 1;\"></path><g><g class=\"mark-symbol role-legend-symbol\" style=\"pointer-events: none;\"><path transform=\"translate(6,6)\" d=\"M-5,-5h10v10h-10Z\" style=\"fill: #b279a2; stroke-width: 1.5; opacity: 1;\"></path></g><g class=\"mark-text role-legend-label\" style=\"pointer-events: none;\"><text text-anchor=\"start\" transform=\"translate(16,9)\" style=\"font-family: sans-serif; font-size: 10px; fill: #000; opacity: 1;\">256_200_0.001_7.5</text></g></g></g><g transform=\"translate(0,91)\"><path class=\"background\" d=\"M0,0h110.541015625v11h-110.541015625Z\" style=\"pointer-events: none; fill: none; opacity: 1;\"></path><g><g class=\"mark-symbol role-legend-symbol\" style=\"pointer-events: none;\"><path transform=\"translate(6,6)\" d=\"M-5,-5h10v10h-10Z\" style=\"fill: #ff9da6; stroke-width: 1.5; opacity: 1;\"></path></g><g class=\"mark-text role-legend-label\" style=\"pointer-events: none;\"><text text-anchor=\"start\" transform=\"translate(16,9)\" style=\"font-family: sans-serif; font-size: 10px; fill: #000; opacity: 1;\">256_200_0.003_7.5</text></g></g></g><g transform=\"translate(0,104)\"><path class=\"background\" d=\"M0,0h110.541015625v11h-110.541015625Z\" style=\"pointer-events: none; fill: none; opacity: 1;\"></path><g><g class=\"mark-symbol role-legend-symbol\" style=\"pointer-events: none;\"><path transform=\"translate(6,6)\" d=\"M-5,-5h10v10h-10Z\" style=\"fill: #9d755d; stroke-width: 1.5; opacity: 1;\"></path></g><g class=\"mark-text role-legend-label\" style=\"pointer-events: none;\"><text text-anchor=\"start\" transform=\"translate(16,9)\" style=\"font-family: sans-serif; font-size: 10px; fill: #000; opacity: 1;\">256_500_0.0001_7.5</text></g></g></g><g transform=\"translate(0,117)\"><path class=\"background\" d=\"M0,0h110.541015625v11h-110.541015625Z\" style=\"pointer-events: none; fill: none; opacity: 1;\"></path><g><g class=\"mark-symbol role-legend-symbol\" style=\"pointer-events: none;\"><path transform=\"translate(6,6)\" d=\"M-5,-5h10v10h-10Z\" style=\"fill: #bab0ac; stroke-width: 1.5; opacity: 1;\"></path></g><g class=\"mark-text role-legend-label\" style=\"pointer-events: none;\"><text text-anchor=\"start\" transform=\"translate(16,9)\" style=\"font-family: sans-serif; font-size: 10px; fill: #000; opacity: 1;\">256_500_0.0003_7.5</text></g></g></g><g transform=\"translate(0,130)\"><path class=\"background\" d=\"M0,0h110.541015625v11h-110.541015625Z\" style=\"pointer-events: none; fill: none; opacity: 1;\"></path><g><g class=\"mark-symbol role-legend-symbol\" style=\"pointer-events: none;\"><path transform=\"translate(6,6)\" d=\"M-5,-5h10v10h-10Z\" style=\"fill: #4c78a8; stroke-width: 1.5; opacity: 1;\"></path></g><g class=\"mark-text role-legend-label\" style=\"pointer-events: none;\"><text text-anchor=\"start\" transform=\"translate(16,9)\" style=\"font-family: sans-serif; font-size: 10px; fill: #000; opacity: 1;\">256_500_0.001_7.5</text></g></g></g><g transform=\"translate(0,143)\"><path class=\"background\" d=\"M0,0h110.541015625v11h-110.541015625Z\" style=\"pointer-events: none; fill: none; opacity: 1;\"></path><g><g class=\"mark-symbol role-legend-symbol\" style=\"pointer-events: none;\"><path transform=\"translate(6,6)\" d=\"M-5,-5h10v10h-10Z\" style=\"fill: #f58518; stroke-width: 1.5; opacity: 1;\"></path></g><g class=\"mark-text role-legend-label\" style=\"pointer-events: none;\"><text text-anchor=\"start\" transform=\"translate(16,9)\" style=\"font-family: sans-serif; font-size: 10px; fill: #000; opacity: 1;\">256_500_0.003_7.5</text></g></g></g><g transform=\"translate(0,156)\"><path class=\"background\" d=\"M0,0h110.541015625v11h-110.541015625Z\" style=\"pointer-events: none; fill: none; opacity: 1;\"></path><g><g class=\"mark-symbol role-legend-symbol\" style=\"pointer-events: none;\"><path transform=\"translate(6,6)\" d=\"M-5,-5h10v10h-10Z\" style=\"fill: #e45756; stroke-width: 1.5; opacity: 1;\"></path></g><g class=\"mark-text role-legend-label\" style=\"pointer-events: none;\"><text text-anchor=\"start\" transform=\"translate(16,9)\" style=\"font-family: sans-serif; font-size: 10px; fill: #000; opacity: 1;\">64_100_0.0001_7.5</text></g></g></g><g transform=\"translate(0,169)\"><path class=\"background\" d=\"M0,0h110.541015625v11h-110.541015625Z\" style=\"pointer-events: none; fill: none; opacity: 1;\"></path><g><g class=\"mark-symbol role-legend-symbol\" style=\"pointer-events: none;\"><path transform=\"translate(6,6)\" d=\"M-5,-5h10v10h-10Z\" style=\"fill: #72b7b2; stroke-width: 1.5; opacity: 1;\"></path></g><g class=\"mark-text role-legend-label\" style=\"pointer-events: none;\"><text text-anchor=\"start\" transform=\"translate(16,9)\" style=\"font-family: sans-serif; font-size: 10px; fill: #000; opacity: 1;\">64_100_0.0003_7.5</text></g></g></g><g transform=\"translate(0,182)\"><path class=\"background\" d=\"M0,0h110.541015625v11h-110.541015625Z\" style=\"pointer-events: none; fill: none; opacity: 1;\"></path><g><g class=\"mark-symbol role-legend-symbol\" style=\"pointer-events: none;\"><path transform=\"translate(6,6)\" d=\"M-5,-5h10v10h-10Z\" style=\"fill: #54a24b; stroke-width: 1.5; opacity: 1;\"></path></g><g class=\"mark-text role-legend-label\" style=\"pointer-events: none;\"><text text-anchor=\"start\" transform=\"translate(16,9)\" style=\"font-family: sans-serif; font-size: 10px; fill: #000; opacity: 1;\">64_100_0.001_7.5</text></g></g></g><g transform=\"translate(0,195)\"><path class=\"background\" d=\"M0,0h110.541015625v11h-110.541015625Z\" style=\"pointer-events: none; fill: none; opacity: 1;\"></path><g><g class=\"mark-symbol role-legend-symbol\" style=\"pointer-events: none;\"><path transform=\"translate(6,6)\" d=\"M-5,-5h10v10h-10Z\" style=\"fill: #eeca3b; stroke-width: 1.5; opacity: 1;\"></path></g><g class=\"mark-text role-legend-label\" style=\"pointer-events: none;\"><text text-anchor=\"start\" transform=\"translate(16,9)\" style=\"font-family: sans-serif; font-size: 10px; fill: #000; opacity: 1;\">64_100_0.003_7.5</text></g></g></g><g transform=\"translate(0,208)\"><path class=\"background\" d=\"M0,0h110.541015625v11h-110.541015625Z\" style=\"pointer-events: none; fill: none; opacity: 1;\"></path><g><g class=\"mark-symbol role-legend-symbol\" style=\"pointer-events: none;\"><path transform=\"translate(6,6)\" d=\"M-5,-5h10v10h-10Z\" style=\"fill: #b279a2; stroke-width: 1.5; opacity: 1;\"></path></g><g class=\"mark-text role-legend-label\" style=\"pointer-events: none;\"><text text-anchor=\"start\" transform=\"translate(16,9)\" style=\"font-family: sans-serif; font-size: 10px; fill: #000; opacity: 1;\">64_200_0.0001_7.5</text></g></g></g><g transform=\"translate(0,221)\"><path class=\"background\" d=\"M0,0h110.541015625v11h-110.541015625Z\" style=\"pointer-events: none; fill: none; opacity: 1;\"></path><g><g class=\"mark-symbol role-legend-symbol\" style=\"pointer-events: none;\"><path transform=\"translate(6,6)\" d=\"M-5,-5h10v10h-10Z\" style=\"fill: #ff9da6; stroke-width: 1.5; opacity: 1;\"></path></g><g class=\"mark-text role-legend-label\" style=\"pointer-events: none;\"><text text-anchor=\"start\" transform=\"translate(16,9)\" style=\"font-family: sans-serif; font-size: 10px; fill: #000; opacity: 1;\">64_200_0.0003_7.5</text></g></g></g><g transform=\"translate(0,234)\"><path class=\"background\" d=\"M0,0h110.541015625v11h-110.541015625Z\" style=\"pointer-events: none; fill: none; opacity: 1;\"></path><g><g class=\"mark-symbol role-legend-symbol\" style=\"pointer-events: none;\"><path transform=\"translate(6,6)\" d=\"M-5,-5h10v10h-10Z\" style=\"fill: #9d755d; stroke-width: 1.5; opacity: 1;\"></path></g><g class=\"mark-text role-legend-label\" style=\"pointer-events: none;\"><text text-anchor=\"start\" transform=\"translate(16,9)\" style=\"font-family: sans-serif; font-size: 10px; fill: #000; opacity: 1;\">64_200_0.001_7.5</text></g></g></g><g transform=\"translate(0,247)\"><path class=\"background\" d=\"M0,0h110.541015625v11h-110.541015625Z\" style=\"pointer-events: none; fill: none; opacity: 1;\"></path><g><g class=\"mark-symbol role-legend-symbol\" style=\"pointer-events: none;\"><path transform=\"translate(6,6)\" d=\"M-5,-5h10v10h-10Z\" style=\"fill: #bab0ac; stroke-width: 1.5; opacity: 1;\"></path></g><g class=\"mark-text role-legend-label\" style=\"pointer-events: none;\"><text text-anchor=\"start\" transform=\"translate(16,9)\" style=\"font-family: sans-serif; font-size: 10px; fill: #000; opacity: 1;\">64_200_0.003_7.5</text></g></g></g><g transform=\"translate(0,260)\"><path class=\"background\" d=\"M0,0h110.541015625v11h-110.541015625Z\" style=\"pointer-events: none; fill: none; opacity: 1;\"></path><g><g class=\"mark-symbol role-legend-symbol\" style=\"pointer-events: none;\"><path transform=\"translate(6,6)\" d=\"M-5,-5h10v10h-10Z\" style=\"fill: #4c78a8; stroke-width: 1.5; opacity: 1;\"></path></g><g class=\"mark-text role-legend-label\" style=\"pointer-events: none;\"><text text-anchor=\"start\" transform=\"translate(16,9)\" style=\"font-family: sans-serif; font-size: 10px; fill: #000; opacity: 1;\">64_500_0.0001_7.5</text></g></g></g><g transform=\"translate(0,273)\"><path class=\"background\" d=\"M0,0h110.541015625v11h-110.541015625Z\" style=\"pointer-events: none; fill: none; opacity: 1;\"></path><g><g class=\"mark-symbol role-legend-symbol\" style=\"pointer-events: none;\"><path transform=\"translate(6,6)\" d=\"M-5,-5h10v10h-10Z\" style=\"fill: #f58518; stroke-width: 1.5; opacity: 1;\"></path></g><g class=\"mark-text role-legend-label\" style=\"pointer-events: none;\"><text text-anchor=\"start\" transform=\"translate(16,9)\" style=\"font-family: sans-serif; font-size: 10px; fill: #000; opacity: 1;\">64_500_0.0003_7.5</text></g></g></g><g transform=\"translate(0,286)\"><path class=\"background\" d=\"M0,0h110.541015625v11h-110.541015625Z\" style=\"pointer-events: none; fill: none; opacity: 1;\"></path><g><g class=\"mark-symbol role-legend-symbol\" style=\"pointer-events: none;\"><path transform=\"translate(6,6)\" d=\"M-5,-5h10v10h-10Z\" style=\"fill: #e45756; stroke-width: 1.5; opacity: 1;\"></path></g><g class=\"mark-text role-legend-label\" style=\"pointer-events: none;\"><text text-anchor=\"start\" transform=\"translate(16,9)\" style=\"font-family: sans-serif; font-size: 10px; fill: #000; opacity: 1;\">64_500_0.001_7.5</text></g></g></g><g transform=\"translate(0,299)\"><path class=\"background\" d=\"M0,0h110.541015625v11h-110.541015625Z\" style=\"pointer-events: none; fill: none; opacity: 1;\"></path><g><g class=\"mark-symbol role-legend-symbol\" style=\"pointer-events: none;\"><path transform=\"translate(6,6)\" d=\"M-5,-5h10v10h-10Z\" style=\"fill: #72b7b2; stroke-width: 1.5; opacity: 1;\"></path></g><g class=\"mark-text role-legend-label\" style=\"pointer-events: none;\"><text text-anchor=\"start\" transform=\"translate(16,9)\" style=\"font-family: sans-serif; font-size: 10px; fill: #000; opacity: 1;\">64_500_0.003_7.5</text></g></g></g></g></g></g></g></g></g></g></g></g></g></g></svg>"
      ],
      "text/plain": [
       "alt.Chart(...)"
      ]
     },
     "execution_count": 45,
     "metadata": {},
     "output_type": "execute_result"
    }
   ],
   "source": [
    "graph_f1"
   ]
  },
  {
   "cell_type": "code",
   "execution_count": null,
   "metadata": {},
   "outputs": [],
   "source": []
  }
 ],
 "metadata": {
  "kernelspec": {
   "display_name": "Python 3",
   "language": "python",
   "name": "python3"
  },
  "language_info": {
   "codemirror_mode": {
    "name": "ipython",
    "version": 3
   },
   "file_extension": ".py",
   "mimetype": "text/x-python",
   "name": "python",
   "nbconvert_exporter": "python",
   "pygments_lexer": "ipython3",
   "version": "3.8.5"
  }
 },
 "nbformat": 4,
 "nbformat_minor": 4
}
